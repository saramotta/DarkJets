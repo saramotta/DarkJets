{
 "cells": [
  {
   "cell_type": "markdown",
   "id": "1fcc5b0c",
   "metadata": {},
   "source": [
    "# A bow shocks near GRS 1915+105\n",
    "\n",
    "This notebook is based off the calculations presented in Gallo et al. 2004 to interpret the bow shock observed in the vicinity of Cyg X-1. Here calculations have been adapted to the case of GRS 1915+105, close to which we identified a bow shock similar to (albeit much larger than) that seen close to Cyg X-1. \n"
   ]
  },
  {
   "cell_type": "markdown",
   "id": "121094ef",
   "metadata": {},
   "source": [
    "### Some units:"
   ]
  },
  {
   "cell_type": "code",
   "execution_count": 1,
   "id": "72ea6a06",
   "metadata": {},
   "outputs": [],
   "source": [
    "import matplotlib\n",
    "import matplotlib.pyplot as plt\n",
    "import numpy as np\n",
    "import math \n",
    "\n",
    "# Some Constats and Units\n",
    "\n",
    "pc = 3.086E+18       # 1 pc in cm \n",
    "mh = 1.6735575E-24   # Hydrogen mass in g \n",
    "Jy = 1.0E-23\n",
    "kb = 1.380649E-16;    # K boltzman cgs\n",
    "h =  6.6261E-27;     # Plank constant cgs \n",
    "c = 3.0e10           # \n",
    "\n",
    "# Observation-sxpecific quantities\n",
    "\n",
    "nu = 1.2E+9;         # Observing frequency (L-band, MeerKAT, slightly lower than for Cyg X-1, Westerbork)\n",
    "bmaj = 6.7           # Beam major axis\n",
    "bmin = 6.7           # Beam minor axis\n",
    "\n",
    "# Source specific quantities\n",
    "\n",
    "d10 = 0.86;          # distance in units of 10 kpc, GRS 1915+105 --- KNOWN   \n",
    "incl = 70;           # Source inclination to line of sight\n",
    "F = 0.0003;          # Bow shock flux density in mJy -- MEASURED\n",
    "DR = 60              # Ring thickness, in arcsec (on average) -- MEASURED\n",
    "DRcm = (DR)*(0.048*d10*pc) # Ring thickness, in cm (on average)\n",
    "\n",
    "\n",
    "# Assumptions\n",
    "g = 6;               # Gaunt factor\n",
    "x = 0.02;            # Ionization fraction at T ~ 10^4\n",
    "T = 1.0E+4;          # Lower limit to gas temperature based on gas emissivity\n",
    "\n"
   ]
  },
  {
   "cell_type": "markdown",
   "id": "87c458a2",
   "metadata": {},
   "source": [
    "First, let us calculate the gas post-shock density. The **monochromatic emissitivty $\\epsilon_\\nu$ of ionised hydrogen due to thermal bremsstrahlung** is given by (Longair 1994). \n",
    "\n",
    " $$\\epsilon_\\nu = \\frac{L_\\nu}{V} = (6.8\\times 10^{-38}) g(\\nu, T) \\frac{n_e^2}{\\sqrt{T}} \\exp{(\\frac{h\\nu}{k_b T})} ~~ erg~s^{-1}~cm^{-3}~Hz^{-1}$$\n",
    "\n",
    "Note that in Kaiser+2004 the constant is ~$10^{50}$ because the number densities are expressed in particles per meter cube. $(m^3)^2 = 10^{12} (cm^3)^2$\n",
    "\n",
    "assuming that the number of electrons $n$ equals the number of protons (pure hydrogen gas), and that the density and temperature are uniform withing the considered volume. $\\epsilon_\\nu$ is the expression of the bremsstrahlung emissivity for a pure hydrogen gas emitting at a temperature T, and $V$ is the source unit volume, which is modelled as a cilinder with the same section area as the beam, and lenght equals to the ring thickness.\n",
    "\n",
    "$$V = b_{maj} \\times b_{min} \\times \\Delta R$$\n",
    "\n",
    "From the Bremsstrahlung emissivity we can derive the electron density, and from there the total number of particles based on the expected eionization fraction $x \\sim 0.02$ of a hydrogen gas emitting at T ~ 10$^4$K. \n"
   ]
  },
  {
   "cell_type": "code",
   "execution_count": 2,
   "id": "903267f6",
   "metadata": {},
   "outputs": [
    {
     "name": "stdout",
     "output_type": "stream",
     "text": [
      "DRcm ~ 7.643404799999999e+18\n",
      "Vol ~ 4.373182164218639e+54\n",
      "L14 ~ 2.6553383305976664e+19\n",
      "ne ~ 38.57712125637885\n",
      "nt ~ 1928.8560628189425\n"
     ]
    }
   ],
   "source": [
    "# Section 1: Calculating the gas density downstream with respect to the shock front, assuming bremsstralung emission\n",
    "\n",
    "L14 = F*Jy*4*math.pi*(d10*10*1000*pc)**2; # Monochormatic ring luminosity in erg/sec/Hz (Note that d10 needs to be multiplied by 10!)\n",
    "Vol = ((math.pi)*(bmaj/2)*(bmin/2))*(DR)*(0.048*d10*pc)**3; \n",
    "                                          # Volume = beam area * ring thickness\n",
    "VolT = 0.1*4/3*math.pi*(36.5/2*0.048*d10*pc)**3 # Volume based on Tetarenko+2018\n",
    "\n",
    "C = 6.8*1.0E-38\n",
    "ne = math.sqrt( (L14/Vol*(math.sqrt(T)))/(C*g*math.exp(h*nu/(kb*T ))) )  \n",
    "                                          # Electron density from Bremmsstralung emissivity for a pure hydrogen gas emitting at T\n",
    "nt = ne/x;                                # Total particle density, which equals the electron density divided by ionization fraction\n",
    "\n",
    "\n",
    "print('DRcm ~',DRcm)\n",
    "print('Vol ~', Vol)\n",
    "\n",
    "print('L14 ~', L14)\n",
    "print('ne ~',ne)\n",
    "print('nt ~',nt)\n"
   ]
  },
  {
   "cell_type": "markdown",
   "id": "8fcc55a1",
   "metadata": {},
   "source": [
    "Now let us measure the shock velocity. \n",
    "Kaiser & Alexander 1997 showed that the velocity of the bow shock is roughly equal to the advance speed of the end of the jet driving this shock:\n",
    "\n",
    "$$ \\dot{L} = \\sqrt{\\frac{16 k_b}{3 m_p}T}$$\n",
    "\n",
    "where $m_p$ is the mass of the proton. \n",
    "For a strong shock in a mono-atomic gas, the expansion velocity is set by the temperature of the shocked gas. If the shock is radiative the initial post-shock temperature can be higher than that of the thermalized, bremsstrahlung-emitting gas. A stringent constraint comes from X-ray observations. In analogy with the case of Cyg X-1 we set an upper limit to the gas temperature to T ~ 10$^6$ K. \n",
    "\n",
    "The resulting velocity (< 22 Km/s for the case of GRS 1915+105) implies that **the bow shock will be highly supersonic** with respect to the unshocked ISM. Note that the kinematic of the gas in the region is complex,  and hence T$_{min}$ could be overestimated."
   ]
  },
  {
   "cell_type": "code",
   "execution_count": 3,
   "id": "df9eb476",
   "metadata": {},
   "outputs": [
    {
     "name": "stdout",
     "output_type": "stream",
     "text": [
      "vd1 ~ 22.97795153666168\n",
      "vd2 ~ 209.7590396981683\n"
     ]
    }
   ],
   "source": [
    "# Section 2: Calculate post-shock velocity, set by lower and upper limit to gas temperature, \n",
    "# assuming ideal gas and a radiative shock\n",
    "\n",
    "Tmin = 1.2E+4;                                # Lower-limit to post-shock temperature -- ASSUMED (from arguments based on Bremsstrahlung nature of the emission)\n",
    "Tmax = 1.0E+6;                                # Upper-limit to post-shock temperature -- ASSUMED (based on similarities with Cyg X-1)\n",
    "\n",
    "vdmin = ( (16*Tmin*kb)/(3*mh) )**(1/2)/1.0E+5;# Lower-limit to Lj, post-shock velocity, in Km/s\n",
    "vdmax = ( (16*Tmax*kb)/(3*mh) )**(1/2)/1.0E+5;# Upper-limit to Lj, post-shock velocity, in Km/s\n",
    "\n",
    "vdmincm = vdmin*1.0E+5;                       # Lower limit to ring velocity, in cm/s \n",
    "vdmaxcm = vdmax*1.0E+5;                       # Upper limit to ring velocity, in cm/s \n",
    "\n",
    "print('vd1 ~',vdmin)\n",
    "print('vd2 ~',vdmax)\n"
   ]
  },
  {
   "cell_type": "markdown",
   "id": "5ab65f3b",
   "metadata": {},
   "source": [
    "Finally, let us characterize the jets. The interaction sites between the jets and the surrounding medium can be used as calorimeters to estimate the jets’ $(power \\times lifetime)$ product. This is commonly done in the case of AGN, where hot spots are produced at the shock sites. \n",
    "We assume that the minimum temperature of the gas is $T > 10^4$K, a typical temperature above which the cooling time becomes critically short, and below which the ionization fraction becomes too low for the ring to emit observable bremsstrahlung radiation. This hypothesis is supported by observations of a H92$\\alpha$ recombination line with a  width ~25Km/s in the IRAS 19132+1035 source, which corresponds to an hot spot (Rodriguez & Mirabel 1998).  **This hypothesis could be further confirmed by measurements of the spectral slope**  (a flat radio spectrum would strongly suggest bremsstrahlung emission from a gas of at least $T>10^4$K). \n",
    "\n",
    "Kaiser+2004 showed that the jet length within the lobe grows with the time $t$ in such\n",
    "a way that\n",
    "\n",
    "$$ Lj = C1 ~(\\frac{Q_0}{\\rho_0})^{1/5}~ t^{3/5}$$ \n",
    "\n",
    "and therefore \n",
    "\n",
    "$$ \\dot{L_j} = \\frac{3 Lj}{5 t}$$\n",
    "\n",
    "which implies\n",
    "\n",
    "$$ t = \\frac{3 L_j}{5 \\dot{L_j}} $$\n",
    "\n",
    "that can be used to estimate the age of the jet, which is approximately 1 Myr for a gas at T ~ 10$^4$K, and down to a factor of ~10 smaller for a gas a T ~ 10$^6$K.\n",
    "c1 is a dimensionless constant that depends on the thermodynamical properties of the jet material, and on the aspect ratio, R, of the lobe inflated by the jet, **R is the length of the lobe divided by its width**. "
   ]
  },
  {
   "cell_type": "code",
   "execution_count": 4,
   "id": "5b28b959",
   "metadata": {},
   "outputs": [
    {
     "name": "stdout",
     "output_type": "stream",
     "text": [
      "lobesizepc ~ 29.721600000000002\n",
      "discm projected ~ 1.299378816e+20\n",
      "discm de-projected ~ 1.3827700540132681e+20\n",
      "dispc ~ 42.1056\n",
      "tminMyr ~ 0.12542205810219262\n",
      "tmaxMyr ~ 1.1449415071882414\n"
     ]
    }
   ],
   "source": [
    "# Section 3: the jet age\n",
    "# Calculate and convert some lobe-specific quantitities\n",
    "\n",
    "theam = 12;                                   # Lobe angular size (diameter) in arcmin (projected) GRS 1915 --- MEASURED\n",
    "\n",
    "lobesizepc = (theam*60)*0.048*d10             # Lobe radius in pc GRS 1915+105 --- MEASURED\n",
    "lobesizecm = lobesizepc*pc                    # Lobe radius in cm GRS 1915+105\n",
    "\n",
    "disasec = 17;                                 # Lobe-source angular distance in arcmin (projected) GRS 1915+105 --- MEASURED\n",
    "dispc = (disasec*60)*0.048*d10;               # source-ring separation (projected), in pc (= Lj, pc)\n",
    "discmP = dispc*pc;                            # source-ring separation, (projected) in cm\n",
    "discm = dispc*pc/math.sin(incl*math.pi/180);  # source-ring separation, DE-PROJECTED in cm (= Lj, cm)\n",
    "\n",
    "print('lobesizepc ~', lobesizepc)\n",
    "print('discm projected ~',discmP)\n",
    "print('discm de-projected ~',discm)\n",
    "print('dispc ~',dispc)\n",
    "\n",
    "# Calculate the jet age\n",
    "\n",
    "tsmax = 3/5*(discm/vdmincm)                      # Lower limit to time in s\n",
    "tmaxMyr = tsmax/(365.*24.*60*60)/1.0E+6          # Lower limit to time in Myrs\n",
    "\n",
    "tsmin = 3/5*(discm/vdmaxcm)                      # Upper limit to time in s\n",
    "tminMyr = tsmin/(365.*24.*60*60)/1.0E+6          # Upper limit to time in Myrs\n",
    "\n",
    "print('tminMyr ~', tminMyr)\n",
    "print('tmaxMyr ~', tmaxMyr)\n"
   ]
  },
  {
   "cell_type": "markdown",
   "id": "4d56b25d",
   "metadata": {},
   "source": [
    "We note here that based on the results of the sub-mm observations reported by Tetarenko et al. 2018 (https://ui.adsabs.harvard.edu/abs/2018MNRAS.475..448T/) the shock velocity estimated from the SiO detection is ~ 1/Km/s, which implies a jet of approximately 25 Myr (see below section **\"Comparison with Tetarenko+2018\"**)."
   ]
  },
  {
   "cell_type": "markdown",
   "id": "5789b2f5",
   "metadata": {},
   "source": [
    "Assuming that the jet direction remains constant over time,  and that the jet is colliding with a medium of densit $\\rho_0$, the power Q$_{jet}$ being transported by the jets averaged over its lifetime, **solely dependent on the properties of the ISM** at the interaction site. Combining the equations for $L_j$ and $\\dot{L_j}$ we obtain: \n",
    "\n",
    "\n",
    "$$ Q_{jet} = (\\frac{5}{3})^3~\\frac{\\rho_0}{C1^5}L_j^2 ~\\dot{L_j}^3$$\n",
    "\n"
   ]
  },
  {
   "cell_type": "code",
   "execution_count": 5,
   "id": "560fe518",
   "metadata": {},
   "outputs": [
    {
     "name": "stdout",
     "output_type": "stream",
     "text": [
      "Pjetmin ~  1.1873565223846654e+39\n",
      "Pjetmax ~  9.03252709876346e+41\n"
     ]
    }
   ],
   "source": [
    "# Section 4: the jet energy transport rate\n",
    "\n",
    "#For the time being let us assume C1 = 1\n",
    "C1 = 1\n",
    "\n",
    "rho = nt*1.370*mh;                    # Density of the gas down-stream of the shock, in cm-3 (calculated above with the calorimetry method above)\n",
    "rho0 = rho/4;                         # Density of the gas, up-stream of the shock, in cm-3\n",
    "\n",
    "Pjetmin = (5/3)**3 * rho0/C1*discm**2*vdmincm**3   # Upper limit to time averaged jet power \n",
    "Pjetmax = (5/3)**3 * rho0/C1*discm**2*vdmaxcm**3   # Lower limit to time averaged jet power \n",
    "\n",
    "#Lj = C1*(Pjetmin/rho0)**(1/5)*tsmax**(3/5)\n",
    "\n",
    "print('Pjetmin ~ ',Pjetmin)\n",
    "print('Pjetmax ~ ',Pjetmax)\n",
    "#print('Lj ~ ',Lj/pc)\n",
    "\n"
   ]
  },
  {
   "cell_type": "markdown",
   "id": "3206cdc2",
   "metadata": {},
   "source": [
    "### A comparison with Kaiser+2004 "
   ]
  },
  {
   "cell_type": "code",
   "execution_count": 6,
   "id": "dff26021",
   "metadata": {},
   "outputs": [
    {
     "name": "stdout",
     "output_type": "stream",
     "text": [
      "--- From Kaiser+2004 ---\n",
      "Lj [pc] ~ 71.38504497768419\n",
      "npar [1/cm3] ~ 29.74538294649124\n",
      "t [Myr] ~ 1.8303857686585692\n",
      "Q0 [erg/s] ~ 5.712234654542957e+36\n",
      "L15 [erg/s] ~ 5.310676661195333e+21\n",
      "VolK [cm3]~  5.26361416170962e+55\n",
      "\n",
      "--- This work ---\n",
      "Lj [pc] ~ 44.807843616761765\n",
      "ne [1/cm3] ~ 9.644280314094713\n",
      "nt [1/cm3] ~ 1928.8560628189425\n",
      "t [Myr] ~ 1.1449415071882414\n",
      "Q0 [erg/s] ~ 1.1873565223846654e+39\n",
      "L14 [erg/s] ~ 2.6553383305976664e+19\n",
      "Vol [cm3]~  4.373182164218639e+54\n"
     ]
    }
   ],
   "source": [
    "# From Kaiser+2004\n",
    "D = 8.6\n",
    "f = 1\n",
    "incl = 70\n",
    "\n",
    "LjK = 7.8*D/math.sin(incl*math.pi/180)\n",
    "rho0K = 2*(D*f)**(-0.5)*1.0e-22\n",
    "tK = 2*D/math.sin(incl*math.pi/180)*1.0e+5\n",
    "Q0K = 2.0*D**(3/2)*f**(-0.5)/math.sin(incl*math.pi/180)**2*1.0e+35\n",
    "#pK = 0.2*(D*f)**(-0.5)*1.0e-10\n",
    "#BminK = 18*(D*f)**(-1/4)*(k+1)**(-1/2)\n",
    "#S15K = 0.08*(D*f**(-7))**(1/8)*math.sin(incl*math.pi/180)**(-2)*(1+k)**(-7/4)\n",
    "\n",
    "L15K = 60*0.001*Jy*4*math.pi*(d10*10*1000*pc)**2 # This is from Rodriguez & Remillard 1998\n",
    "VolK = 4/3*math.pi*(36.5/2*0.048*d10*pc)**3\n",
    "neK = math.sqrt( (L14/Vol*(math.sqrt(T)))/(C*g*math.exp(h*nu/(kb*T ))) )\n",
    "\n",
    "print('--- From Kaiser+2004 ---' )\n",
    "print('Lj [pc] ~',LjK)                   # Jet length\n",
    "print('npar [1/cm3] ~',rho0K/mh/1.37)    \n",
    "print('t [Myr] ~',tK/1000000)\n",
    "print('Q0 [erg/s] ~',Q0K)\n",
    "print('L15 [erg/s] ~',L15K)\n",
    "print('VolK [cm3]~ ', VolK)\n",
    "\n",
    "print('')      \n",
    "print('--- This work ---' )\n",
    "\n",
    "print('Lj [pc] ~',discm/pc)\n",
    "print('ne [1/cm3] ~', ne/4) #pre-shock electron density! \n",
    "print('nt [1/cm3] ~', nt)\n",
    "print('t [Myr] ~',tmaxMyr)\n",
    "print('Q0 [erg/s] ~',Pjetmin)\n",
    "print('L14 [erg/s] ~',L14)\n",
    "print('Vol [cm3]~ ', Vol)\n",
    "\n"
   ]
  },
  {
   "cell_type": "markdown",
   "id": "680aed0d",
   "metadata": {},
   "source": [
    "In Kaiser+2004 the volume is larger than in our case by a factor ~ 12 (~1.0e+55 vs ~1.0e+54 cm^3), and so is the luminosit, by a factor ~200 (5e+21 vs 2.6e+19). Since the electron density is proportional to sqrt(Luminosity/Volume), the electron density in Kaiser+2004 is larger by a factor ~sqrt(200/12) ~ 4. \n",
    "\n",
    "However, the ionization fraction does not enter the calulation in Kaiser+2004 (why?) and therefore the actual density considered is significantly lower than what we use, 29/cm3 (so equal to the electron density) vs. 1928 (ne/0.02),  a factor 4/0.02. The density is the only parameter that determines Q0, and it introduces a factor 100 of difference, which is the difference between the power estimated by Kaiser+2004 and by us (1.0e+36 vs 1.0e+39). \n",
    "\n",
    "Note: There is an additional factor ~ 1.5 in Lj from Table 4 in Kaiser+2004 (i.e. Lj is larger than ours), which **I think** comes down to C1 being ~ 1.5 and not 1. "
   ]
  },
  {
   "cell_type": "markdown",
   "id": "a71e63f0",
   "metadata": {},
   "source": [
    "### A comparison with Tetarenko+2018"
   ]
  },
  {
   "cell_type": "code",
   "execution_count": 7,
   "id": "902af841",
   "metadata": {},
   "outputs": [
    {
     "name": "stdout",
     "output_type": "stream",
     "text": [
      "LjT [pc] 45.07754971420974\n",
      "VolT [cm3]~ 5.4255576800000004e+54\n",
      "ntT [1/cm3] ~ 18171.438752857877\n",
      "Q0T [erg/s]~ 3.7325807723143046e+36\n",
      "Ldotj [erg/s] ~ 26.466765300238063\n"
     ]
    }
   ],
   "source": [
    "D = 8.6\n",
    "C1 = 1\n",
    "\n",
    "fT = 0.1                                          # Filling factor (~ for a hollow sphere)\n",
    "LjT = 1.52e+19*(8.6/math.sin(incl*math.pi/180))   # De-projected jet lenght Lj\n",
    "VolT = 8.53e+52*D**3*fT                           # Volum of the cavity\n",
    "ntT = 2.65e-18*D**(-3)/fT/mh/1.37                 # Gas density in the medium\n",
    "vcm = 1*100000                                    # Shock velocity\n",
    "Q0T = (5/3)**3 * ntT*1.37*mh/C1*LjT**2*vcm**3     # Time averaged jet power\n",
    "Ldotj = 3/5*(LjT/vcm)/(365.*24.*60*60)/1.0E+6     # Jet age in Myr\n",
    "\n",
    "\n",
    "\n",
    "print('LjT [pc]', LjT/pc)\n",
    "print('VolT [cm3]~',VolT)\n",
    "print('ntT [1/cm3] ~', ntT)\n",
    "print('Q0T [erg/s]~',Q0T)\n",
    "print('Ldotj [erg/s] ~',Ldotj)"
   ]
  },
  {
   "cell_type": "markdown",
   "id": "549a9227",
   "metadata": {},
   "source": [
    "Tetarenko+2018 used the same geometry followed by Kaiser+2004, and actually models exactly the same feature (IRAS 19132+1035), but assumes f = 0.1 (hollow sphere instead of a simple sphere), so that the volume is almost idential to what we use. The density however is estimated from the molecular gas contained by the radio contunuum feature, and is therefore calculated as mass/volume. The density in this case is a factor of ~ 10 higher than in our case. Also, they use a shock velocity of 1 Km/s (from FWHM of SiO detection), vs the 23 Km/s we get from Kaiser+2004 (shock velocity equals the velocity of jet end into the ISM). So the jet power in their case is a factor of 10/(20)^3 ~ 0.00125 lower.\n",
    "\n",
    "Now, the problem is that in Tetarenko+2018 the jet power estimate is 8.4e+32 erg/s, which is over a factor 10^4 lower than what we get applying what described in their paper (~4e+36 erg/s). Not sure where this comes from. It could be due to the constant C1, which however should be around 1, or 2 at most. "
   ]
  },
  {
   "cell_type": "markdown",
   "id": "984225c3",
   "metadata": {},
   "source": [
    "# Comments\n",
    "\n",
    "The size of the bubble carved by the jet from GRS 1915+105 is approximately 5 times larger than that near Cyg X-1, considering the inclination angle of the source (its orbital plane at least, assuming a jet perpendicular to the disc, which is not necessarily correct) to the line of sight.\n",
    "Assuming that the bow-shock emission is predominantly from Bremsstrahlung (which is not necessarily true), the time-averaged energy emission rate from GRS 1915+105 as inferred from the bow-shock emission is at least of the order 1E+39 erg/s, i.e. over two orders of magnitude larger than what we observe for Cyg X-1.\n",
    "\n",
    "Given the above, the age of the shock is between 0.1 and 1 Myr. The bow shock clearly must have formed much earlier than the recent outuburst (which lasted only 30 years). If the bow shock started forming when the source first became active, then the system has only spent a short time accreting, which impplies that there might have not been time for the black hole to spin up significantly (the companion is a red giant star of mass 0.8 Msun). This may imply that either the black hole formed with a very high spin, or the current measurements of the spins are wrong. However, according to Podsiadlowski, Rappaport & Han 2002 (https://ui.adsabs.harvard.edu/abs/2003MNRAS.341..385P/abstract)  shows that the initial mass of the donor in GRS 1915+105 may have been as high as ∼6 MSun and the black hole may have accreted up to ∼4 MSun from its companion, being spun up significantly in the process."
   ]
  },
  {
   "cell_type": "markdown",
   "id": "592cd1ad",
   "metadata": {},
   "source": [
    "**In remains to clarify where the difference with Tetarenko+2018 comes form.**\n",
    "One difference is surely the shock velocity, which is a factor of at least 20 smaller for them, and the particle density, but that should give only a difference of 10^3, we have a factor 10^7 difference, which I do not undertsand (unless it is due to the constant in the jet power, but that seems unlikely). "
   ]
  },
  {
   "cell_type": "markdown",
   "id": "c1f0e3e5",
   "metadata": {},
   "source": [
    "# Some additional info and calculations"
   ]
  },
  {
   "cell_type": "markdown",
   "id": "65c0ad96",
   "metadata": {},
   "source": [
    "### Magnetic field and equipartition\n",
    "\n",
    "In cgs units the equipartition field is given by\n",
    "\n",
    "$$ B_{\\rm min E, cgs} = 9 \\times 10^3 \\left( \\frac{\\eta L_{\\nu}}{V} \\right)^{2/7} \\nu^{1/7} $$\n",
    "\n",
    "Gauss.\n"
   ]
  },
  {
   "cell_type": "code",
   "execution_count": 8,
   "id": "7feb1855",
   "metadata": {},
   "outputs": [
    {
     "name": "stdout",
     "output_type": "stream",
     "text": [
      "B [microG] ~ 15.465376115619936\n"
     ]
    }
   ],
   "source": [
    "# Equipartition B field\n",
    "\n",
    "eta = 1.0\n",
    "\n",
    "Beq=(9e+3) * ((eta*L14)/Vol)**(2.0/7.0) * nu**(1.0/7.0)\n",
    "\n",
    "print('B [microG] ~', Beq*1000000)"
   ]
  },
  {
   "cell_type": "markdown",
   "id": "0770f82e",
   "metadata": {},
   "source": [
    "### The north-west jet feature in IRAS 19132+1035\n",
    "\n",
    "The radio maps of IRAS 19132+1035 show a feature to the northwest, reminescent of a jet beam, with a steep radio spectrum, which could be interpreted as synchrotron emission. This implies the presence in this feature of a relativistic plasma, magnetic field and a population of relativistic electrons (we negletcing any contribution by protons to the energy content of the emission). For minimum energy conditions, and for an emission region\n",
    "of monochromatic luminosity L and volume V the strength of the magnetic field is given by:\n",
    "\n",
    "$$ B_{\\rm min E, cgs} = 9 \\times 10^3 \\left( \\frac{\\eta L_{\\nu}}{V} \\right)^{2/7} \\nu^{1/7} $$\n",
    "\n",
    "Gauss. \n",
    "G($\\alpha$) depends on the observing frequency, and (less prominently) on the cutoffs of the synchrotron spectrum, $\\nu_{min}$ and $\\nu_{max}$.\n",
    "\n",
    "We assume a cylindrical geometry for the feature, with a radius equivalent to 8.12 arcsec/2 = 4.6 arcsec and a length of 17.5 arcsec. For minimum energy conditions the total pressure in this feature is then given by:\n",
    "\n",
    "$$ p = \\frac{7}{9} \\frac{B^2_{min}}{8\\pi}(k+1)$$\n"
   ]
  },
  {
   "cell_type": "code",
   "execution_count": 9,
   "id": "6f0efd7d",
   "metadata": {},
   "outputs": [
    {
     "name": "stdout",
     "output_type": "stream",
     "text": [
      "Vjf [cm3]~ 1.1875245041262012e+54\n",
      "B [microG] ~ 22.44497130597018\n",
      "Pmin [erg cm-3]~ 1.5590275146532016e-11\n"
     ]
    }
   ],
   "source": [
    "# Volume of the region\n",
    "Voljf = (math.pi)*(4.6*d10*0.048*pc)**2 *(8.12*d10*0.048*pc)/math.sin(incl*math.pi/180)  \n",
    "\n",
    "# Equipartition B field\n",
    "eta = 1.0\n",
    "Beq=(9e+3) * ((eta*L14)/Voljf)**(2.0/7.0) * nu**(1.0/7.0)\n",
    "\n",
    "# Equipartition pressure\n",
    "k = 0\n",
    "peq = 7/9*(Beq**2)/(8*math.pi)*(k+1)\n",
    "\n",
    "print('Vjf [cm3]~', Voljf)\n",
    "print('B [microG] ~', Beq*1000000)\n",
    "print('Pmin [erg cm-3]~', peq)"
   ]
  },
  {
   "cell_type": "markdown",
   "id": "93d0b57b",
   "metadata": {},
   "source": [
    "### Spectral slope bow shock \n",
    "\n",
    "We are assuming\n",
    "$S_{\\nu} \\propto \\nu^{\\alpha}$ so alpha satisfies $\\alpha = \\frac{\\log \\left( \\frac{S_{\\nu_1}}{S_{\\nu_2}} \\right)}{\\log \\left( \\frac{\\nu_1}{\\nu_2} \\right)}$"
   ]
  },
  {
   "cell_type": "code",
   "execution_count": 10,
   "id": "1dd5afcd",
   "metadata": {},
   "outputs": [],
   "source": [
    "# Bow shock\n",
    "#S1 = 0.252 \n",
    "#S2 = 0.132\n",
    "\n",
    "# IRAS jet feature\n",
    "S1 = 3.17\n",
    "S2 = 1.72\n",
    "\n",
    "# IRAS peak\n",
    "#S1  = 11.2\n",
    "#S2 = 5.8\n",
    "\n",
    "dS = ((S1 + S2)/2)*0.01\n",
    "dnu = 0.05\n",
    "nu1= 1.1234\n",
    "nu2= 1.4444\n",
    "alpha = (math.log10(S1/S2))/(math.log10(nu1/nu2))\n",
    "dalpha = 1/(math.log10(nu2/nu1))*math.sqrt( (dS/S2)**2 + (dS/S1)**2 )"
   ]
  },
  {
   "cell_type": "code",
   "execution_count": 11,
   "id": "fa8fed61",
   "metadata": {},
   "outputs": [
    {
     "name": "stdout",
     "output_type": "stream",
     "text": [
      "alpha ~ -2.432646549606554 +/- 0.14816608877011148\n"
     ]
    }
   ],
   "source": [
    "print('alpha ~',alpha,'+/-',dalpha)"
   ]
  },
  {
   "cell_type": "code",
   "execution_count": null,
   "id": "d0154df4",
   "metadata": {},
   "outputs": [],
   "source": []
  }
 ],
 "metadata": {
  "kernelspec": {
   "display_name": "Python 3 (ipykernel)",
   "language": "python",
   "name": "python3"
  },
  "language_info": {
   "codemirror_mode": {
    "name": "ipython",
    "version": 3
   },
   "file_extension": ".py",
   "mimetype": "text/x-python",
   "name": "python",
   "nbconvert_exporter": "python",
   "pygments_lexer": "ipython3",
   "version": "3.9.4"
  }
 },
 "nbformat": 4,
 "nbformat_minor": 5
}
