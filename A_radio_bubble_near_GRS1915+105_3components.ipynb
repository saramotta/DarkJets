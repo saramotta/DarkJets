{
 "cells": [
  {
   "cell_type": "markdown",
   "id": "1fcc5b0c",
   "metadata": {},
   "source": [
    "# A bow shocks near GRS 1915+105\n",
    "\n",
    "This notebook is partly based off the calculations presented in Gallo et al. 2004 to interpret the bow shock observed in the vicinity of Cyg X-1. Calculations have been adapted to the case of GRS 1915+105, near which we identified a bow shock similar to (albeit much larger than) that seen close to Cyg X-1. \n",
    "Significant additions have been made based on (i) Kaiser et al. 2004, who aready modelled a structure near GRS 1915+105 observed in radio, but did not see any large-scale bow shock due to the limited sensitivity of the VLA images they used; and (ii) the python ThunderBooks by R. Fender (https://github.com/robfender/ThunderBooks), which have been used to clarify some of the calculations below. \n",
    "\n",
    "A significant difference with respect to Gallo et al. 2004 is that we make the (reasonable) assumption that the hydrogen emitting the bow shock radiation is fully ionized for the densities we are dealing with. This is supported by Saha's equation that predicts that with densities of the order 0.1-1000 particles per unit volume all hydrogen should be ionized at a temperature of ~10000K. In order to have a ionization fraction different from 1, the density has to be at least 1E+06 particles/cm$^3$, which is way higher than the average ISM density.  "
   ]
  },
  {
   "cell_type": "markdown",
   "id": "0599dd66",
   "metadata": {},
   "source": [
    "For interpreting the interactions of the large-scale jet structure of GRS 1915+105 with its environment we use the\n",
    "model developed in Kaiser & Alexander (1997, KA97) for the jets of radio galaxies, and adapted for galactic sources in and Kaiser et al. (2004). We assume that the supersonic jets end in strong shock fronts at the location where they impact on the ambient gas. The gas coming up the jets inflate two lobes that are overpressured with respect to the environment. The lobes therefore expand sideways and thus a bow shock is driven into the surrounding ISM. We identify three regions: \n",
    "\n",
    "a) **IRAS 19132+1035** corresponds to the compressed and shock-heated ISM in front of the jet.\n",
    "\n",
    "b) **a non thermal cylindrical feature** near IRAS 19132+1035 an to its noth-east edge, pointing towards GRS 1915+105, which corresponds to the strong shock that originates at the end of the postulated large-scale jet, which in AGN is identified with a hot spot.\n",
    "\n",
    "c) **A radio lobe**, clearly detected in the MeerKAT image at an average flux density of 0.2 mJy, which corresponds to the edge-brightened radio lobe inflated by the jet material. In the old VLA data such a bow shock was not detected due to limited sensitivity (interestingly, it was predicted by Kaiser et al. 2004, at approximately the currently observed flux density).\n",
    "\n",
    "- - - - - \n",
    "\n",
    "In order to determine the properties of the jet, we will do as follows.\n",
    "\n",
    "(1) We **derive the density of the shocked material** in IRAS 19132, assuming that the gas is fully ionised and that the radiation is Bremsstrahlung for a minimum temperature of T ~ 10$^4$K, and modelling the IRAS region as a solid sphere. Then we **infer the pre-shock ISM density** knowing that the it should be about a factor of 4 smaller than in the shocked region. \n",
    "\n",
    "(2) We model the non-thermal cylindrical feature at the north edge of IRAS and we **derive the minimum energy magnetic field and pressure** assuming synchotron emission (based off results in the litterature that indicate a steep spectrum).\n",
    "\n",
    "(3) We **estimate the jet advancing velocity** assuming that it equals the velocity of the bow shock in the ISM. From here we can **estimate the jet age**. \n",
    "\n",
    "(4) We **estimate the jet energy transport rate** using the density derived above, and the lobe aspect ratio measured from the MeerKAT image. \n",
    "\n",
    "(5) Finally, we study the emission properties of the jets, and we **infer the magnetic field and pressure from the radio lobes**, and the **pressure within the non-thermal region** at the north side of IRAS, and compare the values to check the self consistency of the model.\n",
    "\n",
    "(6) As a check, we estimate the jet transfer rate also via two simplified methods, basedo on (i) the estimate of the hentalphy on the jet-ISM system; (ii) a different use of the minimum energy argument previously applied to AGN. \n",
    "\n",
    "\n",
    "Note that the treatment below is based on a minimum Bremstrahlung temperature of 1.2e+4 K, which affects the electron density and the jet velocity, as well as the jet power transfer rate. This is done to obtain a strict lower limit to the transferred jet power Q$_{jet}$. At the end of the notebook we will repeat the calculation using a reasonable temperature range in a MC simulation.\n",
    " "
   ]
  },
  {
   "cell_type": "markdown",
   "id": "121094ef",
   "metadata": {},
   "source": [
    "### Some units:"
   ]
  },
  {
   "cell_type": "code",
   "execution_count": 47,
   "id": "9bef778a",
   "metadata": {},
   "outputs": [],
   "source": [
    "import matplotlib_inline\n",
    "import matplotlib.pyplot as plt\n",
    "import numpy as np\n",
    "\n",
    "%matplotlib widget\n",
    "# Some Constats and Units\n",
    "\n",
    "pc = 3.086E+18       # 1 pc, cm \n",
    "mh = 1.6735575E-24   # Hydrogen mass, g \n",
    "me = 9.1093837E-28   # Electron mass, g \n",
    "eV = 1.602176634E-12 # ElectronVolt, erg\n",
    "Jy = 1.0E-23         # 1 Jansky (erg/s/cm2/Hz), cgs\n",
    "kb = 1.380649E-16;   # K boltzman, cgs\n",
    "h =  6.6261E-27;     # Plank constant, cgs \n",
    "c = 3.0e10           # Speed of light, cgs \n",
    "Na = 6.022E+23       # Avogadro's number\n",
    "Z=1                  # Hydrogen atomic number\n",
    "e = 4.8e-10          # Electric charge cm3/2 g1/2 s-1\n",
    "\n",
    "# Some useful functions\n",
    "\n",
    "# Gaunt factor \n",
    "def gaunt(nu, T, z):\n",
    "    # The Gaunt factor\n",
    "    F1 = 128.*(1**2)*(kb**3)*(T**3)    \n",
    "    F2 = me * (e**4)*(nu**2)*(z**2)\n",
    "    \n",
    "    G = (3**0.5 / (2.*np.pi)) * (np.log(F1/F2) - 0.5772156649**2)\n",
    "    \n",
    "    return G\n",
    "\n",
    "# Electron density (cylinder - bow shock)\n",
    "def ne(d,F,DR,T_axis,nu,Z):\n",
    "    L14 = F*Jy*4*np.pi*(d*1e3*pc)**2 # Monochormatic ring luminosity in erg/sec/Hz\n",
    "    Vol = ((np.pi)*(bmaj/2)*(bmin/2))*(DR)*(d*1e3*4.8*1e-6*pc)**3 #Unit volume of the bowshock in cm3\n",
    "    kappa_nu = L14 / Vol\n",
    "    C_radio = 6.8*1e-38\n",
    "    ne_squared = kappa_nu/(C_radio*(T_axis**-0.5) * gaunt(nu, T_axis, Z))\n",
    "    n_e = (ne_squared**0.5) # units: cm^-3\n",
    "    return n_e\n"
   ]
  },
  {
   "cell_type": "code",
   "execution_count": 2,
   "id": "cb4a6785",
   "metadata": {},
   "outputs": [
    {
     "name": "stdout",
     "output_type": "stream",
     "text": [
      "Lobe diameter [pc] (lobesizepc) = 2.477e+01\n",
      "Lobe diameter [cm] (lobesizecm) = 7.643e+19\n",
      "Source-ring separation (projected) [pc] (dispcP) ~ 4.211e+01\n",
      "Source-ring separation (projected) [cm] (discmP) ~ 1.299e+20\n",
      "Source-ring separation (de-projected) [pc] (dispc) ~ 4.862e+01\n",
      "Source-ring separation (de-projected) [cm] (discm = Lj)~ 1.500e+20\n",
      "Tmin ~ 10000.0\n",
      "Tmax ~ 3000000.0\n"
     ]
    }
   ],
   "source": [
    "# Some Constats and Units\n",
    "\n",
    "pc = 3.086E+18       # 1 pc, cm \n",
    "mh = 1.6735575E-24   # Hydrogen mass, g \n",
    "me = 9.1093837E-28   # Electron mass, g \n",
    "eV = 1.602176634E-12 # ElectronVolt, erg\n",
    "Jy = 1.0E-23         # 1 Jansky (erg/s/cm2/Hz), cgs\n",
    "kb = 1.380649E-16;   # K boltzman, cgs\n",
    "h =  6.6261E-27;     # Plank constant, cgs \n",
    "c = 3.0e10           # Speed of light, cgs \n",
    "Na = 6.022E+23       # Avogadro's number\n",
    "Z=1                  # Hydrogen atomic number\n",
    "e = 4.8e-10          # Electric charge cm3/2 g1/2 s-1\n",
    "\n",
    "# Observation-specific quantities\n",
    "\n",
    "nu = 1.2839E+9;      # Observing frequency, in Hz (L-band, MeerKAT, slightly lower than for Cyg X-1, Westerbork)\n",
    "bmaj = 6.6           # Beam major axis, arcsec\n",
    "bmin = 6.6           # Beam minor axis, arcsec\n",
    "\n",
    "# Source specific quantities\n",
    "\n",
    "d10 = 0.86;          # distance in units of 10 kpc, GRS 1915+105 --- KNOWN   \n",
    "incl = 60;           # Source inclination to line of sight, deg --- KNOWN (Reid et al. 2014)\n",
    "incl_err = 5         # Error on inclination angle\n",
    "o_a = 30             # Jet opening angle\n",
    "o_a_err = 0          # Jet opening angle error\n",
    "Flobe = 0.00015;     # Bow shock/lobe flux density, Jy/beam -- MEASURED\n",
    "Flobe_err = Flobe/10; \n",
    "Firas = 0.057;       # IRAS source INTEGRATED flux density, Jy -- MEASURED \n",
    "Firas_err = Firas/10\n",
    "\n",
    "Fcyl = 0.0052;       # Northern feature flux density, Jy -- MEASURED\n",
    "DR = 60              # Ring thickness, arcsec (on average) -- MEASURED\n",
    "DR_err = 0.3\n",
    "DRcm = (DR)*(0.048*d10*pc) # Ring thickness, in cm (on average)\n",
    "Riras = 36           # IRAS source angular size (diameter), arcsec -- MEASURED \n",
    "Riras_err = bmaj/2\n",
    "Rirascm = Riras*0.048*d10*pc # IRAS source size (diameter), cm\n",
    "\n",
    "theam = 10;                                   # Lobe angular size (diameter ortogonal to jet direction) in arcmin (projected) GRS 1915 --- MEASURED\n",
    "lobesizepc = (theam*60)*0.048*d10             # Lobe diameter in pc GRS 1915+105 --- MEASURED\n",
    "lobesizecm = lobesizepc*pc                    # Lobe diameter (does NOT need to be de-projected 'cause this is measured as ortoigonal to the jet direction) in cm GRS 1915+105\n",
    "\n",
    "disamin = 17;                                 # Lobe-source angular distance in arcmin (projected) GRS 1915+105 --- MEASURED\n",
    "disamin_err = 0.2\n",
    "dispcP = (disamin*60)*0.048*d10;              # source-ring separation (projected), in pc (= Lj, pc)\n",
    "discmP = dispcP*pc;                           # source-ring separation, (projected) in cm\n",
    "dispc = (disamin*60)*0.048*d10/np.sin(incl*np.pi/180);  # source-ring separation (DE-PROJECTED), in pc (= Lj, pc)\n",
    "discm = dispc*pc;                             # source-ring separation, DE-PROJECTED in cm (= Lj, cm)\n",
    "\n",
    "\n",
    "print('Lobe diameter [pc] (lobesizepc) =', '{:.3e}'.format(lobesizepc)) #Lj\n",
    "print('Lobe diameter [cm] (lobesizecm) =', '{:.3e}'.format(lobesizecm)) #Lj\n",
    "print('Source-ring separation (projected) [pc] (dispcP) ~','{:.3e}'.format(dispcP))\n",
    "print('Source-ring separation (projected) [cm] (discmP) ~','{:.3e}'.format(discmP))\n",
    "print('Source-ring separation (de-projected) [pc] (dispc) ~','{:.3e}'.format(dispc))\n",
    "print('Source-ring separation (de-projected) [cm] (discm = Lj)~','{:.3e}'.format(discm))\n",
    "\n",
    "# Assumptions\n",
    "x = 1;               # Ionization fraction at T ~ 10^4\n",
    "n_iter = 5000\n",
    "\n",
    "T_axis = np.linspace(10**4,3*(10**6), n_iter, endpoint=True)\n",
    "Tmax = np.max(T_axis);\n",
    "Tmin = np.min(T_axis);              # Lower-limit to post-shock temperature -- ASSUMED \n",
    "                                              # (from arguments based on Bremsstrahlung nature of the emission)\n",
    "                                              # Also see Saha's equation below\n",
    "        \n",
    "# Pseudo-constants\n",
    "\n",
    "g = gaunt(nu, Tmin, Z)\n",
    "\n",
    "print('Tmin ~' ,Tmin)\n",
    "print('Tmax ~' ,Tmax)\n"
   ]
  },
  {
   "cell_type": "markdown",
   "id": "26f398f1",
   "metadata": {},
   "source": [
    "## Large scale structure of the jet"
   ]
  },
  {
   "cell_type": "markdown",
   "id": "87c458a2",
   "metadata": {},
   "source": [
    "### 1)  IRAS 19132 - Bremsstrahlung\n",
    "\n",
    "The emission from IRAS 19132 is characterised by a flat radio spectrum, which suggests a bremsstrahlung origin from a gas emitting at a temperature of T $\\sim 10^4K$. This is supported by the detection of a H92$\\alpha$ recombination line with width 25 km/s (Rodriguez & Mirabel 1998), which suggests a temperature of at least T $\\sim$1.2$\\times$ 10$^4K$.\n",
    "\n",
    "\n",
    "\n",
    "The **monochromatic emissitivty $\\epsilon_\\nu$ of ionised hydrogen due to thermal bremsstrahlung** is given by (Longair 1994). \n",
    "\n",
    " $$\\epsilon_\\nu = \\frac{L_\\nu}{V} = C_{radio} g(\\nu, T) \\frac{n_e^2}{\\sqrt{T}} \\exp{(\\frac{h\\nu}{k_b T})} ~~ erg~s^{-1}~cm^{-3}~Hz^{-1}$$\n",
    "\n",
    "where \n",
    "\n",
    "$$ C_{radio} = 6.8\\times 10^{-38} erg~s^{-1}~cm^{-3}~Hz^{-1} $$\n",
    "\n",
    "Note that in Kaiser+2004 the constant is ~$10^{50}$ because the number densities are expressed in particles per meter cube: $(m^3)^2 = 10^{12} (cm^3)^2$.\n",
    "\n",
    "The above assumes that **the number of electrons $n_e$ equals the number of protons n** (pure hydrogen gas), and that the density and temperature are uniform within the volume considered. $\\epsilon_\\nu$ is the expression of the bremsstrahlung emissivity for a pure hydrogen gas emitting at a temperature T, and $V$ is the source unit volume. Since we have no information regarding the extent of the emission regions along our line of\n",
    "sight or their exact three-dimensional geometrical structure, **we assume a spherical shape with diameter 36 arcsec, multiplied by a filling factor f$\\sim$1**. \n",
    "\n",
    "From the Bremsstrahlung emissivity we can derive the electron density. \n",
    "\n",
    "$$n_e = \\sqrt\\frac{\\epsilon_\\nu}{g(\\nu, T) \\sqrt{T} C_{radio}}$$\n",
    "\n",
    "where the Gaunt factor g($\\nu$) is given by \n",
    "\n",
    "$$g(\\nu, T) \\approx \\frac{\\sqrt{3}}{2 \\pi}\\left[\\ln \\left(\\frac{128 \\epsilon_0^2 k^3 T^3}{m_e e^4 \\nu^2 Z^2}\\right)-\\gamma^2\\right]$$\n",
    "\n",
    "As stated above, since we assume that the hydrogen in the region is fully ionized, the electron number density also corresponds to the total particle number density (under the assumption that the ISM is almost all hydrogen). \n",
    "**The electron density _in the shock_ is about 140 particles per cm$^3$**, and thus, assuming that the shock is approximately 4 times denser than the sourrounding medium, **the unshocked ISM electron density is about 35 particles per cm$^3$**. This is consistent with the typical density of an HII region, a factor ~10 or larger than the typical ISM density (1/cm$^3$). Since the bow shock seems to be connected with an HII region (CHIMPS 4894, based on SIMBAD, see http://simbad.cds.unistra.fr/simbad/sim-id?Ident=CHIMPS+4894&), the density we find seems appropriate. "
   ]
  },
  {
   "cell_type": "code",
   "execution_count": 3,
   "id": "903267f6",
   "metadata": {},
   "outputs": [
    {
     "name": "stdout",
     "output_type": "stream",
     "text": [
      "Ring thickness [cm] (DRcm) = 7.643e+18\n",
      "IRAS volume [cm] (Volsph) = 5.050e+55\n",
      "IRAS monochromatic Luminosity [erg/s/Hz] (Liras14) = 5.045e+21\n",
      ">> Particle number density of shocked gas [1/cm3] (ntmin = ne/x) = 1.362e+02\n",
      ">> Particle number density of shocked gas [1/cm3] (ntmax = ne/x) = 4.487e+02\n",
      ">> Particle number density of un-shocked gas [1/cm3] (nt0min = ntmin/4) = 3.404e+01\n",
      "Density of shocked gas [g/cm3] (rhomin) = 3.122e-22\n",
      "Density of un-shocked gas [g/cm3] rho0min = 7.805e-23\n",
      ">> Pressure inside IRAS (ideal gas conditions) [erg/cm3] (Pideal) =  1.880e-10\n",
      ">> Pressure in the ISM (ideal gas conditions) [erg/cm3] (pidealunsh) = 9.400e-13\n"
     ]
    }
   ],
   "source": [
    "# Section 1: Calculating the gas density downstream with respect to the shock front, assuming \n",
    "# bremsstralung emission\n",
    "\n",
    "# Electron density (sphere - IRAS)\n",
    "fill = 1\n",
    "Volsph = fill*4/3*np.pi*(Rirascm/2)**3;         # Volume = 4/3 pi (D/2)^3, with D = diameter\n",
    "Liras14 = Firas*Jy*(4*np.pi*(d10*10*1000*pc)**2);    # Monochormatic ring luminosity in erg/sec/Hz \n",
    "\n",
    "def nesph(d,Firas,Riras,Temp,nu,Z):\n",
    "    Rirascm = Riras*0.048*d/10*pc                   # IRAS source size (diameter), cm\n",
    "    Liras14 = Firas*Jy*(4*np.pi*(d*1000*pc)**2);    # Monochormatic ring luminosity in erg/sec/Hz \n",
    "                                                    # (d needs to be divided by 10!)\n",
    "    fill = 1                                        # Volume filling factor\n",
    "    Volsph = fill*4/3*np.pi*(Rirascm/2)**3;         # Volume = 4/3 pi (D/2)^3, with D = diameter\n",
    "    C_radio = 6.8*1e-38\n",
    "    nesph = np.sqrt( (Liras14/Volsph*(np.sqrt(Temp)))/(C_radio*gaunt(nu, Temp, Z)*np.exp(h*nu/(kb*Temp ))) )  \n",
    "    return nesph                                    # Electron density from Bremmsstralung emissivity \n",
    "                                                    # for a pure hydrogen gas emitting at Temp\n",
    "nemin = nesph(d10*10,Firas,Riras,Tmin,nu,Z)\n",
    "nemax = nesph(d10*10,Firas,Riras,Tmax,nu,Z)\n",
    "ntmin = nemin/x;                                    # Total particle density, which equals the electron \n",
    "ntmax = nemax/x;                                    # Total particle density, which equals the electron \n",
    "                                            ## density divided by ionization fraction, which in \n",
    "                                                    ## this case is 1 (for fully ionized hydrogen)\n",
    "rhomin = ntmin*1.370*mh                             ## Density of the gas post-shock, i.e. down-stream of \n",
    "                                                    ## the shock, g/cm3\n",
    "rho0min = rhomin/4;                                 ## Density of the pre-shock gas, i.e. up-stream of the \n",
    "                                                    ## shock, g/cm3\n",
    "   \n",
    "\n",
    "\n",
    "print('Ring thickness [cm] (DRcm) =','{:.3e}'.format(DRcm))\n",
    "print('IRAS volume [cm] (Volsph) =', '{:.3e}'.format(Volsph))\n",
    "\n",
    "print('IRAS monochromatic Luminosity [erg/s/Hz] (Liras14) =', '{:.3e}'.format(Liras14))\n",
    "print('>> Particle number density of shocked gas [1/cm3] (ntmin = ne/x) =','{:.3e}'.format(ntmin))\n",
    "print('>> Particle number density of shocked gas [1/cm3] (ntmax = ne/x) =','{:.3e}'.format(ntmax))\n",
    "print('>> Particle number density of un-shocked gas [1/cm3] (nt0min = ntmin/4) =','{:.3e}'.format(ntmin/4))\n",
    "print('Density of shocked gas [g/cm3] (rhomin) =','{:.3e}'.format(rhomin))\n",
    "print('Density of un-shocked gas [g/cm3] rho0min =','{:.3e}'.format(rho0min))\n",
    "\n",
    "\n",
    "R = Na*kb # gas constant\n",
    "# Cross check the pressure of gas in ideal conditions. \n",
    "# pressure of gas inside IRAS source assuming ideal conditions\n",
    "pidealmin = ntmin*kb*Tmin\n",
    "pidealmax = ntmin*kb*Tmax\n",
    "\n",
    "print('>> Pressure inside IRAS (ideal gas conditions) [erg/cm3] (Pideal) = ', '{:.3e}'.format(pidealmin))\n",
    "\n",
    "# pressure of gas of unshocked material assuming ideal conditions, and T = 50K\n",
    "pidealunsh = ntmin*kb*50\n",
    "print('>> Pressure in the ISM (ideal gas conditions) [erg/cm3] (pidealunsh) =', '{:.3e}'.format(pidealunsh))"
   ]
  },
  {
   "cell_type": "markdown",
   "id": "0c92a5d1",
   "metadata": {},
   "source": [
    "### 2) Northern feature in IRAS 19132 - Synchrotron emission from gas (hot spot)"
   ]
  },
  {
   "cell_type": "markdown",
   "id": "b36e7bc7",
   "metadata": {},
   "source": [
    "The radio maps of IRAS 19132+1035 show an elongated feature pointing in the direction of GRS 1915+105, with lengths of 17.4 arcsec, and width of 7.9 arcsec, and with a steep radio spectrum, located to the northwest of the main flat spectrum region. In the old VLA images this spectrum is consistent with a power law F $\\propto$ $\\nu^\\alpha$ with $\\alpha$ = -0.8.  This spectral index is typical for synchrotron emission and hence it implies the presence of a relativistic plasma consisting of magnetic field and a population of relativistic electrons. \n",
    "\n",
    "We will assume that we observe(or infer) a radio spectrum with some spectral index $\\alpha$ between upper and lower frequencies $\\nu_1, \\nu_2$. We will need the integrated radio luminosity between these limits, and not just the specific radio luminosity at a certain frequency.\n",
    "\n",
    "$$L=4 \\pi D^2 \\int_{\\nu_1}^{\\nu_2} F_{\\nu} d\\nu = 4 \\pi D^2 F_{\\nu_2} \\nu_2^{-\\alpha} \\left( \\frac{\\nu_2^{\\alpha+1} - \\nu_1^{\\alpha+1}}{\\alpha+1} \\right) $$\n",
    "\n",
    "(an equivalent formula can of course be constructed using $\\nu_1$ as the reference frequency). \n",
    "Here we use $\\alpha = (1-p)/2$.**\n",
    "\n",
    "Note, in comparing the analysis here with the simplified (but relatively accurate) formula of Longair et al. 1994, that the $L_{\\nu}$ used in that formula is the 'specific' luminosity in units erg s$^{-1}$ Hz$^{-1}$ whereas the *integrated* luminosity used here and defined above is in erg s$^{-1}$, and is therefore a larger quantity).\n",
    "\n",
    "The energy density in magnetic fields is $B^2 / 8\\pi$ (in cgs units), therefore for a volume $V$ the total energy in B fields is:\n",
    "\n",
    "$$E_B = \\frac{B^2}{8 \\pi} f V $$\n",
    "\n",
    "where $f$ is a *filling factor* which represents the fraction of the physical source's volume which is actually occupied by the magnetic field and relativistic particles.\n",
    "\n",
    "Given a population of electrons with a power law distribution $-p$ between energy limits $E_1$ and $E_2$, the total energy in these electrons is given by:\n",
    "\n",
    "$$E_e = c_2^{-1} L B^{-2} \\frac{(p-3)}{(p-2)} \\frac{(E_1^{2-p}-E_2^{2-p})}{(E_1^{3-p}-E_2^{3-p})}$$\n",
    "\n",
    "For a given electron energy and magnetic field, we can characterise the synchrotron emission as coming from a single frequency $\\nu = c_1 B E^2$, i.e. $E = \\nu^{1/2} c_1^{-1/2} B^{-1/2}$. So, we can write:\n",
    "\n",
    "$$E_e = c_2^{-1} c_1^{1/2} \\tilde{c}(p, \\nu_1, \\nu_2) B^{-3/2} L = c_{12}(p,\\nu_1,\\nu_2) B^{-3/2} L$$\n",
    "\n",
    "where\n",
    "\n",
    "$$c_{12} = c_2^{-1} c_1^{1/2} \\tilde{c}(p, \\nu_1, \\nu_2)$$\n",
    "\n",
    "and\n",
    "\n",
    "$$\\tilde{c}(p, \\nu_1, \\nu_2) = \\frac{(p-3)}{(p-2)} \\frac{\\nu_1^{(2-p)/2}-\\nu_2^{(2-p)/2}}{\\nu_1^{(3-p)/2}-\\nu_2^{(3-p)/2}}$$\n",
    "\n",
    "The pseudo-constant $c_{12}$ encapsulates all the information about the observed (or interpolated, extrapolated, assumed) frequency range of the observations and the slope of the energy spectrum between those limits. \n",
    "\n",
    "Since $E_B \\propto B^2$, the total energy is given by\n",
    "\n",
    "$$E_{e+B} = E_e + E_B =  const. B^{-3/2} + const. B^2$$\n",
    "\n",
    "and therefore *there must be a minimum of the total energy as a function of $B$* (assuming there are no other contributions to the energy budget which have a different dependence on $B$). This minimum occurs at *equipartition* of the energy, when $E_e$ and $E_B$ are almost equal (which can be calculate by differenting $E_{e+B}$ with respect to $B$):\n",
    "\n",
    "$$E_B = \\frac34 \\eta E_e$$\n",
    "\n",
    "where $\\eta$ indicates how much energy is stored in the protons which accompany the electrons (in the case of a normal baryonic plasma); $\\eta = 1$ is generally considered for the minimum energy condition.\n",
    "Substituting the above expressions, the equipartition magnetic field is given by:\n",
    "\n",
    "$$B_{eq} = (6 \\pi \\frac{\\eta}{f} c_{12} \\frac{L}{V})^{2/7} $$\n",
    "\n",
    "\n",
    "\n",
    "For minimum energy conditions the total pressure in this feature is then given by:\n",
    "\n",
    "$$ p = \\frac{7}{9} \\frac{B^2_{min}}{8\\pi}(k+1)$$\n",
    "\n",
    "with k equal the ratio of the internal energy stored in any particles that do not contribute to the synchrotron emission to the sum of the energy in the magnetic field and in the relativistic electrons.\n",
    "Here we assume a cylindrical geometry for the northern feature, with a radius equivalent to 3.9 arcsec and a length of 17.4 $\\times$ sin$\\theta^{-1}$ arcsec, where $\\theta$ is the angle of the long axis of the cylinder to our line of sight.\n",
    "\n",
    "The volume of the feature is **Vcyl ~ 2e+54 cm$^3$**, and its total luminosity is **Lcyl ~ 1.7e+29 erg/s**. The predicted minimum energy **magnetic field is Bmin ~ 2.2e-05 G**, and the minimum energy **pressure is 1.6e-11 erg/cm$^3$**. "
   ]
  },
  {
   "cell_type": "code",
   "execution_count": 48,
   "id": "063eefd6",
   "metadata": {},
   "outputs": [
    {
     "name": "stdout",
     "output_type": "stream",
     "text": [
      "Cylinder Integrated Luminosity [erg/s] (Lcy) = 1.672e+29\n",
      "Cylinder Volume [cm3] (VolCyl) = 1.985e+54\n",
      ">> Cylinder magnetic field density [G] (Bmin) =  2.238e-05\n",
      ">> Cylinder pressure [erg/cm3] (pmincyl) ~ 1.566e-11\n"
     ]
    }
   ],
   "source": [
    "# This is adapted from the ThunderBook \"Equipartition analysis\" (https://github.com/robfender/ThunderBooks)\n",
    "D = d10*10\n",
    "k = 0.01          \n",
    "nu1=1.0e7\n",
    "nu2=1.0e11\n",
    "p=2.5\n",
    "alpha=(1.0-p)/2.0\n",
    "eta = 1\n",
    "f = 1\n",
    "\n",
    "# Pseudoconstant\n",
    "c1=6.27e18\n",
    "c2=2.37e-3\n",
    "# speed of light \n",
    "c=3.0e10\n",
    "# relativistic sound speed of c/sqrt[3]\n",
    "cs=c/(3.0**0.5)\n",
    "\n",
    "ctildetop=(nu1**((2.0-p)/2.0))-(nu2**((2.0-p)/2.0))\n",
    "ctildebottom=(nu1**((3.0-p)/2.0))-(nu2**((3.0-p)/2.0))\n",
    "ctilde=((p-3.0)/(p-2.0))*(ctildetop/ctildebottom)\n",
    "c12=(c2**-1.0)*(c1**0.5)*ctilde\n",
    "\n",
    "def LumTot(snu2,D,nu1,nu2,alpha): \n",
    "# here s is the flux density at the upper frequency nu2\n",
    "    L2 = 4 * np.pi * ((D * 3.1e21)**2.0) * (snu2 * 1e-26) * (nu2**(-alpha)) * ((nu2**(1+alpha))-(nu1**(1+alpha))) / (1+alpha)\n",
    "    #print (('Calculated total radiative luminosity'),('L ='),('%.2e' % L2),(' erg / sec '))\n",
    "    return L2\n",
    "\n",
    "Lcy = LumTot(Fcyl,(d10*10),nu1,nu2,alpha)    #  Note that this is the INTEGRATED luminosity, not the monochromatic one\n",
    "\n",
    "\n",
    "rcyl = 3.9\n",
    "lencyl = 17.4\n",
    "\n",
    "rcylcm = rcyl*(0.048*d10*pc)                         # Radius of cylindric feature, cm\n",
    "lencylcm = lencyl*(0.048*d10*pc)/np.sin(incl*np.pi/180)  # Lenght of cylindric feature, cm\n",
    "VolCyl = np.pi*rcylcm**2*lencylcm                   # Volume of cylindric feature, cm3\n",
    "\n",
    "Bmin = (6*np.pi*(eta/f)*c12*Lcy/VolCyl)**(2/7)  # Equipartition magnetic field, Gauss\n",
    "\n",
    "# Total pressure in this feature for minimum energy conditions\n",
    "\n",
    "pmincyl = 7/9*Bmin**(2)/(8*np.pi)*(k+1)       # Equipartition pressure, erg/cm3\n",
    "\n",
    "\n",
    "print('Cylinder Integrated Luminosity [erg/s] (Lcy) =','{:.3e}'.format(Lcy))\n",
    "print('Cylinder Volume [cm3] (VolCyl) =','{:.3e}'.format(VolCyl))\n",
    "print('>> Cylinder magnetic field density [G] (Bmin) = ','{:.3e}'.format(Bmin))\n",
    "print('>> Cylinder pressure [erg/cm3] (pmincyl) ~','{:.3e}'.format(pmincyl))\n",
    "\n",
    "# From Kaiser+2004, for a reality check\n",
    "\n",
    "#LcylK = 6e+18*D**2\n",
    "#VolK = 9.9E-05*(D)**3/math.sin(incl*np.pi/180)*pc**3\n",
    "#BminK = 1.0E-6*120*(math.sin(incl*np.pi/180)/(D))**(2/7)\n",
    "#pminK = 1.0E-10*(4.3*(math.sin(incl*np.pi/180)/(D))**(4/7))*(k+1)\n",
    "\n",
    "#print('LcylK ~',LcylK)\n",
    "#print('VolK ~',VolK)\n",
    "#print('BminK ~',BminK)\n",
    "#print('pminK ~',pminK)\n",
    "\n",
    "#print(lencyl*2./pc)\n",
    "#print(lencyl/pc)\n",
    "#print(alpha)"
   ]
  },
  {
   "cell_type": "markdown",
   "id": "d8584269",
   "metadata": {},
   "source": [
    "## The jet model"
   ]
  },
  {
   "cell_type": "markdown",
   "id": "680fea13",
   "metadata": {},
   "source": [
    "For interpreting the interactions of the large-scale jet structure of GRS 1915+105 with its environment we use the\n",
    "model developed in Kaiser & Alexander (1997, KA97) for the jets of radio galaxies, and adapted for galactic sources in and Kaiser et al. (2004). The supersonic jets end in strong shock fronts at the location where they impact on the ambient gas. The gas coming up the jets inflate two lobes that are overpressured with respect to the environment. The lobes therefore expand sideways and thus a bow shock is driven into the surrounding ISM. We identify three regions: \n",
    "\n",
    "a) **IRAS 19132** corresponds to the compressed and shock-heated ISM in front of the jet.\n",
    "\n",
    "b) **the norther cylindrical feature** near IRAS 19132+1035, pointing towards GRS 1915+105, corresponds to the strong shock that originates at the end of the postulated large-scale jet.\n",
    "\n",
    "c) **the radio lobe clearly seen in the MeerKAT image at an average flux density of 0.2 mJy** corresponds to the edge-brightened radio lobe inflated by the jet material. In the old VLA data such a bow shock was not detected due to limited sensitivity (but it was predicted by Kaiser et al. 2004, at approximately the currently observed flux density).\n"
   ]
  },
  {
   "cell_type": "markdown",
   "id": "ace502af",
   "metadata": {},
   "source": [
    "### 1) Applicability (characteristic jet lenght)"
   ]
  },
  {
   "cell_type": "markdown",
   "id": "5ab65f3b",
   "metadata": {},
   "source": [
    "The model assumes a constant energy transport rate, Q0, for each side of the jet. This transport rate is averaged over the lifetime of the jets. We assume that the ambient medium has a constant density. Under these circumstances the evolution of the large-scale structure created by the jet (lobe and bow shock), is self-similar once the jet extends beyond its characteristic length scale, given by (KA97): \n",
    "\n",
    "$$ L_0 = (\\frac{\\rho_0^2 Q_0}{\\dot{M}_0^3})^{-1/4} = [\\frac{Q_0^2}{\\rho_0^2 c^6(\\gamma_j -1)}]^{1/4}$$\n",
    "\n",
    "where $\\dot{M_0}$ is the mass transport rate of the jet, and $\\gamma_j$ is the Lorentz factor of the jet material.\n",
    "\n",
    "The density of the gas that has been shock-heated by the impact of the jets, which we calculated based on the Bremsstrahlung luminosity of IRAS 19132, is approximately 4 times that of the pre-shock value $\\rho_0$. \n",
    "\n",
    "Estimating the Lorentz factor of jet flows is notoriously difficult (e.g., Fender 2003). Furthermore, the observed motion of radio ‘‘knots’’ in the jets may simply reflect the motion of shocks along the jets rather\n",
    "than the bulk motion of the jet material. Any estimate of $\\gamma_j$ will also depend on the distance to the source and the orientation of the jet to our line of sight. Here we use the conservative lower limit  $\\gamma_j$ = 1.1, which maximizes L$_0$.\n",
    "\n",
    "For reasonable values of Q$_0$ (~ 10$^{36}$ erg/s, see below), L$_0$ is of the order  10$^{-05}$ pc, i.e.,  orders of magnitude smaller than the jet lenght L$_j$ (> 40 pc), and therefore the model by KA97 is valid for GRS 1915+105. "
   ]
  },
  {
   "cell_type": "code",
   "execution_count": 5,
   "id": "dabeb9f9",
   "metadata": {},
   "outputs": [
    {
     "name": "stdout",
     "output_type": "stream",
     "text": [
      "Characteristic jet length scale [pc] (L0) =  1.255e-05\n",
      "Jet length [pc] (Lj) =  4.862e+01\n"
     ]
    }
   ],
   "source": [
    "# Calculation of L0\n",
    "\n",
    "gammaj = 1.1\n",
    "Q0 = 1.0E+36\n",
    "\n",
    "L0 = ( (Q0**2) / (rho0min**2*c**6*(gammaj-1)) )**(1/4)\n",
    "\n",
    "print('Characteristic jet length scale [pc] (L0) = ', '{:.3e}'.format(L0/pc))\n",
    "print('Jet length [pc] (Lj) = ', '{:.3e}'.format(discm/pc))\n"
   ]
  },
  {
   "cell_type": "markdown",
   "id": "00a4991c",
   "metadata": {},
   "source": [
    "### 2) Shock front velocity and age of the jet\n",
    "\n",
    "KA97 showed that the velocity of the bow shock is roughly equal to the advance speed of the end of the jet driving this shock, which is given by:\n",
    "\n",
    "$$ \\dot{L} = \\sqrt{\\frac{16 k_b}{3 m_p}T}$$\n",
    "\n",
    "where $m_p$ is the mass of the proton. \n",
    "For a strong shock in a mono-atomic gas, the expansion velocity is set by the temperature of the shocked gas. If the shock is radiative, then the initial post-shock temperature can be higher than that of the thermalized, bremsstrahlung-emitting gas. A stringent constraint on the temperature could come from X-ray observations, which we will have soon via Chandra. \n",
    "\n",
    "We estimate a minimum **shock velocity of 23 Km/s**, which implies that the bow shock will be highly supersonic with respect to the unshocked ISM. Note that the kinematic of the gas in the region is complex,  and hence T$_{min}$ could be overestimated."
   ]
  },
  {
   "cell_type": "code",
   "execution_count": 6,
   "id": "f3eb4f4e",
   "metadata": {},
   "outputs": [
    {
     "name": "stdout",
     "output_type": "stream",
     "text": [
      ">> Shock front velocity [Km/s] (vd1 = Ldotmin) ~ 2.098e+01\n",
      ">> Min Shock front velocity [cm/s] (vd1 = Ldotmin) ~ 2.098e+06\n",
      ">> Max Shock front velocity [cm/s] (vd1 = Ldotmin) ~ 3.633e+07\n"
     ]
    }
   ],
   "source": [
    "vdmin = ( (16*Tmin*kb)/(3*mh) )**(1/2)/1.0E+5;# Lower-limit to Ljdot, i.e., post-shock velocity, in Km/s\n",
    "\n",
    "vdmaxcm = ( (16*Tmin*kb)/(3*mh) )**(1/2);     # Lower-limit to Ljdot, i.e., post-shock velocity, in cm/s\n",
    "vdmaxcm = ( (16*Tmax*kb)/(3*mh) )**(1/2);     # Upper-limit to Ljdot, i.e., post-shock velocity, in cm/s\n",
    "\n",
    "vdmincm = vdmin*1.0E+5;  #Ldot                # Lower limit to ring velocity, in cm/s \n",
    "\n",
    "print('>> Shock front velocity [Km/s] (vd1 = Ldotmin) ~','{:.3e}'.format(vdmin))\n",
    "print('>> Min Shock front velocity [cm/s] (vd1 = Ldotmin) ~','{:.3e}'.format(vdmincm))\n",
    "print('>> Max Shock front velocity [cm/s] (vd1 = Ldotmin) ~','{:.3e}'.format(vdmaxcm))\n",
    "\n"
   ]
  },
  {
   "cell_type": "markdown",
   "id": "49ef3a6b",
   "metadata": {},
   "source": [
    "For a constant density medium Kaiser+2004 showed that the jet length within the lobe grows with the time $t$ in such a way that\n",
    "\n",
    "$$ L_j = C_1 ~(\\frac{Q_0}{\\rho_0})^{1/5}~ t^{3/5}$$ \n",
    "\n",
    "Taking the time derivartive of this equation we obtain:\n",
    "\n",
    "$$ \\dot{L_j} = \\frac{3 Lj}{5 t}$$\n",
    "\n",
    ", which implies:\n",
    "\n",
    "$$ t = \\frac{3 L_j}{5 \\dot{L_j}} $$\n",
    "\n",
    "This expression can be used to estimate the upper limit to the age of the jet, which is approximately 1 Myr.\n",
    "C1 is a dimensionless constant that depends on the thermodynamical properties of the jet material, and on the aspect ratio, R, of the lobe inflated by the jet (R is the length of the lobe divided by its width). The esplicit form of C1 is the following:\n",
    "\n",
    "$$ C_1=\\left(\\frac{C_2}{C_3\\theta^2}\\frac{(\\Gamma_x+1)(\\Gamma_c-1)(5-\\beta)^3}{18\\left[9\\{\\Gamma_c+(\\Gamma_c-1)\\frac{C_2}{4\\theta^2}\\}-4-\\beta\\right]}\\right)^{\\frac{1}{(5-\\beta)}}$$\n",
    "\n",
    "with\n",
    "\n",
    "$$C_2=\\left(\\frac{(\\Gamma_c-1)(\\Gamma_j-1)}{4\\Gamma_c}+1\\right)^{\\frac{\\Gamma_c}{(\\Gamma_c-1)}}\\frac{(\\Gamma_j+1)}{(\\Gamma_j-1)}$$\n",
    "\n",
    "and \n",
    "\n",
    "$$C_3=\\frac{\\pi}{4R_{\\rm ax}^2}$$\n",
    "\n",
    "\n",
    "(Tetarenko et al. 2018, Appendix C), and the value of the constant is calculated below."
   ]
  },
  {
   "cell_type": "code",
   "execution_count": 7,
   "id": "4ad4cc65",
   "metadata": {},
   "outputs": [
    {
     "name": "stdout",
     "output_type": "stream",
     "text": [
      "Con1 ~ 1.9932080579528801\n"
     ]
    }
   ],
   "source": [
    "# The constant C1 is given in the following (see Appendix C in Tetarenko et al. 2018): \n",
    "\n",
    "# The constant C1 can ba calculated making assumptions on the jet properties and on the environment, \n",
    "# which we will treat as uniform in density. We also make assumptions on the adiabatic index of the \n",
    "# material in the cavity, in the external medium, and in the jet. \n",
    "# Keeping the adiabatic indices = 5/3, in order to recover a constant of about 2, we need to assume \n",
    "# jet opening angle of 30 degrees, which might be a bit high. \n",
    "\n",
    "Gammac = 5/3                            # Adiabatic index of the material in the cavity, -- ASSUMED \n",
    "Gammax = 5/3                            # Adiabatic index of the material in the external medium, -- ASSUMED \n",
    "Gammaj = 5/3                            # Adiabatic index of the material in the jet, -- ASSUMED \n",
    "\n",
    "def C_cons(g_c,g_j,g_x,ope):\n",
    "    beta = 0                                # density profile index (beta = 0 for a uniform density medium), -- ASSUMED \n",
    "    theta_ra = ope*np.pi/180           # Jet opening angle, in radiants\n",
    "    C2_0 = (((g_c-1)*(g_j-1))/(4*g_c) + 1 )**(g_c/(g_c-1)) * ((g_j+1)/(g_j-1))\n",
    "    Rax_0 = np.sqrt((1/4*(C2_0/theta_ra**2))) # axial ratio of the jet-blown cavity                         \n",
    "    C3_0 = np.pi/(4*Rax_0**2)\n",
    "    C1_0 = ((C2_0)/(C3_0*theta_ra**2)*((g_x+1)*(g_c-1)*(5-beta)**3)/(18*(9*(g_c + (g_c -1)*(C2_0/(4*theta_ra**2))) - 4 - beta)) )**(1/(5-beta))\n",
    "    return C1_0\n",
    "\n",
    "Con1 = C_cons(Gammac, Gammaj,Gammax, 30)\n",
    "\n",
    "print('Con1 ~', Con1)\n",
    "\n",
    "#print(dispc)\n",
    "#print(lobesizepc)"
   ]
  },
  {
   "cell_type": "code",
   "execution_count": 59,
   "id": "5b28b959",
   "metadata": {},
   "outputs": [
    {
     "name": "stdout",
     "output_type": "stream",
     "text": [
      "Jet age [Myr] (tmaxMyr) = 1.361e+00\n",
      "Jet age [Myr] (tmaxMyr) = 7.857e-02\n"
     ]
    }
   ],
   "source": [
    "# Section 3: the jet age\n",
    "\n",
    "def age(disamin,d,incl,v):\n",
    "    disasec = disamin*60 #lobe target seperation in arcsec (projected)\n",
    "    dispc = disasec*d*1e3*4.8*1e-6  #lobe target separation in pc (projected)\n",
    "    discmP = dispc*pc #lobe target sepeartion in cm (projected)\n",
    "    discm = discmP/np.sin(incl*np.pi/180) #lobe target de-projected seperation to account for the inclination angle\n",
    "    t = 3/5*(discm/v) #time in seconds\n",
    "    t_age_Myr = t/(365.*24.*60*60)/1.0E+6 #age of shock in Myr\n",
    "    return t_age_Myr\n",
    "    \n",
    "tmaxMyr = age(disamin,(d10*10),incl,vdmincm)\n",
    "tminMyr = age(disamin,(d10*10),incl,vdmaxcm)\n",
    "\n",
    "tsmax = tmaxMyr*(365.*24.*60*60)*1.0E+6          # Upper limit to lobe age in s\n",
    "tsmin = tminMyr*(365.*24.*60*60)*1.0E+6          # Upper limit to lobe age in s\n",
    "\n",
    "#print(disamin,(d10*10),incl,vdmincm)\n",
    "print('Jet age [Myr] (tmaxMyr) =', '{:.3e}'.format(tmaxMyr))\n",
    "print('Jet age [Myr] (tmaxMyr) =', '{:.3e}'.format(tminMyr))"
   ]
  },
  {
   "cell_type": "markdown",
   "id": "4d56b25d",
   "metadata": {},
   "source": [
    "We note here that based on the results of the sub-mm observations reported by Tetarenko et al. 2018 (https://ui.adsabs.harvard.edu/abs/2018MNRAS.475..448T/) the shock velocity estimated from the SiO detection would be ~ 1/Km/s, which implies a jet of approximately 25 Myr, i.e. significantly older than what we predict."
   ]
  },
  {
   "cell_type": "markdown",
   "id": "5789b2f5",
   "metadata": {},
   "source": [
    "### 3) Energetics\n",
    "\n",
    "Assuming that the jet direction remains constant over time,  and that the jet is colliding with a medium of densit $\\rho_0$, the power Q$_{jet}$ being transported by the jets averaged over its lifetime, **is solely dependent on the properties of the ISM** at the interaction site. Combining the equations for $L_j$ and $\\dot{L_j}$ given above we obtain: \n",
    "\n",
    "$$ Q_{jet} = (\\frac{5}{3})^3~\\frac{\\rho_0}{C_1^5}L_j^2 ~\\dot{L_j}^3$$\n",
    "\n",
    "The constant C$_1$ can be calculated and it depends on the aspect ratio R of the lobe inflated by the jet, the lobe lenght divided by its width. For extragalactic jet sources, R ~ 2. In the case of the lobe in GRS 1915+105, R is appriximately R ~ 11.16/sin(theta)/8 = 1.5, hence we will assume C$_1$ = 1.5. Below we calculate the constant explicitly (note that a value of 1.5 implies a jet opening angle of 50 degrees).\n",
    "We obtain that the **minimum energy transferred to the environment is Q$_{jet}$ ~ 1.4e+37 erg/s**. \n",
    "\n",
    "The pressure inside the lobe is given by: \n",
    "\n",
    "$$ p = 0.0675 \\frac{C_1^{10/3}}{R^2}(\\frac{\\rho_0 Q_0^2}{L_j^4})^{1/3}$$\n",
    "\n",
    "Which is $p_{lobe}$ ~ 3.6e-11 erg/cm$3$, i.e. significantly overpressured with respect to the unshocked ISM (for a temperature of 50K, a typical ISM pressure would be of the order 10$^{-12}$ erg/cm$3$ assuming that ideal gas conditions, see Section 1), but similar to the pressure we obtain for the cylindrical feature stemming from IRAS 19132+1035."
   ]
  },
  {
   "cell_type": "code",
   "execution_count": 44,
   "id": "10d71586",
   "metadata": {
    "scrolled": true
   },
   "outputs": [
    {
     "name": "stdout",
     "output_type": "stream",
     "text": [
      ">> Minimum transferred jet power [erg/s] (Qjetmin) ~  2.386e+36\n",
      ">> Jet pressure [erg/cm3] (pminlobes) ~  1.502e-11\n"
     ]
    }
   ],
   "source": [
    "# Section 4: the jet energy transport rate\n",
    "\n",
    "# Con1arb = 2\n",
    "# Rarb = 2\n",
    "\n",
    "# Min and max depend on the temperature, which gives both the jet velocity and material density. \n",
    "\n",
    "# Qjetminarb = (5/3)**3 * rho0min/(Con1arb**5)*(discm**2)*(vdmincm**3)   # Lower limit to time averaged jet power \n",
    "\n",
    "# pminjetarb = 0.0675*(Con1arb**(10/3)/Rarb**2)*(rho0min*Qjetmin**2/(discm**4))**(1/3)\n",
    "# print(Con1arb,Rarb,rho0min,Qjetmin,discm)\n",
    "\n",
    "# print(Qjetminarb,pminjetarb)\n",
    "\n",
    "\n",
    "def power(theta,d,nee,disamin,vcm):\n",
    "    beta = 0\n",
    "                                           # Theta is the jet opening angle in degrees\n",
    "                                           # d is the distance in kpc\n",
    "                                           # nee is the number of electrons\n",
    "                                           # disamin lobe target seperation in arcsec (projected)\n",
    "                                           # vcm velocity\n",
    "    theta_rad = theta*np.pi/180            # Jet opening angle, in radiants\n",
    "    Con2 = (((Gammac-1)*(Gammaj-1))/(4*Gammac) + 1 )**(Gammac/(Gammac-1)) * ((Gammaj+1)/(Gammaj-1))\n",
    "    Rax = np.sqrt((1/4*(Con2/theta_rad**2))) # axial ratio of the jet-blown cavity                         \n",
    "    Con3 = np.pi/(4*Rax**2)\n",
    "    Con1 = ((Con2)/(Con3*theta_rad**2)*((Gammax+1)*(Gammac-1)*(5-beta)**3)/(18*(9*(Gammac + (Gammac -1)*(Con2/(4*theta_rad**2))) - 4 - beta)) )**(1/(5-beta))\n",
    "    #nt=ne/x #where x is the ionisation fraction and is 1, use ne and nt interchangeably in the next equation  \n",
    "    rho = nee*1.370*mh;                    # Density of the gas up-stream of the shock, in cm-3 (calculated above with the calorimetry method above)\n",
    "    rho0 = rho/4;                          # Density of the gas, down-stream of the shock, in cm-3\n",
    "    disasec = disamin*60                   # lobe target seperation in arcsec (projected)\n",
    "    dispc = disasec*d*1e3*4.8*1e-6         # lobe target separation in pc (projected)\n",
    "    discmP = dispc*pc                      # lobe target sepeartion in cm (projected)\n",
    "    discm = discmP/np.sin(incl*np.pi/180)  # lobe target de-projected seperation to account for the inclination angle\n",
    "    Pjet = (5/3)**3 * rho0/(Con1**5)*(discm**2)*vcm**3   # Upper limit to time averaged jet power \n",
    "    return Pjet\n",
    "\n",
    "Qjetmin = power(o_a,d10*10,nemin,disamin,vdmincm)\n",
    "\n",
    "def press(theta,d,nee,disamin,vcm):\n",
    "    beta = 0\n",
    "                                           # Theta is the jet opening angle in degrees\n",
    "                                           # d is the distance in kpc\n",
    "                                           # nee is the number of electrons\n",
    "                                           # disamin lobe target seperation in arcsec (projected)\n",
    "                                           # vcm velocity\n",
    "    theta_rad = theta*np.pi/180            # Jet opening angle, in radiants\n",
    "    Con2 = (((Gammac-1)*(Gammaj-1))/(4*Gammac) + 1 )**(Gammac/(Gammac-1)) * ((Gammaj+1)/(Gammaj-1))\n",
    "    Rax = np.sqrt((1/4*(Con2/theta_rad**2))) # axial ratio of the jet-blown cavity                         \n",
    "    Con3 = np.pi/(4*Rax**2)\n",
    "    Con1 = ((Con2)/(Con3*theta_rad**2)*((Gammax+1)*(Gammac-1)*(5-beta)**3)/(18*(9*(Gammac + (Gammac -1)*(Con2/(4*theta_rad**2))) - 4 - beta)) )**(1/(5-beta))\n",
    "    #nt=ne/x #where x is the ionisation fraction and is 1, use ne and nt interchangeably in the next equation  \n",
    "    rho = nee*1.370*mh;                    # Density of the gas down-stream of the shock, in cm-3 (calculated above with the calorimetry method above)\n",
    "    rho0 = rho/4;                          # Density of the gas, up-stream of the shock, in cm-3\n",
    "    disasec = disamin*60                   # lobe target seperation in arcsec (projected)\n",
    "    dispc = disasec*d*1e3*4.8*1e-6         # lobe target separation in pc (projected)\n",
    "    discmP = dispc*pc                      # lobe target sepeartion in cm (projected)\n",
    "    discm = discmP/np.sin(incl*np.pi/180)  # lobe target de-projected seperation to account for the inclination angle\n",
    "    Pjet = (5/3)**3 * rho0/(Con1**5)*(discm**2)*vcm**3   # Upper limit to time averaged jet power \n",
    "    pminjet = 0.0675*(Con1**(10/3)/Rax**2)*(rho0*Pjet**2/(discm**4))**(1/3)\n",
    "    return pminjet\n",
    "\n",
    "pminjet = press(o_a,d10*10,nemin,disamin,vdmincm)\n",
    "\n",
    "print('>> Minimum transferred jet power [erg/s] (Qjetmin) ~ ','{:.3e}'.format(Qjetmin))\n",
    "print('>> Jet pressure [erg/cm3] (pminlobes) ~ ','{:.3e}'.format(pminjet))\n"
   ]
  },
  {
   "cell_type": "code",
   "execution_count": 54,
   "id": "92537efb-e52c-48e8-9e37-db093f03dc6c",
   "metadata": {},
   "outputs": [],
   "source": [
    "# Kaiser\n",
    "#D = 8.6\n",
    "#f=1\n",
    "#Q0K = 2.8*(D)**3/f**(1/2)/(np.sin(incl*np.pi/180))**2*1E+35\n",
    "#print(Q0K)"
   ]
  },
  {
   "cell_type": "markdown",
   "id": "81235d77",
   "metadata": {},
   "source": [
    "A comment on the electron density. If, following Tetarenko et al. 2018, the density is instead estimated based on the molecular gas content of the feature, rather than based on the luminosity of the feature from Bremsstrahlung emission and the presumed temperature of the gas, the energy stransferred will be clearly different. \n",
    "Based on Tetarenko et al. 2018 the gas density is of the order $\\sim$10$^{-20}$ g/cm$^3$, which is a factor of 10$^3$ higher than in our case. The resulting minimum transferred energy is consequently larger than the value we predict above, i.e. L $\\sim$ 10$^{39}$ erg/s (Q$_{jet}$ goes linearly with the density). \n",
    "However, **this density requires a gas temperature of the order T ~ 7E+9 K if the emission is from Bremsstrahlung, which does not appear to be realistic**, since at temperatures of T ~ 10$^7$−10$^8$K (typical of the hot gas in Galaxy clusters) the radiative losses start to dominate.\n"
   ]
  },
  {
   "cell_type": "code",
   "execution_count": 10,
   "id": "e1f44081",
   "metadata": {},
   "outputs": [
    {
     "name": "stdout",
     "output_type": "stream",
     "text": [
      "Minimum transferred jet power based on Tetarenko+2018 [erg/s] (QjetminT) ~ 3.124e+38\n"
     ]
    }
   ],
   "source": [
    "# Based on electron density from Tetarenko et al. 2018\n",
    "\n",
    "fT = 0.1\n",
    "DT = 8.6\n",
    "rho0T  = 2.6E-18/DT**3/fT /4 #---- Assuming bremsstrahlung emission, so dividing by 4 to accound for \n",
    "                             #     the pre-shock vs post-shock difference. \n",
    "n0T  = rho0T/(1.37*mh)\n",
    "\n",
    "QjetminT = (5/3)**3 * rho0T/(Con1**5)*(discm**2)*(vdmincm**3)   # Lower limit to time averaged jet power \n",
    "print('Minimum transferred jet power based on Tetarenko+2018 [erg/s] (QjetminT) ~','{:.3e}'.format(QjetminT))\n",
    "      \n",
    "      "
   ]
  },
  {
   "cell_type": "code",
   "execution_count": 11,
   "id": "d1f51de0",
   "metadata": {},
   "outputs": [
    {
     "name": "stdout",
     "output_type": "stream",
     "text": [
      "Temperature from molecular gas density [K] (TT) = 1.148e+10\n"
     ]
    }
   ],
   "source": [
    "C_radio = 6.8*1e-38\n",
    "TT = (C_radio*g*n0T**2/(Liras14/Volsph)*np.exp(h*nu/(kb*2000 )) )**2 #--- this ignores the T in the exponential, which doesn't count for high T values.\n",
    "\n",
    "print('Temperature from molecular gas density [K] (TT) =', '{:.3e}'.format(TT))\n"
   ]
  },
  {
   "cell_type": "markdown",
   "id": "52744d73",
   "metadata": {},
   "source": [
    "### 4) Emission Properties of the Model\n",
    "\n",
    "#### Radio emission form the lobes\n",
    "\n",
    "In the case of AGN a substantial fraction of the energy transported by the jet gives rise to a population of relativistic electrons and a magnetic field in the lobes. The emission from the lobes is easily detected in radio, and similar emission should emerge around the jets in microquasars. \n",
    "\n",
    "We assume that the conditions of minimum energy hold in the lobe, and so the maximum synchrotron luminosity is obtained from a given amount of energy (e.g., Longair 1994). We neglect any energy losses of the relativistic electrons due to radiation processes. We can infer the minimum energy magnetic field B$_{min}$ using the equation given in section 1 (minimum energy condition), and compare it with the magnetic field density we obtained for the cylindrical feature near the IRAS source (see Section 2). \n",
    "\n",
    "We obtain a minimum energy magnetic field of **Bmin ~ 6.5e-6 G**, and a minimum energy **pressure is p$_{}$ = 1.3e-12 erg/cm$^3$**, which are close enough to the values we obtained for the cylindrical feature. \n",
    "Curiously, the flux density we measure from the MeerKAT image of the bow shock is consistent with the flux density \n",
    "predicted by Kaiser et al. 2004, who argued that a (at the time invisible) synchrotron lobe would have had a flux density of approximately 0.1 mJy/beam at a resolution of 4 arcsec (i.e., comparable with the MeerKAT resolution), which was below the 1-$\\sigma$ rms noise of the VLA data taken in the '90s.\n"
   ]
  },
  {
   "cell_type": "code",
   "execution_count": 12,
   "id": "c19b24aa",
   "metadata": {},
   "outputs": [
    {
     "name": "stdout",
     "output_type": "stream",
     "text": [
      "Equipartition lobe magnetic field [G] (Bminlobe) = 6.541e-06\n",
      "Equipartition lobe pressure [erg/cm3] (pminlobe) = 1.337e-12\n"
     ]
    }
   ],
   "source": [
    "VlobeU = ((np.pi)*(bmaj/2)*(bmin/2))*(DR)*(0.048*d10*pc)**3 #unit volume of in the lobe structure, assuming a cylindrical geometry\n",
    "\n",
    "Llobe = LumTot(Flobe,(d10*10),nu1,nu2,alpha)\n",
    "\n",
    "Bminlobe = (6*np.pi*(eta/f)*c12*Llobe/VlobeU)**(2/7)  # Equipartition magnetic field, Gauss\n",
    "\n",
    "# Total pressure in this feature for minimum energy conditions\n",
    "\n",
    "pminlobe = 7/9*Bminlobe**(2)/(8*np.pi)*(k+1)       # Equipartition pressure, erg/cm3\n",
    "\n",
    "print('Equipartition lobe magnetic field [G] (Bminlobe) =','{:.3e}'.format(Bminlobe))\n",
    "print('Equipartition lobe pressure [erg/cm3] (pminlobe) =','{:.3e}'.format(pminlobe))\n",
    "\n",
    "#Slobe = 0.08*(D/f**(-7))**(1/8)*(math.sin(incl*np.pi/180))**(-2)*(k+1)**(-7/4)\n",
    "#print('Slobe ~',Slobe)\n"
   ]
  },
  {
   "cell_type": "code",
   "execution_count": 13,
   "id": "3bf5677c",
   "metadata": {},
   "outputs": [
    {
     "name": "stdout",
     "output_type": "stream",
     "text": [
      "Age of the fossil shells wrt current shell [Myr] (shellage) =  2.311e-01\n"
     ]
    }
   ],
   "source": [
    "# Assuming the shells near the bow shock are older bow shocks that have expanded \n",
    "\n",
    "shellsep = 120*(0.048*d10*pc) #shell separation in cm\n",
    "\n",
    "shellage = shellsep/vdmincm\n",
    "shellageMyr = shellage/(365.*24.*60*60)/1.0E+6\n",
    "\n",
    "print('Age of the fossil shells wrt current shell [Myr] (shellage) = ', '{:.3e}'.format(shellageMyr))"
   ]
  },
  {
   "cell_type": "markdown",
   "id": "2ab07fcf",
   "metadata": {},
   "source": [
    "#### Radio Emission from the Hot Spots\n",
    "\n",
    "The sites of the strong shocks at the end of the jets of AGN jets are referred to as radio hot spots. The relativistic electrons giving rise to the synchrotron emission of the radio\n",
    "lobes are assumed to be accelerated in these hot spots, which are considerably brighter than the lobes because of the presence of freshly acceletared electrons and enhanced magnetic field. The norther cylindrical feature sprouting from IRAS 19132+1035 couls be such and hot spot. \n",
    "The pressure inside the linear feature derived above (**p$_{cy}$ = 1.6e-11 erg/cm 3**) is close to the pressure of the shocked ISM (the pressure of the Bremsstrahlung emitting gas inside IRAS 19132+1035, derived for the assumption of ideal gas conditions), p$_{ideal}$ ~ 2.7E-10 erg/cm$^3$. \n",
    "\n",
    "The model assumes that the pressure at the end of the jets balances the pressure of the surrounding gas compressed by the bow shock. Our findings are consistent with this pressure equilibrium. This implies that the pressure in the nonthermal feature is dominated by the contribution of the relativistic gas; i.e., $k$ is small (we assumed k = 0.01). "
   ]
  },
  {
   "cell_type": "markdown",
   "id": "984225c3",
   "metadata": {},
   "source": [
    "# Comments\n",
    "\n",
    "**On the jet power** - The size of the bubble carved by the jet from GRS 1915+105 is approximately 5 times larger than that near Cyg X-1, considering the inclination angle of the source (its orbital plane at least, assuming a jet perpendicular to the disc, which is not necessarily strictly correct, but it is a reasonable simplification) to the line of sight.\n",
    "Assuming that the emisison from IRAS 19132+1035 is predominantly from Bremsstrahlung (supported by the flat spectral index measured in the old data), we infer an electron density of the order 60 particles/cm$^3$, which is similar to what was found in the case of Cyg X-1 (it was approximately 25 in that case, although the ionization parameter adopted was 0.01 instead of 1, which changed a lot the jet power estimate). Since the jet transferred energy goes linearly with the electron density (which is basically the only free parameter), any assumption on the density directly impacts the inferred transferred jet power. With the parameters assumed so far, the minimum jet power is 1.4e+37 ergs/s.\n",
    "1) changing the opening angle of the jet changes dramatically the estimate, since Q$_{jet}$ is inversely proportional to the opening angle to the fith power (!).\n",
    "\n",
    "2) If we used the same *ionization fraction* adopted by Gallo et al. 2005, then the elctron density would be 2 orders of magnitude higher, and the implied jet power would be **5.2e+38 ergs/s.**\n",
    "\n",
    "3) Tetarenko et al. 2018 used *H2 column density* maps to estimate the gas mass in the IRAS region, under the assumption that it the best representative of the gas interacting and being displaced by the jet. The resulting electron density is ~4000 particles/cm$^3$, which implies a jet power of **1.44e+39 ergs/s.** The problem in this case is - as stated above - that for this electron density, the temperature of the gas implied by the Bremsstrahlung emissivity is of the order 10$^{13}$K, which is unrealistic. \n",
    "\n",
    "\n",
    "**On the jet age** - Based on our treatment, the age of the shock is at most 0.3 Myr, which means that the bow shock clearly must have formed much earlier than the recent outuburst (which lasted only 30 years). If the bow shock started forming when the source first became active, then the system has only spent a short time accreting. This implies that there might have not been time for the black hole to spin up significantly (the companion is a red giant star of mass 0.8 Msun). Hence, the black hole might have formed with a relatively high spin. Interestingly, the RPM yields a relatively high spin for GRS 191+105 (Motta et al. in prep.), which would match this prediction. Furthermore, Podsiadlowski, Rappaport & Han 2002 (https://ui.adsabs.harvard.edu/abs/2003MNRAS.341..385P/abstract) show that the initial mass of the donor in GRS 1915+105 may have been as high as ∼6 MSun and the black hole may have accreted up to ∼4 MSun from its companion, being spun up significantly in the process, all in a relatively short period of time - of the order of a Myr - consistently with the age of the bow shock."
   ]
  },
  {
   "cell_type": "markdown",
   "id": "c60d762f",
   "metadata": {},
   "source": [
    "### Appendix A - Ionization of Hydrogen (Saha’s equation)\n",
    "\n",
    "The ionization state of a gas in equilibrium at temperature T can be found\n",
    "using Saha’s equation:\n",
    "\n",
    "$$\\frac{N_{j+1}}{N_j} = \\frac{2Z_{j+1}}{n_eZ_j}(\\frac{2\\pi m_ekT}{h^2})^{3/2}e^{-\\chi_j/kT}$$\n"
   ]
  },
  {
   "cell_type": "markdown",
   "id": "6005a1a2",
   "metadata": {},
   "source": [
    "There is a separate Saha equation for each pair (j, j + 1) of ionization states\n",
    "associated with each element present in the gas. These equations have to be\n",
    "solved simultaneously, together with an equation governing charge conservation\n",
    "which ultimately sets the electron number density n$_e$.\n",
    "However, the simplest case of a pure hydrogen gas is amenable to analytic\n",
    "solution, since there is only one Saha equation to solve. Assuming most of\n",
    "the neutral hydrogen is in the ground state, we can make the approximation\n",
    "Z$_I$ ≈ g1 = 2 (here, g1 is the statistical weight of the ground state). For the\n",
    "ionized hydrogen, Z$_{II}$ = 1 because the ionized state is just a proton. Saha’s\n",
    "equation then becomes:\n",
    "\n",
    "$$ \\frac{N_{II}}{N_I} = \\frac{1}{n_e}(\\frac{2\\pi m_ekT}{h^2})^{3/2}e^{-13.6eV/kT} $$ "
   ]
  },
  {
   "cell_type": "markdown",
   "id": "1eb5fc61",
   "metadata": {},
   "source": [
    "To determine the electron number density n$_e$, we can take advantage of charge\n",
    "conservation. If there are **n hydrogen atoms/ions per unit volume**, then:\n",
    "\n",
    "$$ n_e = \\frac{N_{II}}{N_I + N_{II}}n $$ \n",
    "\n",
    "since there is one electron for each H$_{II}$ ion. Then, assuming **N = $N_I + N_{II}$** Saha’s equation becomes:\n",
    "\n",
    "$$\\frac{x^2}{1 - x} = \\frac{1}{n}(\\frac{2\\pi m_ekT}{h^2})^{3/2}e^{-13.6eV/kT}$$\n",
    "\n",
    "which is a quadratic equation for x. \n"
   ]
  },
  {
   "cell_type": "code",
   "execution_count": 14,
   "id": "faef486b",
   "metadata": {},
   "outputs": [
    {
     "name": "stdout",
     "output_type": "stream",
     "text": [
      "sol1 = -2.519e+03\n",
      "sol2 = 9.996e-01\n"
     ]
    }
   ],
   "source": [
    "# Solve the quadratic equation ax**2 + bx + c = 0\n",
    "\n",
    "n = 1E+4\n",
    "T = 1E+4\n",
    "\n",
    "a = 1\n",
    "b = (1/n)*((2*np.pi*me*kb*T)/(h**2))*np.exp(-13.6*eV/(kb*T))\n",
    "k = -(b)\n",
    "\n",
    "# calculate the discriminant\n",
    "d = (b**2) - (4*a*k)\n",
    "\n",
    "# find two solutions\n",
    "sol1 = (-b-np.sqrt(d))/(2*a)\n",
    "sol2 = (-b+np.sqrt(d))/(2*a)\n",
    "\n",
    "#print(d)\n",
    "print('sol1 =', '{:.3e}'.format(sol1))\n",
    "print('sol2 =', '{:.3e}'.format(sol2))"
   ]
  },
  {
   "cell_type": "markdown",
   "id": "86cd705c",
   "metadata": {},
   "source": [
    "### Appendix B - relativistic time delation and length contraction (ignore this, just a test)\n"
   ]
  },
  {
   "cell_type": "code",
   "execution_count": 15,
   "id": "3172950d",
   "metadata": {},
   "outputs": [
    {
     "name": "stdout",
     "output_type": "stream",
     "text": [
      "Dt' = 240.0\n",
      "Gamma = 1.25\n",
      "L0 = 5.095603200000001e+16\n"
     ]
    }
   ],
   "source": [
    "d10 = 0.86\n",
    "beta = 0.6\n",
    "Gamma = 1/(np.sqrt(1 - beta**2))\n",
    "DTprime = 300*(365*24*60*60)\n",
    "\n",
    "Dt = DTprime*np.sqrt(1 - beta**2)\n",
    "print(\"Dt' =\",Dt/(365*24*60*60))\n",
    "print('Gamma =', Gamma)\n",
    "#DTprime is time measured by a stationary observer (rest)\n",
    "#Dt is time measured by the observer travelling at the speed of light (longer)\n",
    "\n",
    "#400 mas = 0.4asec \n",
    "L0 = (0.4)*0.048*d10*pc\n",
    "L = L0*np.sqrt(1 - beta**2)\n",
    "\n",
    "print('L0 =',L0)\n",
    "#L0 is the observed lenght seen by the observer at infinity\n",
    "#L is the contracted length seen by the observer travelling at the speed of light"
   ]
  },
  {
   "cell_type": "markdown",
   "id": "8ca161f8",
   "metadata": {},
   "source": [
    "# MC-based parameters estimates"
   ]
  },
  {
   "cell_type": "markdown",
   "id": "012a5b3c",
   "metadata": {},
   "source": [
    "### 1) Electron density"
   ]
  },
  {
   "cell_type": "code",
   "execution_count": 16,
   "id": "97d2868e",
   "metadata": {},
   "outputs": [],
   "source": [
    "# Redefine distance for simplicity\n",
    "d = d10*10          #distance to GRS 1915 in kpc, Reid et al. 2014\n",
    "d_err = 0.19        #error in distance measured "
   ]
  },
  {
   "cell_type": "code",
   "execution_count": 17,
   "id": "85c53701",
   "metadata": {},
   "outputs": [],
   "source": [
    "from joblib import Parallel, delayed\n",
    "import multiprocessing\n",
    "from scipy.stats import gaussian_kde,rv_continuous\n",
    "from scipy import stats\n",
    "from scipy.interpolate import interp1d"
   ]
  },
  {
   "cell_type": "code",
   "execution_count": 18,
   "id": "2ee3c6b8",
   "metadata": {},
   "outputs": [],
   "source": [
    "n_iter = 5000\n",
    "n_cores = 16         # Number of parallel threads"
   ]
  },
  {
   "cell_type": "code",
   "execution_count": 19,
   "id": "cdc7b22c",
   "metadata": {},
   "outputs": [],
   "source": [
    "class custom_dist_analytical(rv_continuous):\n",
    "    def _pdf(self, xx):\n",
    "        return testf(xx)\n",
    "\n",
    "np.random.seed(124)"
   ]
  },
  {
   "cell_type": "code",
   "execution_count": 20,
   "id": "ee20504a",
   "metadata": {},
   "outputs": [],
   "source": [
    "# Source parameters:\n",
    "dist = np.random.normal(d,d_err, n_iter)\n",
    "Flux = np.random.normal(Firas,Firas_err,n_iter)\n",
    "Ring_thic = np.random.normal(Riras,Riras_err,n_iter) #ring thickness in arcsec"
   ]
  },
  {
   "cell_type": "code",
   "execution_count": 21,
   "id": "2d0159f7",
   "metadata": {},
   "outputs": [
    {
     "name": "stderr",
     "output_type": "stream",
     "text": [
      "[Parallel(n_jobs=16)]: Using backend LokyBackend with 16 concurrent workers.\n",
      "[Parallel(n_jobs=16)]: Done  40 tasks      | elapsed:    0.3s\n",
      "[Parallel(n_jobs=16)]: Done 384 tasks      | elapsed:    0.4s\n",
      "[Parallel(n_jobs=16)]: Done 4160 tasks      | elapsed:    0.5s\n"
     ]
    },
    {
     "name": "stdout",
     "output_type": "stream",
     "text": [
      "Median = 377.48855567135945 ; Lower limit =  226.48537731099532 ; Upper limit =  524.9265285957241\n"
     ]
    },
    {
     "name": "stderr",
     "output_type": "stream",
     "text": [
      "[Parallel(n_jobs=16)]: Done 5000 out of 5000 | elapsed:    0.6s finished\n"
     ]
    }
   ],
   "source": [
    "elec_density = Parallel(n_jobs=n_cores,verbose=5)(delayed(nesph)(dist[i],Flux[i],Ring_thic[i],T_axis[i],nu,Z) for i in range(n_iter))\n",
    "\n",
    "median = np.percentile(elec_density,50)\n",
    "low_lim = np.percentile(elec_density,5)\n",
    "high_lim = np.percentile(elec_density,95)\n",
    "print('Median =',median,'; Lower limit = ',low_lim,'; Upper limit = ',high_lim)\n"
   ]
  },
  {
   "cell_type": "code",
   "execution_count": 22,
   "id": "a22c9f74",
   "metadata": {},
   "outputs": [
    {
     "data": {
      "image/png": "[encoded data removed]",
      "text/plain": [
       "<Figure size 640x480 with 1 Axes>"
      ]
     },
     "metadata": {},
     "output_type": "display_data"
    }
   ],
   "source": [
    "### PLOT\n",
    "%matplotlib inline\n",
    "histplot = plt.hist(elec_density,bins=70,color='royalblue',edgecolor='blue',density=True,alpha=0.7)\n",
    "plt.vlines([low_lim,high_lim],0,max(histplot[0])*1.1,linestyles=':',colors='midnightblue')\n",
    "plt.vlines(median,0,max(histplot[0])*1.1,linestyles=':',colors='midnightblue')\n",
    "plt.ylim(0,max(histplot[0])*1.1)\n",
    "plt.ylabel('Probability density', fontsize=12)\n",
    "plt.xlabel(r'$n_e(T)$ [cm$^{-3}$]', fontsize=12)\n",
    "#plt.xlim(0,400)\n",
    "#plt.title(str(name))\n",
    "plt.minorticks_on()\n",
    "plt.tick_params(axis='both', which='major', labelsize=12)\n",
    "plt.tick_params(axis='both', which='major', length=9)\n",
    "plt.tick_params(axis='both', which='minor', length=4.5)\n",
    "plt.tick_params(axis='both', which='both',direction='in',right=True,top=True)\n",
    "#plt.savefig(str(name)+'_peculiar_velocity.png')\n",
    "plt.show()"
   ]
  },
  {
   "cell_type": "markdown",
   "id": "10737ef3",
   "metadata": {},
   "source": [
    "### 2) Shock velocity"
   ]
  },
  {
   "cell_type": "code",
   "execution_count": 23,
   "id": "bba46f8c",
   "metadata": {},
   "outputs": [
    {
     "name": "stdout",
     "output_type": "stream",
     "text": [
      "2.098e+06 3.633e+07\n"
     ]
    }
   ],
   "source": [
    "v_range =    ((16*T_axis*kb)/(3*mh))**(1/2)/1e5\n",
    "v_range_cm = ((16*T_axis*kb)/(3*mh))**(1/2)\n",
    "print('{:.3e}'.format(min(v_range_cm)),'{:.3e}'.format(max(v_range_cm)))"
   ]
  },
  {
   "cell_type": "code",
   "execution_count": 24,
   "id": "d75f97b8",
   "metadata": {},
   "outputs": [
    {
     "data": {
      "image/png": "[encoded data removed]",
      "text/plain": [
       "<Figure size 640x480 with 1 Axes>"
      ]
     },
     "metadata": {},
     "output_type": "display_data"
    }
   ],
   "source": [
    "### PLOT\n",
    "fig = plt.figure()\n",
    "ax = fig.add_subplot(111)\n",
    "\n",
    "ax.yaxis.set_ticks_position('both')\n",
    "ax.xaxis.set_ticks_position('both')\n",
    "ax.get_yaxis().set_tick_params(direction='in', which='both')\n",
    "ax.get_xaxis().set_tick_params(direction='in', which='both')\n",
    "\n",
    "ax.plot(v_range, T_axis, 'r-', lw=3)\n",
    "\n",
    "ax.set_ylim(1e4, 1.1e6)\n",
    "#ax.set_ylim(3., 5e2)\n",
    "ax.set_xscale('log')\n",
    "ax.set_yscale('log')\n",
    "\n",
    "ax.set_xlabel(r'Velocity [km s$ˆ{-1}$]')\n",
    "ax.set_ylabel(r'Temperature [K]')\n",
    "\n",
    "plt.show()"
   ]
  },
  {
   "cell_type": "markdown",
   "id": "d099e9f5",
   "metadata": {},
   "source": [
    "### 3) Jet age"
   ]
  },
  {
   "cell_type": "code",
   "execution_count": 25,
   "id": "625f2391",
   "metadata": {},
   "outputs": [
    {
     "name": "stdout",
     "output_type": "stream",
     "text": [
      "Median = 0.11169670247120958 Lower limit =  0.07947264467943148 Upper limit =  0.33684098805289164\n"
     ]
    },
    {
     "name": "stderr",
     "output_type": "stream",
     "text": [
      "[Parallel(n_jobs=16)]: Using backend LokyBackend with 16 concurrent workers.\n",
      "[Parallel(n_jobs=16)]: Done  48 tasks      | elapsed:    0.0s\n",
      "[Parallel(n_jobs=16)]: Done 512 tasks      | elapsed:    0.1s\n",
      "[Parallel(n_jobs=16)]: Done 4224 tasks      | elapsed:    0.1s\n",
      "[Parallel(n_jobs=16)]: Done 4969 out of 5000 | elapsed:    0.1s remaining:    0.0s\n",
      "[Parallel(n_jobs=16)]: Done 5000 out of 5000 | elapsed:    0.1s finished\n"
     ]
    }
   ],
   "source": [
    "# Generating distribution arrays for measurements\n",
    "len_min = np.random.normal(disamin,disamin_err, n_iter) #distance between bowshock and target in arcmin\n",
    "i_angle = np.random.normal(incl,incl_err,n_iter)        #inclination angle\n",
    "#Obtaining distribution of age for different input parameters\n",
    "t_age = Parallel(n_jobs=n_cores,verbose=5)(delayed(age)(len_min[i],dist[i],i_angle[i],v_range_cm[i]) for i in range(n_iter))\n",
    "\n",
    "median = np.percentile(t_age,50)\n",
    "low_lim = np.percentile(t_age,5)\n",
    "high_lim = np.percentile(t_age,95)\n",
    "tsmax_sim = np.percentile(t_age,95)\n",
    "print('Median =',median,'Lower limit = ',low_lim,'Upper limit = ',high_lim)"
   ]
  },
  {
   "cell_type": "code",
   "execution_count": 26,
   "id": "e745269b",
   "metadata": {},
   "outputs": [
    {
     "name": "stdout",
     "output_type": "stream",
     "text": [
      "Median = 0.11169670247120958 Lower limit =  0.07947264467943148 Upper limit =  0.33684098805289164\n"
     ]
    },
    {
     "data": {
      "image/png": "[encoded data removed]",
      "text/plain": [
       "<Figure size 640x480 with 1 Axes>"
      ]
     },
     "metadata": {},
     "output_type": "display_data"
    }
   ],
   "source": [
    "### PLOT\n",
    "print('Median =',median,'Lower limit = ',low_lim,'Upper limit = ',high_lim)\n",
    "histplot = plt.hist(t_age,bins=70,color='royalblue',edgecolor='blue',density=True,alpha=0.7)\n",
    "plt.vlines([low_lim,high_lim],0,max(histplot[0])*1.1,linestyles=':',colors='midnightblue')\n",
    "plt.vlines(median,0,max(histplot[0])*1.1,linestyles=':',colors='midnightblue')\n",
    "plt.ylim(0,max(histplot[0])*1.1)\n",
    "plt.ylabel('Probability density', fontsize=12)\n",
    "plt.xlabel('Age [Myr]', fontsize=12)\n",
    "plt.xlim(0,1.3)\n",
    "#plt.title(str(name))\n",
    "plt.minorticks_on()\n",
    "plt.tick_params(axis='both', which='major', labelsize=12)\n",
    "plt.tick_params(axis='both', which='major', length=9)\n",
    "plt.tick_params(axis='both', which='minor', length=4.5)\n",
    "plt.tick_params(axis='both', which='both',direction='in',right=True,top=True)\n",
    "#plt.savefig(str(name)+'_peculiar_velocity.png')\n",
    "plt.show()"
   ]
  },
  {
   "cell_type": "markdown",
   "id": "f2f74833",
   "metadata": {},
   "source": [
    "### 4) Jet power"
   ]
  },
  {
   "cell_type": "code",
   "execution_count": 58,
   "id": "c2ecb96a",
   "metadata": {},
   "outputs": [
    {
     "name": "stdout",
     "output_type": "stream",
     "text": [
      "open_angle =  14.942868023693903\n",
      "d =  8.6\n",
      "elec_density =  376.88075390799054\n",
      "len_min =  16.99816279266814\n",
      "v_range_cm =  24296199.482018065\n",
      "Median = 1.3746653236884583e+39 Lower limit =  5.209669367702893e+36 Upper limit =  2.072453270189337e+40\n"
     ]
    },
    {
     "name": "stderr",
     "output_type": "stream",
     "text": [
      "[Parallel(n_jobs=16)]: Using backend LokyBackend with 16 concurrent workers.\n",
      "[Parallel(n_jobs=16)]: Done  48 tasks      | elapsed:    0.0s\n",
      "[Parallel(n_jobs=16)]: Done 512 tasks      | elapsed:    0.1s\n",
      "[Parallel(n_jobs=16)]: Done 4224 tasks      | elapsed:    0.1s\n",
      "[Parallel(n_jobs=16)]: Done 4969 out of 5000 | elapsed:    0.1s remaining:    0.0s\n",
      "[Parallel(n_jobs=16)]: Done 5000 out of 5000 | elapsed:    0.1s finished\n"
     ]
    }
   ],
   "source": [
    "# Generating distribution arrays for measurements\n",
    "open_angle = np.random.uniform(o_a_err, o_a, n_iter) #opening angle\n",
    "#Obtaining distribution for different input parameters\n",
    "\n",
    "print('open_angle = ',np.mean(open_angle))\n",
    "print('d = ', d)\n",
    "print('elec_density = ',np.mean(elec_density))\n",
    "print('len_min = ',np.mean(len_min))\n",
    "print('v_range_cm = ',np.mean(v_range_cm))\n",
    "\n",
    "\n",
    "power_j = Parallel(n_jobs=n_cores,verbose=5)(delayed(power)(open_angle[i],d,elec_density[i],len_min[i],v_range_cm[i]) for i in range(n_iter))\n",
    "\n",
    "median = np.percentile(power_j,50)\n",
    "low_lim = np.percentile(power_j,5)\n",
    "high_lim = np.percentile(power_j,95)\n",
    "print('Median =',median,'Lower limit = ',low_lim,'Upper limit = ',high_lim)"
   ]
  },
  {
   "cell_type": "code",
   "execution_count": 57,
   "id": "ea525113",
   "metadata": {},
   "outputs": [
    {
     "data": {
      "application/vnd.jupyter.widget-view+json": {
       "model_id": "91943b92d0b04c97a91dc6cd9542e244",
       "version_major": 2,
       "version_minor": 0
      },
      "image/png": "[encoded data removed]",
      "text/html": [
       "\n",
       "            <div style=\"display: inline-block;\">\n",
       "                <div class=\"jupyter-widgets widget-label\" style=\"text-align: center;\">\n",
       "                    Figure 1\n",
       "                </div>\n",
       "                <img src='data:image/png;base64,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' width=640.0/>\n",
       "            </div>\n",
       "        "
      ],
      "text/plain": [
       "Canvas(toolbar=Toolbar(toolitems=[('Home', 'Reset original view', 'home', 'home'), ('Back', 'Back to previous …"
      ]
     },
     "metadata": {},
     "output_type": "display_data"
    }
   ],
   "source": [
    "### PLOT\n",
    "histplot = plt.hist(power_j,bins=70,color='royalblue',edgecolor='blue',density=True,alpha=0.7)\n",
    "plt.vlines([low_lim,high_lim],0,max(histplot[0])*1.1,linestyles=':',colors='midnightblue')\n",
    "plt.vlines(median,0,max(histplot[0])*1.1,linestyles=':',colors='midnightblue')\n",
    "plt.ylim(0,max(histplot[0])*1.1)\n",
    "plt.ylabel('Probability density', fontsize=12)\n",
    "plt.xlabel('Power', fontsize=12)\n",
    "#plt.xlim(0,400)\n",
    "#plt.title(str(name))\n",
    "plt.minorticks_on()\n",
    "plt.tick_params(axis='both', which='major', labelsize=12)\n",
    "plt.tick_params(axis='both', which='major', length=9)\n",
    "plt.tick_params(axis='both', which='minor', length=4.5)\n",
    "plt.tick_params(axis='both', which='both',direction='in',right=True,top=True)\n",
    "#plt.savefig(str(name)+'_peculiar_velocity.png')\n",
    "plt.show()"
   ]
  },
  {
   "cell_type": "markdown",
   "id": "1e1320ae-010e-452c-ab58-ddb96d4c545e",
   "metadata": {},
   "source": [
    "##### 4A) Total injected power"
   ]
  },
  {
   "cell_type": "code",
   "execution_count": 72,
   "id": "0a93b23d-e3a8-40ef-ae81-bbc7f9e28bdb",
   "metadata": {},
   "outputs": [
    {
     "name": "stdout",
     "output_type": "stream",
     "text": [
      "5.913287589980105e+48\n"
     ]
    }
   ],
   "source": [
    "def totalpower(Pjet,jet_age):\n",
    "    Ptot = Pjet*jet_age \n",
    "    return Ptot\n",
    "\n",
    "powtot = totalpower(Qjetmin,tsmin)\n",
    "print(powtot)"
   ]
  },
  {
   "cell_type": "code",
   "execution_count": 75,
   "id": "8b226c34-6729-4e72-9407-9fc9ded587ac",
   "metadata": {},
   "outputs": [
    {
     "name": "stderr",
     "output_type": "stream",
     "text": [
      "[Parallel(n_jobs=16)]: Using backend LokyBackend with 16 concurrent workers.\n"
     ]
    },
    {
     "name": "stdout",
     "output_type": "stream",
     "text": [
      "Median = 7.038734308836238e+44 Lower limit =  6.045042037661614e+42 Upper limit =  5.298882147209816e+45\n"
     ]
    },
    {
     "name": "stderr",
     "output_type": "stream",
     "text": [
      "[Parallel(n_jobs=16)]: Done  40 tasks      | elapsed:    0.2s\n",
      "[Parallel(n_jobs=16)]: Done 384 tasks      | elapsed:    0.3s\n",
      "[Parallel(n_jobs=16)]: Done 4160 tasks      | elapsed:    0.3s\n",
      "[Parallel(n_jobs=16)]: Done 5000 out of 5000 | elapsed:    0.3s finished\n"
     ]
    }
   ],
   "source": [
    "totpower_j = Parallel(n_jobs=n_cores,verbose=5)(delayed(totalpower)(power_j[i], t_age[i]) for i in range(n_iter))\n",
    "median = np.percentile(totpower_j,50)\n",
    "low_lim = np.percentile(totpower_j,5)\n",
    "high_lim = np.percentile(totpower_j,95)\n",
    "print('Median =',median*(365.0*24.0*60.0*60.0),'Lower limit = ',low_lim*(365.0*24.0*60.0*60.0),'Upper limit = ',high_lim*(365.0*24.0*60.0*60.0))"
   ]
  },
  {
   "cell_type": "markdown",
   "id": "4702b786-4495-4730-84d0-15b476cf3301",
   "metadata": {},
   "source": [
    "##### 4B) Jet pressure\n"
   ]
  },
  {
   "cell_type": "code",
   "execution_count": 29,
   "id": "4bcfc08b",
   "metadata": {},
   "outputs": [
    {
     "name": "stdout",
     "output_type": "stream",
     "text": [
      "Median = 1.0650206180192583e-09 Lower limit =  8.331943178914442e-12 Upper limit =  8.438783305328687e-09\n"
     ]
    },
    {
     "name": "stderr",
     "output_type": "stream",
     "text": [
      "[Parallel(n_jobs=16)]: Using backend LokyBackend with 16 concurrent workers.\n",
      "[Parallel(n_jobs=16)]: Done  48 tasks      | elapsed:    0.0s\n",
      "[Parallel(n_jobs=16)]: Done 512 tasks      | elapsed:    0.1s\n",
      "[Parallel(n_jobs=16)]: Done 4224 tasks      | elapsed:    0.1s\n",
      "[Parallel(n_jobs=16)]: Done 4969 out of 5000 | elapsed:    0.2s remaining:    0.0s\n",
      "[Parallel(n_jobs=16)]: Done 5000 out of 5000 | elapsed:    0.2s finished\n"
     ]
    }
   ],
   "source": [
    "press_j = Parallel(n_jobs=n_cores,verbose=5)(delayed(press)(open_angle[i],d,elec_density[i],len_min[i],v_range_cm[i]) for i in range(n_iter))\n",
    "\n",
    "median = np.percentile(press_j,50)\n",
    "low_lim = np.percentile(press_j,5)\n",
    "high_lim = np.percentile(press_j,95)\n",
    "print('Median =',median,'Lower limit = ',low_lim,'Upper limit = ',high_lim)"
   ]
  },
  {
   "cell_type": "code",
   "execution_count": 30,
   "id": "cb1a4389",
   "metadata": {},
   "outputs": [
    {
     "data": {
      "image/png": "[encoded data removed]",
      "text/plain": [
       "<Figure size 640x480 with 1 Axes>"
      ]
     },
     "metadata": {},
     "output_type": "display_data"
    }
   ],
   "source": [
    "### PLOT\n",
    "#print('Median =',median,'; Lower limit = ',low_lim,'; Upper limit = ',high_lim)\n",
    "histplot = plt.hist(press_j,bins=70,color='royalblue',edgecolor='blue',density=True,alpha=0.7)\n",
    "plt.vlines([low_lim,high_lim],0,max(histplot[0])*1.1,linestyles=':',colors='midnightblue')\n",
    "plt.vlines(median,0,max(histplot[0])*1.1,linestyles=':',colors='midnightblue')\n",
    "plt.ylim(0,max(histplot[0])*1.1)\n",
    "plt.ylabel('Probability density', fontsize=12)\n",
    "plt.xlabel('Pressure', fontsize=12)\n",
    "#plt.xlim(0,400)\n",
    "#plt.title(str(name))\n",
    "plt.minorticks_on()\n",
    "plt.tick_params(axis='both', which='major', labelsize=12)\n",
    "plt.tick_params(axis='both', which='major', length=9)\n",
    "plt.tick_params(axis='both', which='minor', length=4.5)\n",
    "plt.tick_params(axis='both', which='both',direction='in',right=True,top=True)\n",
    "#plt.savefig(str(name)+'_peculiar_velocity.png')\n",
    "plt.show()"
   ]
  },
  {
   "cell_type": "markdown",
   "id": "0cb8fa50",
   "metadata": {},
   "source": [
    "### 5) Pseudo constant\n"
   ]
  },
  {
   "cell_type": "code",
   "execution_count": 31,
   "id": "1d35803a",
   "metadata": {},
   "outputs": [],
   "source": [
    "open_a = np.random.uniform(1,o_a, n_iter) #opening angle\n",
    "g_c = np.random.uniform(4/3,5/3, n_iter) \n",
    "g_j = np.random.uniform(4/3,5/3, n_iter) "
   ]
  },
  {
   "cell_type": "code",
   "execution_count": 32,
   "id": "3ef3ed5d",
   "metadata": {},
   "outputs": [
    {
     "name": "stdout",
     "output_type": "stream",
     "text": [
      "Median = 2.849067055408958 ; Lower limit =  2.1202165716102535 ; Upper limit =  6.04253360088484\n"
     ]
    },
    {
     "name": "stderr",
     "output_type": "stream",
     "text": [
      "[Parallel(n_jobs=16)]: Using backend LokyBackend with 16 concurrent workers.\n",
      "[Parallel(n_jobs=16)]: Done  48 tasks      | elapsed:    0.0s\n",
      "[Parallel(n_jobs=16)]: Done 512 tasks      | elapsed:    0.1s\n",
      "[Parallel(n_jobs=16)]: Done 4224 tasks      | elapsed:    0.1s\n",
      "[Parallel(n_jobs=16)]: Done 4969 out of 5000 | elapsed:    0.1s remaining:    0.0s\n",
      "[Parallel(n_jobs=16)]: Done 5000 out of 5000 | elapsed:    0.1s finished\n"
     ]
    }
   ],
   "source": [
    "ce_1 = Parallel(n_jobs=n_cores,verbose=5)(delayed(C_cons)(g_c[i],g_j[i],(5.0/3),open_a[i]) for i in range(n_iter))\n",
    "\n",
    "median = np.percentile(ce_1,50)\n",
    "low_lim = np.percentile(ce_1,5)\n",
    "high_lim = np.percentile(ce_1,95)\n",
    "print('Median =',median,'; Lower limit = ',low_lim,'; Upper limit = ',high_lim)"
   ]
  },
  {
   "cell_type": "code",
   "execution_count": 33,
   "id": "4a4fd0db",
   "metadata": {},
   "outputs": [
    {
     "name": "stdout",
     "output_type": "stream",
     "text": [
      "Median = 2.849067055408958 ; Lower limit =  2.1202165716102535 ; Upper limit =  6.04253360088484\n"
     ]
    },
    {
     "data": {
      "image/png": "[encoded data removed]",
      "text/plain": [
       "<Figure size 640x480 with 1 Axes>"
      ]
     },
     "metadata": {},
     "output_type": "display_data"
    }
   ],
   "source": [
    "### PLOT\n",
    "print('Median =',median,'; Lower limit = ',low_lim,'; Upper limit = ',high_lim)\n",
    "histplot = plt.hist(ce_1,bins=70,color='royalblue',edgecolor='blue',density=True,alpha=0.7)\n",
    "plt.vlines([low_lim,high_lim],0,max(histplot[0])*1.1,linestyles=':',colors='midnightblue')\n",
    "plt.vlines(median,0,max(histplot[0])*1.1,linestyles=':',colors='midnightblue')\n",
    "plt.ylim(0,max(histplot[0])*1.1)\n",
    "plt.ylabel('Probability density', fontsize=12)\n",
    "plt.xlabel('C1 constant', fontsize=12)\n",
    "#plt.xlim(0,400)\n",
    "plt.title('Varying all three')\n",
    "plt.minorticks_on()\n",
    "plt.tick_params(axis='both', which='major', labelsize=12)\n",
    "plt.tick_params(axis='both', which='major', length=9)\n",
    "plt.tick_params(axis='both', which='minor', length=4.5)\n",
    "plt.tick_params(axis='both', which='both',direction='in',right=True,top=True)\n",
    "#plt.savefig(str(name)+'_peculiar_velocity.png')\n",
    "plt.show()"
   ]
  },
  {
   "cell_type": "code",
   "execution_count": 34,
   "id": "85380a56",
   "metadata": {},
   "outputs": [
    {
     "name": "stdout",
     "output_type": "stream",
     "text": [
      "Median = 2.7244439414909447 ; Lower limit =  2.0268133652734734 ; Upper limit =  5.826305906002921\n"
     ]
    },
    {
     "name": "stderr",
     "output_type": "stream",
     "text": [
      "[Parallel(n_jobs=16)]: Using backend LokyBackend with 16 concurrent workers.\n",
      "[Parallel(n_jobs=16)]: Done  48 tasks      | elapsed:    0.0s\n",
      "[Parallel(n_jobs=16)]: Done 512 tasks      | elapsed:    0.0s\n",
      "[Parallel(n_jobs=16)]: Done 4224 tasks      | elapsed:    0.1s\n",
      "[Parallel(n_jobs=16)]: Done 4969 out of 5000 | elapsed:    0.1s remaining:    0.0s\n",
      "[Parallel(n_jobs=16)]: Done 5000 out of 5000 | elapsed:    0.1s finished\n"
     ]
    }
   ],
   "source": [
    "ce_1 = Parallel(n_jobs=n_cores,verbose=5)(delayed(C_cons)(g_c[i],(5.0/3),(5.0/3),open_a[i]) for i in range(n_iter))\n",
    "\n",
    "median = np.percentile(ce_1,50)\n",
    "low_lim = np.percentile(ce_1,5)\n",
    "high_lim = np.percentile(ce_1,95)\n",
    "print('Median =',median,'; Lower limit = ',low_lim,'; Upper limit = ',high_lim)"
   ]
  },
  {
   "cell_type": "code",
   "execution_count": 35,
   "id": "474d0cbd",
   "metadata": {},
   "outputs": [
    {
     "name": "stdout",
     "output_type": "stream",
     "text": [
      "Median = 2.7244439414909447 ; Lower limit =  2.0268133652734734 ; Upper limit =  5.826305906002921\n"
     ]
    },
    {
     "data": {
      "image/png": "[encoded data removed]",
      "text/plain": [
       "<Figure size 640x480 with 1 Axes>"
      ]
     },
     "metadata": {},
     "output_type": "display_data"
    }
   ],
   "source": [
    "#PLOT\n",
    "print('Median =',median,'; Lower limit = ',low_lim,'; Upper limit = ',high_lim)\n",
    "histplot = plt.hist(ce_1,bins=70,color='Purple',edgecolor='black',density=True,alpha=0.7)\n",
    "plt.vlines([low_lim,high_lim],0,max(histplot[0])*1.1,linestyles=':',colors='midnightblue')\n",
    "plt.vlines(median,0,max(histplot[0])*1.1,linestyles=':',colors='midnightblue')\n",
    "plt.ylim(0,max(histplot[0])*1.1)\n",
    "plt.ylabel('Probability density', fontsize=12)\n",
    "plt.xlabel('C1 constant', fontsize=12)\n",
    "#plt.xlim(0,400)\n",
    "plt.title('Without varying g_j')\n",
    "plt.minorticks_on()\n",
    "plt.tick_params(axis='both', which='major', labelsize=12)\n",
    "plt.tick_params(axis='both', which='major', length=9)\n",
    "plt.tick_params(axis='both', which='minor', length=4.5)\n",
    "plt.tick_params(axis='both', which='both',direction='in',right=True,top=True)\n",
    "#plt.savefig(str(name)+'_peculiar_velocity.png')\n",
    "plt.show()"
   ]
  },
  {
   "cell_type": "code",
   "execution_count": 36,
   "id": "eb459401",
   "metadata": {},
   "outputs": [
    {
     "name": "stdout",
     "output_type": "stream",
     "text": [
      "Median = 2.8555030437324054 ; Lower limit =  2.138140015616608 ; Upper limit =  6.041765241503456\n"
     ]
    },
    {
     "name": "stderr",
     "output_type": "stream",
     "text": [
      "[Parallel(n_jobs=16)]: Using backend LokyBackend with 16 concurrent workers.\n",
      "[Parallel(n_jobs=16)]: Done  48 tasks      | elapsed:    0.0s\n",
      "[Parallel(n_jobs=16)]: Done 512 tasks      | elapsed:    0.1s\n",
      "[Parallel(n_jobs=16)]: Done 4224 tasks      | elapsed:    0.1s\n",
      "[Parallel(n_jobs=16)]: Done 4969 out of 5000 | elapsed:    0.1s remaining:    0.0s\n",
      "[Parallel(n_jobs=16)]: Done 5000 out of 5000 | elapsed:    0.1s finished\n"
     ]
    }
   ],
   "source": [
    "ce_1 = Parallel(n_jobs=n_cores,verbose=5)(delayed(C_cons)((5.0/3),g_j[i],(5.0/3),open_a[i]) for i in range(n_iter))\n",
    "\n",
    "median = np.percentile(ce_1,50)\n",
    "low_lim = np.percentile(ce_1,5)\n",
    "high_lim = np.percentile(ce_1,95)\n",
    "print('Median =',median,'; Lower limit = ',low_lim,'; Upper limit = ',high_lim)"
   ]
  },
  {
   "cell_type": "code",
   "execution_count": 37,
   "id": "cd3ec772",
   "metadata": {},
   "outputs": [
    {
     "name": "stdout",
     "output_type": "stream",
     "text": [
      "Median = 2.8555030437324054 ; Lower limit =  2.138140015616608 ; Upper limit =  6.041765241503456\n"
     ]
    },
    {
     "data": {
      "image/png": "[encoded data removed]",
      "text/plain": [
       "<Figure size 640x480 with 1 Axes>"
      ]
     },
     "metadata": {},
     "output_type": "display_data"
    }
   ],
   "source": [
    "#PLOT\n",
    "print('Median =',median,'; Lower limit = ',low_lim,'; Upper limit = ',high_lim)\n",
    "histplot = plt.hist(ce_1,bins=70,color='pink',edgecolor='magenta',density=True,alpha=0.7)\n",
    "plt.vlines([low_lim,high_lim],0,max(histplot[0])*1.1,linestyles=':',colors='midnightblue')\n",
    "plt.vlines(median,0,max(histplot[0])*1.1,linestyles=':',colors='midnightblue')\n",
    "plt.ylim(0,max(histplot[0])*1.1)\n",
    "plt.ylabel('Probability density', fontsize=12)\n",
    "plt.xlabel('C1 constant', fontsize=12)\n",
    "#plt.xlim(0,400)\n",
    "plt.title('Without varying g_c')\n",
    "plt.minorticks_on()\n",
    "plt.tick_params(axis='both', which='major', labelsize=12)\n",
    "plt.tick_params(axis='both', which='major', length=9)\n",
    "plt.tick_params(axis='both', which='minor', length=4.5)\n",
    "plt.tick_params(axis='both', which='both',direction='in',right=True,top=True)\n",
    "#plt.savefig(str(name)+'_peculiar_velocity.png')\n",
    "plt.show()"
   ]
  },
  {
   "cell_type": "markdown",
   "id": "cf539f33",
   "metadata": {},
   "source": [
    "# Other simple jet estimate"
   ]
  },
  {
   "cell_type": "markdown",
   "id": "cf14c1b2",
   "metadata": {},
   "source": [
    "### 1) Enthalpy"
   ]
  },
  {
   "cell_type": "markdown",
   "id": "18da7e40",
   "metadata": {},
   "source": [
    "Often in the AGN community the jet power is estimated by calculating the enthalpy and dividing by an appropriate timescale. Enthalpy is defined as  $dH = dU + pdV$ (from thermodynamics). It includes the energy stored in a volume and the work done in excavating it, so it measures the total energy/heat input by the jet. \n",
    "\n",
    "Enthalpy of an ideal gas with adiabatic index $\\gamma$ is given by \n",
    "$$\n",
    "H = U + P V = \\frac{PV}{(\\gamma -1)} + PV \n",
    "$$\n",
    "which for non-relavistic ideal gas comes out as $H= 4 PV$. The jet power is thus\n",
    "\n",
    "$$\n",
    "Q = \\frac{4PV}{\\tau}\n",
    "$$\n",
    "\n",
    "where: \n",
    "* $P$ is the the pressure from the minimum energy condition applied to synchrotron emission from the lobes\n",
    "* $V$ is the the volume from assuming a spherical bubble with radius equal to the approximate radius of the bubble near GRS 1915\n",
    "* $\\tau$ is the the jet age from the jet length divided by the bow shock velocity \n",
    "\n",
    "From above we have that the minimum energy pressure in the lobe is $P \\sim 1.3\\times 10^{-12}~{\\rm erg~s^{-1}}$. \n",
    "\n",
    "We assume that the lobe is a cylinder with length equal to the source-to-bow shock distance, and width equal to the lobe width. \n",
    "\n",
    "This implies a volume of the order $10^{60}$ cm$^3$. \n",
    "The (upper limit to the) jet age $\\tau$ is around $1.1$ Myr from the self-similar estimate (but this is the same order  as just lengh/shock velocity $L/\\dot{L}$. \n",
    "\n",
    "Putting this all together we get:\n",
    "$$\n",
    "Q  \\sim 1.2\\times 10^{35}~{\\rm erg~s}^{-1} \n",
    "$$\n",
    "which is not too far our estimate from the self-similar model. Note that this is a lower limit because we used an upper limit for $\\tau$. Additioanlly, it's easy for this to be higher, as a the presence of a non radiating pressure component (and/or a non volume filling synchrotron plasma) would increase the value. \n",
    "\n",
    "If we take the pressure from the self-similar model (but on this case the estimate is not indipendent any more), then the pressure inside the lobe is $P \\sim 3.6\\times 10^{-11}~{\\rm erg~s^{-1}}$, and the enthaly becomes: \n",
    "$$\n",
    "Q  \\sim 3.6\\times 10^{36}~{\\rm erg~s}^{-1} \n",
    "$$\n",
    "\n",
    "In the simulation below we see that if we calculate properly the limits, this estimate is perfectly consistent with the jet energy estimated in the self similar model. "
   ]
  },
  {
   "cell_type": "code",
   "execution_count": 38,
   "id": "fab5cfe5",
   "metadata": {},
   "outputs": [
    {
     "name": "stdout",
     "output_type": "stream",
     "text": [
      "Lobe Volume ellipsoidal [cm**3] ~  4.590e+59\n",
      "Lobe Volume cylinder [cm**3] ~  6.884e+59\n",
      "Average jet power (ellipsoidal) [erg/s] (H) ~  2.311e+35\n",
      "Average jet power (cylinder) [erg/s] (H) ~  3.467e+35\n"
     ]
    }
   ],
   "source": [
    "def enthalpy(P,Vlobe,tau):\n",
    "    QH = 4*P*Vlobe/tau\n",
    "    return QH\n",
    "\n",
    "\n",
    "P = pminlobe\n",
    "Llobe = discm\n",
    "tau = tsmax_sim*(365.*24.*60*60)*1.0E+6\n",
    "Blobe = lobesizecm\n",
    "VlobeCyl = np.pi*(Llobe)*(Blobe/2)**2     # Assuming that the volume here is cylinder\n",
    "                                       # with length equal to the source-to-bow shock\n",
    "                                       # distance, and the width is the lobe width.  \n",
    "\n",
    "Vlobe = 4/3*np.pi*(Llobe/2)*(Blobe/2)**2 # Assuming that the volume here is an ellipsoidal shape\n",
    "                                        # with length equal to the source-to-bow shock\n",
    "                                        # distance, and the width is the lobe width.  \n",
    "\n",
    "QH  = enthalpy(P,Vlobe,tau)\n",
    "QHcyl  = enthalpy(P,VlobeCyl,tau)\n",
    "\n",
    "print('Lobe Volume ellipsoidal [cm**3] ~ ', '{:.3e}'.format(Vlobe))\n",
    "print('Lobe Volume cylinder [cm**3] ~ ', '{:.3e}'.format(VlobeCyl))\n",
    "\n",
    "print('Average jet power (ellipsoidal) [erg/s] (H) ~ ', '{:.3e}'.format(QH))\n",
    "print('Average jet power (cylinder) [erg/s] (H) ~ ', '{:.3e}'.format(QHcyl))"
   ]
  },
  {
   "cell_type": "code",
   "execution_count": 39,
   "id": "d6b1c9aa",
   "metadata": {},
   "outputs": [
    {
     "name": "stdout",
     "output_type": "stream",
     "text": [
      "Median = 5.037916860836554e+38 ; Lower limit =  2.0419802188640252e+36 ; Upper limit =  5.612681527427995e+39\n"
     ]
    },
    {
     "name": "stderr",
     "output_type": "stream",
     "text": [
      "[Parallel(n_jobs=16)]: Using backend LokyBackend with 16 concurrent workers.\n",
      "[Parallel(n_jobs=16)]: Done  48 tasks      | elapsed:    0.0s\n",
      "[Parallel(n_jobs=16)]: Done 512 tasks      | elapsed:    0.0s\n",
      "[Parallel(n_jobs=16)]: Done 4224 tasks      | elapsed:    0.1s\n",
      "[Parallel(n_jobs=16)]: Done 4969 out of 5000 | elapsed:    0.1s remaining:    0.0s\n",
      "[Parallel(n_jobs=16)]: Done 5000 out of 5000 | elapsed:    0.1s finished\n"
     ]
    }
   ],
   "source": [
    "tau = np.multiply(t_age,(365.0*24.0*60.0*60.0)*1.0E+6)\n",
    "\n",
    "QHdis = Parallel(n_jobs=n_cores,verbose=5)(delayed(enthalpy)(press_j[i],Vlobe,tau[i]) for i in range(n_iter))\n",
    "\n",
    "median = np.percentile(QHdis,50)\n",
    "low_lim = np.percentile(QHdis,5)\n",
    "high_lim = np.percentile(QHdis,95)\n",
    "print('Median =',median,'; Lower limit = ',low_lim,'; Upper limit = ',high_lim)"
   ]
  },
  {
   "cell_type": "markdown",
   "id": "68896132",
   "metadata": {},
   "source": [
    "### 2) The \"Hotspot Method\""
   ]
  },
  {
   "cell_type": "markdown",
   "id": "88e98976",
   "metadata": {},
   "source": [
    "Under the assumption of equipartition, Godfrey and Shabala (https://arxiv.org/abs/1301.3499) give the hotspot power as \n",
    "\n",
    "$$\n",
    "Q_{\\rm GS} = A c \\frac{B_{\\rm eq}^2}{8\\pi} g\n",
    "$$\n",
    "\n",
    "where $g$ is a complicated expression which we could evaluate, but for the simplicity's sake we will take their estimate of $g \\approx 2$ from the AGN case. $A$ is the area of the hotspot surface, which we will assume is a circular surface with radius $R \\approx 7.6 \\times 10^{18}~{\\rm cm}$ based on the are of the elongated feature north-west from the IRAS region. The minimum energy magnetic field as estimated above is as $22~{\\rm \\mu G}$. \n",
    "We thus have: \n",
    "\n",
    "$$\n",
    "Q_{\\rm GS} = 2 R_{cyl} L_{cyl} c \\frac{B_{\\rm eq}^2}{8\\pi} \\sim 1.5 \\times 10^{36}~{\\rm erg~s}^{-1}\n",
    "$$\n",
    "\n",
    "We note that this is once more a lover limit, and, again, departures from equipartition will increase this estimate, which is already remarkably consistent with the \"average\" power estimate above. "
   ]
  },
  {
   "cell_type": "code",
   "execution_count": 40,
   "id": "640e9c7a",
   "metadata": {},
   "outputs": [],
   "source": [
    "def hotspotpower(rcyl,lencyl,Bmin):\n",
    "    A = 2*rcyl*lencyl\n",
    "    QHS =  A*c*Bmin**2/(8*np.pi)\n",
    "    return QHS\n",
    "\n",
    "QHS = hotspotpower(rcylcm,lencylcm,Bmin)"
   ]
  },
  {
   "cell_type": "code",
   "execution_count": 41,
   "id": "1c61c490",
   "metadata": {},
   "outputs": [
    {
     "name": "stdout",
     "output_type": "stream",
     "text": [
      "Average jet power (GS) ~ 1.521e+36\n"
     ]
    }
   ],
   "source": [
    "print('Average jet power (GS) ~', '{:.3e}'.format(QHS))"
   ]
  },
  {
   "cell_type": "markdown",
   "id": "7d0ef941",
   "metadata": {},
   "source": [
    "(No simulation here 'cause there's no distribution to build)."
   ]
  },
  {
   "cell_type": "markdown",
   "id": "f486d5f9",
   "metadata": {},
   "source": [
    "### All the important quantities in one place"
   ]
  },
  {
   "cell_type": "code",
   "execution_count": 42,
   "id": "d93fa8f7",
   "metadata": {},
   "outputs": [
    {
     "name": "stdout",
     "output_type": "stream",
     "text": [
      "---- IRAS ---- \n",
      "IRAS diameter [arcsec and pc] = 3.600e+01  and  1.486e+00\n",
      "IRAS volume [cm] = 5.050e+55\n",
      "IRAS flux density [mJy] = 5.700e+01\n",
      "Electron temperature [K] = 1.000e+04 - 3.000e+06\n",
      "Shock-compressed Electron density [particles/cm3] = 2.265e+02 - 5.249e+02\n",
      "Shock velocity [particles/cm3] = 2.098e+01 - 3.633e+02\n",
      "Pressure inside IRAS (ideal gas conditions) [erg/cm3] (Pideal) =  1.880e-10  and  5.640e-08\n",
      "Pressure in ISM (ideal gas conditions) [erg/cm3] = 9.400e-13\n",
      "\n",
      " ---- Hot spot (Cylinder)----\n",
      "Cylinder flux density [mJy] = 5.200e+00\n",
      "Cylinder Integrated Luminosity [erg/s] (Lcy) = 1.672e+29\n",
      "Cylinder radius [arcsec and pc] = 3.900e+00  and  1.610e-01\n",
      "Cylinder length [arcsec and pc] = 1.740e+01  and  8.294e-01\n",
      "Cylinder Volume [cm3] =  and  1.985e+54\n",
      "Cylinder pressure [erg/cm3]  ~ 1.566e-11\n",
      "Cylinder magnetic field density [G] =  2.238e-05\n",
      "\n",
      " ---- Lobe ----\n",
      "Lobe flux density [mJy] = 1.500e-01\n",
      "Source-ring separation (projected) [arcsec and pc] ~  and  1.700e+01 4.862e+01\n",
      "Lobe diameter [arcmin and pc]  = 1.000e+01  and  2.477e+01\n",
      "Ring thickness [arcsec and pc] = 6.000e+01  and 2.477e+00\n",
      "Lobe Volume [cm**3] ~  4.590e+59\n",
      "Equipartition lobe pressure [erg/cm3] = 1.337e-12\n",
      "Jet pressure [erg/cm3] ~  1.502e-11\n",
      "Equipartition lobe magnetic field [G] = 6.541e-06\n",
      "\n",
      " ---- Energetics -----\n",
      "Jet age [Myr] = 7.947e-02  and  3.368e-01\n",
      "Jet power [erg/s]  ~  5.860e+36  and  1.901e+40\n",
      "Jet pressure (inside IRAS) [erg/cm3] =  8.332e-12 - 8.439e-09\n",
      "Pseudo constant C  ~  1.998e+00  and  8.987e+00\n"
     ]
    }
   ],
   "source": [
    "print('---- IRAS ---- ')\n",
    "\n",
    "print('IRAS diameter [arcsec and pc] =', '{:.3e}'.format(Riras),' and ','{:.3e}'.format(Rirascm/pc))\n",
    "print('IRAS volume [cm] =', '{:.3e}'.format(Volsph))\n",
    "print('IRAS flux density [mJy] =','{:.3e}'.format(Firas*1000))\n",
    "print('Electron temperature [K] =','{:.3e}'.format(min(T_axis)),'-','{:.3e}'.format(max(T_axis)))\n",
    "print('Shock-compressed Electron density [particles/cm3] =','{:.3e}'.format(np.percentile(elec_density,5)),'-','{:.3e}'.format(np.percentile(elec_density,95)))\n",
    "print('Shock velocity [particles/cm3] =','{:.3e}'.format(min(v_range)),'-','{:.3e}'.format(max(v_range)))\n",
    "print('Pressure inside IRAS (ideal gas conditions) [erg/cm3] (Pideal) = ', '{:.3e}'.format(pidealmin),' and ', '{:.3e}'.format(pidealmax))\n",
    "\n",
    "print('Pressure in ISM (ideal gas conditions) [erg/cm3] =', '{:.3e}'.format(pidealunsh))\n",
    "\n",
    "\n",
    "print('\\n','---- Hot spot (Cylinder)----')\n",
    "\n",
    "print('Cylinder flux density [mJy] =','{:.3e}'.format(Fcyl*1000))\n",
    "print('Cylinder Integrated Luminosity [erg/s] (Lcy) =','{:.3e}'.format(Lcy))\n",
    "print('Cylinder radius [arcsec and pc] =','{:.3e}'.format(rcyl),' and ', '{:.3e}'.format(rcylcm/pc))\n",
    "print('Cylinder length [arcsec and pc] =','{:.3e}'.format(lencyl),' and ','{:.3e}'.format(lencylcm/pc))\n",
    "print('Cylinder Volume [cm3] =',' and ','{:.3e}'.format(VolCyl))\n",
    "print('Cylinder pressure [erg/cm3]  ~','{:.3e}'.format(pmincyl))\n",
    "print('Cylinder magnetic field density [G] = ','{:.3e}'.format(Bmin))\n",
    "\n",
    "\n",
    "print('\\n','---- Lobe ----')\n",
    "\n",
    "print('Lobe flux density [mJy] =','{:.3e}'.format(Flobe*1000))\n",
    "print('Source-ring separation (projected) [arcsec and pc] ~',' and ','{:.3e}'.format(disamin),'{:.3e}'.format(dispc))\n",
    "print('Lobe diameter [arcmin and pc]  =', '{:.3e}'.format(theam),' and ','{:.3e}'.format(lobesizecm/pc))\n",
    "print('Ring thickness [arcsec and pc] =','{:.3e}'.format(DR),' and','{:.3e}'.format(DRcm/pc))\n",
    "print('Lobe Volume [cm**3] ~ ', '{:.3e}'.format(Vlobe))\n",
    "print('Equipartition lobe pressure [erg/cm3] =','{:.3e}'.format(pminlobe))\n",
    "print('Jet pressure [erg/cm3] ~ ','{:.3e}'.format(pminjet))\n",
    "print('Equipartition lobe magnetic field [G] =','{:.3e}'.format(Bminlobe))\n",
    "\n",
    "print('\\n','---- Energetics -----')\n",
    "\n",
    "print('Jet age [Myr] =','{:.3e}'.format(np.percentile(t_age,5)),' and ','{:.3e}'.format(np.percentile(t_age,95)))\n",
    "print('Jet power [erg/s]  ~ ','{:.3e}'.format(np.percentile(power_j,5)),' and ','{:.3e}'.format(np.percentile(power_j,95)))\n",
    "#print('Jet power [erg/s]  ~ ','{:.3e}'.format(np.percentile(power_j,5),' and ','{:.3e}'.format(np.percentile(power_j,95)))\n",
    "print('Jet pressure (inside IRAS) [erg/cm3] = ', '{:.3e}'.format(np.percentile(press_j,5)),'-','{:.3e}'.format(np.percentile(press_j,95)))\n",
    "print('Pseudo constant C  ~ ','{:.3e}'.format(min(ce_1)),' and ','{:.3e}'.format(max(ce_1)))\n",
    "\n"
   ]
  },
  {
   "cell_type": "code",
   "execution_count": null,
   "id": "6c0a1075",
   "metadata": {},
   "outputs": [],
   "source": []
  },
  {
   "cell_type": "code",
   "execution_count": null,
   "id": "eb87942b-8de3-4b75-8bcb-cb8bccbd3c67",
   "metadata": {},
   "outputs": [],
   "source": []
  },
  {
   "cell_type": "code",
   "execution_count": null,
   "id": "f7e54ff1-d4ad-429a-9fea-3a234e3228e0",
   "metadata": {},
   "outputs": [],
   "source": []
  }
 ],
 "metadata": {
  "kernelspec": {
   "display_name": "Python 3 (ipykernel)",
   "language": "python",
   "name": "python3"
  },
  "language_info": {
   "codemirror_mode": {
    "name": "ipython",
    "version": 3
   },
   "file_extension": ".py",
   "mimetype": "text/x-python",
   "name": "python",
   "nbconvert_exporter": "python",
   "pygments_lexer": "ipython3",
   "version": "3.11.5"
  }
 },
 "nbformat": 4,
 "nbformat_minor": 5
}
