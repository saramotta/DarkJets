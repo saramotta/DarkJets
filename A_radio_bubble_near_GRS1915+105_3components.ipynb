{
 "cells": [
  {
   "cell_type": "markdown",
   "id": "1fcc5b0c",
   "metadata": {},
   "source": [
    "# A bow shocks near GRS 1915+105\n",
    "\n",
    "This notebook is partly based off the calculations presented in Gallo et al. 2004 to interpret the bow shock observed in the vicinity of Cyg X-1. Calculations have been adapted to the case of GRS 1915+105, near which we identified a bow shock similar to (albeit much larger than) that seen close to Cyg X-1. \n",
    "Additions have been made based on Kaiser et al. 2004 (who aready modelled a structure near GRS 1915+105 observed in radio), but did not see any large-scale bow shock due to the limited sensitivity of the VLA images they used.\n",
    "\n",
    "In this version of the notebook we make the (reasonable) assumption that the hydrogen emitting the bow shock radiation is fully ionized for the densities we are dealing with. Based on Saha's equation, with densities of the order 0.1-1000 particles per unit volume all hydrogen should be ionized at a temperature of ~ 1000K. In order to have a ionization fraction different from 1, the density has to be at least 1E+06, which is way higher than the average ISM density.  \n",
    "In this regard, our treatment differs from that followed by Gallo et al., who assumed a given ionization fraction. \n",
    "In the following we treat separately the three components of the jet-ISM interaction region near GRS 1915+105, following the formalism described in Kaiser et al. 2004. \n"
   ]
  },
  {
   "cell_type": "markdown",
   "id": "50707f78",
   "metadata": {},
   "source": [
    "Based on Kaiser et al. 2004, the **emission connected with the jets from GRS 1915+105 is formed by three components:** **(i)** the **thermal Bremsstrahlung emission** corresponding to the blobbly brightest region near IRAS 19132. Note that now the flux density is a factor of 10 lower than in 1998 (6 vs 60 mJy); **(ii)** the **non-thermal, possibly syncrotron emission** form the \"hot spot\", i.e. an elongated feature north-west from the IRAS region; **(iii)** the **bow shock emission**, with an average flux density of 0.2 mJy,  which is assumed to also be non-thermal syncrotron emission with a putative spectral slope of -0.8. This last component was not seen in the old VLA data, but interestingly it was indeed predicted by Kaiser et al. 2004. \n",
    "\n",
    "In order to determine the properties of the jet, we will do as follows.\n",
    "\n",
    "(1) We derive the density of the shocked material in IRAS 19132, assuming that the gas is fully ionised and that the radiation is Bremsstrahlung for a minimum temperature of T ~ 10$^4$K. We model the IRAS region as a solid sphere.\n",
    "\n",
    "(2) We infer the pre-shock ISM density knowing that the it should be about a factor of 4 smaller than in the shocked region. \n",
    "\n",
    "(3) We estimate the jet advancing velocity assuming that it equals the velocity of the bow shock in the ISM. From here we can estimate the jet age. \n",
    "\n",
    "(4) Finally, we estimate the jet energy transport rate using the density derived above, and the lobe aspect ratio measured from the MeerKAT image. \n",
    "\n",
    "(5) Assuming the density derived by Tetarenko et al. 2018 we also estimate the energy transferred to the IRAS 19132 region implied by a different value of the ISM density. \n"
   ]
  },
  {
   "cell_type": "markdown",
   "id": "121094ef",
   "metadata": {},
   "source": [
    "### Some units:"
   ]
  },
  {
   "cell_type": "code",
   "execution_count": 52,
   "id": "cb4a6785",
   "metadata": {},
   "outputs": [
    {
     "name": "stdout",
     "output_type": "stream",
     "text": [
      "Lobe size [pc] (lobesizepc) = 2.972e+01\n",
      "Source-ring separation (projected) [cm] (discmP) ~ 1.299e+20\n",
      "Source-ring separation (de-projected) [cm] discm (= Lj)~ 1.383e+20\n",
      "dispc ~ 4.211e+01\n"
     ]
    }
   ],
   "source": [
    "import matplotlib\n",
    "import matplotlib.pyplot as plt\n",
    "import numpy as np\n",
    "import math \n",
    "import cmath\n",
    "\n",
    "# Some Constats and Units\n",
    "\n",
    "pc = 3.086E+18       # 1 pc, cm \n",
    "mh = 1.6735575E-24   # Hydrogen mass, g \n",
    "me = 9.1093837E-28   # Electron mass, g \n",
    "eV = 1.602176634E-12 # ElectronVolt, erg\n",
    "Jy = 1.0E-23         # 1 Jansky (erg/s/cm2/Hz), cgs\n",
    "kb = 1.380649E-16;   # K boltzman, cgs\n",
    "h =  6.6261E-27;     # Plank constant, cgs \n",
    "c = 3.0e10           # Speed of light, cgs \n",
    "Na = 6.022E+23       # Avogadro's number\n",
    "Z=1                  # Hydrogen atomic number\n",
    "e = 4.8e-10          # Electric charge cm3/2 g1/2 s-1\n",
    "\n",
    "# Observation-specific quantities\n",
    "\n",
    "nu = 1.2839E+9;      # Observing frequency, in Hz (L-band, MeerKAT, slightly lower than for Cyg X-1, Westerbork)\n",
    "bmaj = 6.6           # Beam major axis, arcsec\n",
    "bmin = 6.6           # Beam minor axis, arcsec\n",
    "\n",
    "# Source specific quantities\n",
    "\n",
    "d10 = 0.86;          # distance in units of 10 kpc, GRS 1915+105 --- KNOWN   \n",
    "incl = 70;           # Source inclination to line of sight, deg --- KNOWN\n",
    "Flobe = 0.0001;      # Bow shock flux density, Jy/beam -- MEASURED\n",
    "Firas = 0.057;       # IRAS source INTEGRATED flux density, Jy -- MEASURED \n",
    "                     \n",
    "Fcyl = 0.0052;       # IRAS northern feature flux density, Jy -- MEASURED\n",
    "DR = 60              # Ring thickness, arcsec (on average) -- MEASURED\n",
    "DRcm = (DR)*(0.048*d10*pc) # Ring thickness, in cm (on average)\n",
    "Riras = 36           # IRAS source angular size (diameter), arcsec -- MEASURED \n",
    "Rirascm = Riras*0.048*d10*pc # IRAS source size (diameter), cm\n",
    "\n",
    "theam = 12;                                   # Lobe angular size (diameter) in arcmin (projected) GRS 1915 --- MEASURED\n",
    "\n",
    "lobesizepc = (theam*60)*0.048*d10             # Lobe radius in pc GRS 1915+105 --- MEASURED\n",
    "lobesizecm = lobesizepc*pc                    # Lobe radius in cm GRS 1915+105\n",
    "\n",
    "disasec = 17;                                 # Lobe-source angular distance in arcmin (projected) GRS 1915+105 --- MEASURED\n",
    "dispc = (disasec*60)*0.048*d10;               # source-ring separation (projected), in pc (= Lj, pc)\n",
    "discmP = dispc*pc;                            # source-ring separation, (projected) in cm\n",
    "discm = dispc*pc/math.sin(incl*math.pi/180);  # source-ring separation, DE-PROJECTED in cm (= Lj, cm)\n",
    "\n",
    "print('Lobe size [pc] (lobesizepc) =', '{:.3e}'.format(lobesizepc)) #Lj\n",
    "print('Source-ring separation (projected) [cm] (discmP) ~','{:.3e}'.format(discmP))\n",
    "print('Source-ring separation (de-projected) [cm] discm (= Lj)~','{:.3e}'.format(discm))\n",
    "print('dispc ~','{:.3e}'.format(dispc))\n",
    "\n",
    "\n",
    "# Assumptions\n",
    "x = 1;               # Ionization fraction at T ~ 10^4\n",
    "Tmin = 1.2E+4;                                # Lower-limit to post-shock temperature -- ASSUMED \n",
    "                                              # (from arguments based on Bremsstrahlung nature of the emission)\n",
    "                                              # Also see Saha's equation below\n",
    "        \n",
    "# Pseudo-constants\n",
    "\n",
    "# Gaunt factor\n",
    "def gaunt(nu, T, z):\n",
    "    F1 = 128.*(1**2)*(kb**3)*(T**3)\n",
    "    F2 = me * (e**4)*(nu**2)*(z**2)    \n",
    "    G = (3**0.5 / (2.*np.pi)) * (np.log(F1/F2) - 0.5772156649**2)    \n",
    "    return G\n",
    "\n",
    "g = gaunt(nu, Tmin, Z)"
   ]
  },
  {
   "cell_type": "markdown",
   "id": "26f398f1",
   "metadata": {},
   "source": [
    "### Large scale structure of the jet"
   ]
  },
  {
   "cell_type": "markdown",
   "id": "87c458a2",
   "metadata": {},
   "source": [
    "#### 1)  IRAS 19132 - Bremsstrahlung\n",
    "\n",
    "The emission from IRAS 19132 is characterised by a flat radio spectrum, which suggests a bremsstrahlung origin from a gas emitting at a temperature of T $\\sim 10^4K$. This is supported by the detection of a H92$\\alpha$ recombination line with width 25 km/s (Rodriguez & Mirabel 1998), which suggests a temperature of at least T $\\sim$1.2$\\times$ 10$^4K$.\n",
    "\n",
    "\n",
    "\n",
    "The **monochromatic emissitivty $\\epsilon_\\nu$ of ionised hydrogen due to thermal bremsstrahlung** is given by (Longair 1994). \n",
    "\n",
    " $$\\epsilon_\\nu = \\frac{L_\\nu}{V} = (6.8\\times 10^{-38}) g(\\nu, T) \\frac{n_e^2}{\\sqrt{T}} \\exp{(\\frac{h\\nu}{k_b T})} ~~ erg~s^{-1}~cm^{-3}~Hz^{-1}$$\n",
    "\n",
    "Note that in Kaiser+2004 the constant is ~$10^{50}$ because the number densities are expressed in particles per meter cube: $(m^3)^2 = 10^{12} (cm^3)^2$.\n",
    "\n",
    "The above assumes that **the number of electrons $n_e$ equals the number of protons n** (pure hydrogen gas), and that the density and temperature are uniform withing the considered volume. $\\epsilon_\\nu$ is the expression of the bremsstrahlung emissivity for a pure hydrogen gas emitting at a temperature T, and $V$ is the source unit volume. Since we have no information regarding the extent of the emission regions along our line of\n",
    "sight or their exact three-dimensional geometrical structure, **we assume a spherical shape with diameter 36 arcsec, multiplied by a filling factor f$\\sim$1**. \n",
    "\n",
    "From the Bremsstrahlung emissivity we can derive the electron density. \n",
    "\n",
    "$$n_e = \\sqrt\\frac{\\epsilon_\\nu}{g(\\nu, T) \\sqrt{T} C_{radio}}$$\n",
    "\n",
    "where we defined\n",
    "\n",
    "$$ C_{radio} = 6.8\\times 10^{-38} erg~s^{-1}~cm^{-3}~Hz^{-1} $$\n",
    "\n",
    "and the Gaunt factor g($\\nu$) is given by \n",
    "\n",
    "$$g(\\nu, T) \\approx \\frac{\\sqrt{3}}{2 \\pi}\\left[\\ln \\left(\\frac{128 \\epsilon_0^2 k^3 T^3}{m_e e^4 \\nu^2 Z^2}\\right)-\\gamma^2\\right]$$\n",
    "\n",
    "As stated above, since we assume that the hydrogen in the region is fully ionized, the electron number density also corresponds to the total particle number density (under the assumption that the ISM is almost all hydrogen). \n",
    "**The electron density _in the shock_ is about 160 particles per cm$^3$**, and thus, assuming that the shock is approximately 4 times denser than the sourrounding medium, **the unshocked ISM electron density is about 40 particles per cm$^3$**. This is consistent with the typical density of an HII region, a factor ~10 or larger than the typical ISM density (1/cm$^3$). Since the bow shock seems to be connected with an HII region (CHIMPS 4894, based on SIMBAD, see http://simbad.cds.unistra.fr/simbad/sim-id?Ident=CHIMPS+4894&), the density we find seems appropriate. "
   ]
  },
  {
   "cell_type": "code",
   "execution_count": 60,
   "id": "903267f6",
   "metadata": {},
   "outputs": [
    {
     "name": "stdout",
     "output_type": "stream",
     "text": [
      "Ring thickness [cm] (DRcm) = 7.643e+18\n",
      "IRAS volume [cm] (Vol) = 5.050e+55\n",
      "IRAS monochromatic Luminosity [erg/s/Hz] (Liras14) = 5.045e+21\n",
      "Particle number density of shocked gas [1/cm3] (ntmin = ne/x) = 1.412e+02\n",
      "Particle number density of un-shocked gas [1/cm3] (nt0min = ntmin/4) = 3.530e+01\n",
      "Density of shocked gas [g/cm3] (rhomin) = 3.237e-22\n",
      "Density of un-shocked gas [g/cm3] rho0min = 8.093e-23\n",
      "Pressure inside IRAS (ideal gas conditions) [erg/cm3] (Pideal) =  2.339e-10\n",
      "Pressure in the ISM (ideal gas conditions) [erg/cm3] (pidealunsh) = 9.747e-13\n"
     ]
    }
   ],
   "source": [
    "# Section 1: Calculating the gas density downstream with respect to the shock front, assuming \n",
    "# bremsstralung emission\n",
    "\n",
    "Liras14 = Firas*Jy*(4*math.pi*(d10*10*1000*pc)**2); # Monochormatic ring luminosity in erg/sec/Hz \n",
    "                                                    # (d10 needs to be multiplied by 10!)\n",
    "    \n",
    "fill = 1                                            # Volume filling factor (solid sphere)\n",
    "Vol = fill*4/3*math.pi*(Rirascm/2)**3;              # Volume = 4/3 pi (D/2)^3, with D = diameter\n",
    "\n",
    "Kons = 6.8*1.0E-38\n",
    "nemin = math.sqrt( (Liras14/Vol*(math.sqrt(Tmin)))/(Kons*g*math.exp(h*nu/(kb*Tmin ))) )  \n",
    "                                                # Electron density from Bremmsstralung emissivity \n",
    "                                                # for a pure hydrogen gas emitting at T\n",
    "\n",
    "ntmin = nemin/x;                                # Total particle density, which equals the electron \n",
    "                                                # density divided by ionization fraction, which in \n",
    "                                                # this case is 1 (for fully ionized hydrogen)\n",
    "rhomin = ntmin*1.370*mh                         # Density of the gas post-shock, i.e. down-stream of \n",
    "                                                # the shock, g/cm3\n",
    "rho0min = rhomin/4;                             # Density of the pre-shock gas, i.e. up-stream of the \n",
    "                                                # shock, g/cm3\n",
    "   \n",
    "\n",
    "print('Ring thickness [cm] (DRcm) =','{:.3e}'.format(DRcm))\n",
    "print('IRAS volume [cm] (Vol) =', '{:.3e}'.format(Vol))\n",
    "\n",
    "print('IRAS monochromatic Luminosity [erg/s/Hz] (Liras14) =', '{:.3e}'.format(Liras14))\n",
    "print('Particle number density of shocked gas [1/cm3] (ntmin = ne/x) =','{:.3e}'.format(ntmin))\n",
    "print('Particle number density of un-shocked gas [1/cm3] (nt0min = ntmin/4) =','{:.3e}'.format(ntmin/4))\n",
    "print('Density of shocked gas [g/cm3] (rhomin) =','{:.3e}'.format(rhomin))\n",
    "print('Density of un-shocked gas [g/cm3] rho0min =','{:.3e}'.format(rho0min))\n",
    "\n",
    "\n",
    "R = Na*kb # gas constant\n",
    "\n",
    "# Cross check the pressure of gas in ideal conditions. \n",
    "# pressure of gas inside IRAS source assuming ideal conditions\n",
    "pideal = ntmin*kb*Tmin\n",
    "print('Pressure inside IRAS (ideal gas conditions) [erg/cm3] (Pideal) = ', '{:.3e}'.format(pideal))\n",
    "\n",
    "# pressure of gas of unshocked material assuming ideal conditions, and T = 50K\n",
    "pidealunsh = ntmin*kb*50\n",
    "print('Pressure in the ISM (ideal gas conditions) [erg/cm3] (pidealunsh) =', '{:.3e}'.format(pidealunsh))\n"
   ]
  },
  {
   "cell_type": "markdown",
   "id": "0c92a5d1",
   "metadata": {},
   "source": [
    "#### 2) Northern feature in IRAS 19132 - Synchrotron emission from gas"
   ]
  },
  {
   "cell_type": "markdown",
   "id": "b36e7bc7",
   "metadata": {},
   "source": [
    "The radio maps of IRAS 19132+1035 show an elongated feature pointing in the direction of GRS 1915+105, with lengths of 17.4 arcsec, and width of 7.9 arcsec, and with a steep radio spectrum, located to the northwest of the main flat spectrum region. In the old VLA images this spectrum is consistent with a power law F $\\propto$ $\\nu^\\alpha$ with $\\alpha$ = -0.8.  This spectral index is typical for synchrotron emission and hence it implies the presence of a relativistic plasma consisting of magnetic field and a population of relativistic electrons. \n",
    "\n",
    "We will assume that we observe (or can infer, assume) a radio spectrum with some spectral index $\\alpha$ between upper and lower frequencies $\\nu_1, \\nu_2$. We will need the integrated radio luminosity between these limits, and not just the specific radio luminosity at a certain frequency.\n",
    "\n",
    "$$L=4 \\pi D^2 \\int_{\\nu_1}^{\\nu_2} F_{\\nu} d\\nu = 4 \\pi D^2 F_{\\nu_2} \\nu_2^{-\\alpha} \\left( \\frac{\\nu_2^{\\alpha+1} - \\nu_1^{\\alpha+1}}{\\alpha+1} \\right) $$\n",
    "\n",
    "(an equivalent formula can of course be constructed using $\\nu_1$ as the reference frequency). \n",
    "Here we use $\\alpha = (1-p)/2$.**\n",
    "\n",
    "Note, in comparing the analysis here with the simplified (but relatively accurate) formlua of Longair et al. 1994, that the $L_{\\nu}$ used in that formula is the 'specific' luminosity in units erg s$^{-1}$ Hz$^{-1}$ whereas the *integrated* luminosity used here and defined above is in erg s$^{-1}$, and is therefore a larger quantity).\n",
    "\n",
    "The energy density in magnetic fields is $B^2 / 8\\pi$ (in cgs units), therefore for a volume $V$ the total energy in B fields is:\n",
    "\n",
    "$$E_B = \\frac{B^2}{8 \\pi} f V $$\n",
    "\n",
    "where $f$ is a *filling factor* which represents the fraction of the physical source's volume which is actually occupied by the magnetic field and relativistic particles.\n",
    "\n",
    "Given a population of electrons with a power law distribution $-p$ between energy limits $E_1$ and $E_2$, the total energy in these electrons is given by:\n",
    "\n",
    "$$E_e = c_2^{-1} L B^{-2} \\frac{(p-3)}{(p-2)} \\frac{(E_1^{2-p}-E_2^{2-p})}{(E_1^{3-p}-E_2^{3-p})}$$\n",
    "\n",
    "For a given electron energy and magnetic field, we can characterise the synchrotron emission as coming from a single frequency $\\nu = c_1 B E^2$, i.e. $E = \\nu^{1/2} c_1^{-1/2} B^{-1/2}$. So, we can write:\n",
    "\n",
    "$$E_e = c_2^{-1} c_1^{1/2} \\tilde{c}(p, \\nu_1, \\nu_2) B^{-3/2} L = c_{12}(p,\\nu_1,\\nu_2) B^{-3/2} L$$\n",
    "\n",
    "where\n",
    "\n",
    "$$c_{12} = c_2^{-1} c_1^{1/2} \\tilde{c}(p, \\nu_1, \\nu_2)$$\n",
    "\n",
    "and\n",
    "\n",
    "$$\\tilde{c}(p, \\nu_1, \\nu_2) = \\frac{(p-3)}{(p-2)} \\frac{\\nu_1^{(2-p)/2}-\\nu_2^{(2-p)/2}}{\\nu_1^{(3-p)/2}-\\nu_2^{(3-p)/2}}$$\n",
    "\n",
    "The pseudo-constant $c_{12}$ encapsulates all the information about the observed (or interpolated, extrapolated, assumed) frequency range of the observations and the slope of the energy spectrum between those limits. \n",
    "\n",
    "Since $E_B \\propto B^2$, the total energy is given by\n",
    "\n",
    "$$E_{e+B} = E_e + E_B =  const. B^{-3/2} + const. B^2$$\n",
    "\n",
    "and therefore *there must be a minimum of the total energy as a function of $B$* (assuming there are no other contributions to the energy budget which have a different dependence on $B$). This minimum occurs at *equipartition* of the energy, when $E_e$ and $E_B$ are almost equal (differentiate $E_{e+B}$ with respect to $B$):\n",
    "\n",
    "$$E_B = \\frac34 \\eta E_e$$\n",
    "\n",
    "where $\\eta$ indicates how much energy is stored in the protons which accompany the electrons (in the case of a normal baryonic plasma); $\\eta = 1$ is generally considered for the minimum energy condition.\n",
    "Substituting the above qxpressions, the equipartition magnetic field is given by:\n",
    "\n",
    "$$B_{eq} = (6 \\pi \\frac{\\eta}{f} c_{12} \\frac{L}{V})^{2/7} $$\n",
    "\n",
    "\n",
    "\n",
    "For minimum energy conditions the total pressure in this feature is then given by:\n",
    "\n",
    "$$ p = \\frac{7}{9} \\frac{B^2_{min}}{8\\pi}(k+1)$$\n",
    "\n",
    "with k equal the ratio of the internal energy stored in any particles that do not contribute to the synchrotron emission to the sum of the energy in the magnetic field and in the relativistic electrons.\n",
    "Here we assume a cylindrical geometry for the northern feature, with a radius equivalent to 3.9 arcsec and a length of 17.4 $\\times$ sin$\\theta^{-1}$ arcsec, where $\\theta$ is the angle of the long axis of the cylinder to our line of sight.\n",
    "\n",
    "The volume of the feature is **Vcyl ~ 1.83e+54 cm$^3$**, and its total luminosity is **Lcyl ~ 1.7e+29 erg/s**. The predicted minimum energy **magnetic field is Bmin ~ 2.3e-05 G**, and the minimum energy **pressure is 1.6e-11 erg/cm$^3$**. "
   ]
  },
  {
   "cell_type": "code",
   "execution_count": 36,
   "id": "063eefd6",
   "metadata": {},
   "outputs": [
    {
     "name": "stdout",
     "output_type": "stream",
     "text": [
      "Cylinder Integrated Luminosity [erg/s] (Lcy) = 1.672e+29\n",
      "Cylinder Volume [cm3] (VolCyl) = 1.829e+54\n",
      "Cylinder magnetic field density [G] (Bmin) =  2.291e-05\n",
      "Cylinder pressure [erg/cm3] (pmincyl) ~ 1.641e-11\n"
     ]
    }
   ],
   "source": [
    "# this is adapted from the ThunderBook \"Equipartition analysis\" (https://github.com/robfender/ThunderBooks)\n",
    "D = d10*10\n",
    "k = 0.01          \n",
    "nu1=1.0e7\n",
    "nu2=1.0e11\n",
    "p=2.5\n",
    "alpha=(1.0-p)/2.0\n",
    "eta = 1\n",
    "f = 1\n",
    "\n",
    "# Pseudoconstant\n",
    "c1=6.27e18\n",
    "c2=2.37e-3\n",
    "# speed of light \n",
    "c=3.0e10\n",
    "# relativistic sound speed of c/sqrt[3]\n",
    "cs=c/(3.0**0.5)\n",
    "\n",
    "ctildetop=(nu1**((2.0-p)/2.0))-(nu2**((2.0-p)/2.0))\n",
    "ctildebottom=(nu1**((3.0-p)/2.0))-(nu2**((3.0-p)/2.0))\n",
    "ctilde=((p-3.0)/(p-2.0))*(ctildetop/ctildebottom)\n",
    "c12=(c2**-1.0)*(c1**0.5)*ctilde\n",
    "\n",
    "def LumTot(snu2,D,nu1,nu2,alpha): \n",
    "# here s is the flux density at the upper frequency nu2\n",
    "    L2 = 4 * np.pi * ((D * 3.1e21)**2.0) * (snu2 * 1e-26) * (nu2**(-alpha)) * ((nu2**(1+alpha))-(nu1**(1+alpha))) / (1+alpha)\n",
    "    #print (('Calculated total radiative luminosity'),('L ='),('%.2e' % L2),(' erg / sec '))\n",
    "    return L2\n",
    "\n",
    "Lcy = LumTot(Fcyl,(d10*10),nu1,nu2,alpha)    #  Note that this is the INTEGRATED luminosity, not the monochromatic one\n",
    "\n",
    "\n",
    "rcyl = 3.9*(0.048*d10*pc)                         # Radius of cylindric feature, cm\n",
    "lencyl = 17.4*(0.048*d10*pc)/math.sin(incl*math.pi/180)  # Lenght of cylindric feature, cm\n",
    "VolCyl = math.pi*rcyl**2*lencyl                   # Volume of cylindric feature, cm3\n",
    "\n",
    "Bmin = (6*math.pi*(eta/f)*c12*Lcy/VolCyl)**(2/7)  # Equipartition magnetic field, Gauss\n",
    "\n",
    "# Total pressure in this feature for minimum energy conditions\n",
    "\n",
    "pmincyl = 7/9*Bmin**(2)/(8*math.pi)*(k+1)       # Equipartition pressure, erg/cm3\n",
    "\n",
    "\n",
    "print('Cylinder Integrated Luminosity [erg/s] (Lcy) =','{:.3e}'.format(Lcy))\n",
    "print('Cylinder Volume [cm3] (VolCyl) =','{:.3e}'.format(VolCyl))\n",
    "print('Cylinder magnetic field density [G] (Bmin) = ','{:.3e}'.format(Bmin))\n",
    "print('Cylinder pressure [erg/cm3] (pmincyl) ~','{:.3e}'.format(pmincyl))\n",
    "\n",
    "# From Kaiser+2004, for a reality check\n",
    "\n",
    "#LcylK = 6e+18*D**2\n",
    "#VolK = 9.9E-05*(D)**3/math.sin(incl*math.pi/180)*pc**3\n",
    "#BminK = 1.0E-6*120*(math.sin(incl*math.pi/180)/(D))**(2/7)\n",
    "#pminK = 1.0E-10*(4.3*(math.sin(incl*math.pi/180)/(D))**(4/7))*(k+1)\n",
    "\n",
    "#print('LcylK ~',LcylK)\n",
    "#print('VolK ~',VolK)\n",
    "#print('BminK ~',BminK)\n",
    "#print('pminK ~',pminK)\n"
   ]
  },
  {
   "cell_type": "markdown",
   "id": "d8584269",
   "metadata": {},
   "source": [
    "### The jet model"
   ]
  },
  {
   "cell_type": "markdown",
   "id": "680fea13",
   "metadata": {},
   "source": [
    "For interpreting the interactions of the large-scale jet structure of GRS 1915+105 with its environment we use the\n",
    "model developed in Kaiser & Alexander (1997, KA97) for the jets of radio galaxies. The supersonic jets end in strong shock fronts at the location where they impact on the ambient gas. The gas coming up the jets inflate two lobes that are overpressured with respect to the environment. The lobes therefore expand sideways and thus a bow shock is driven into the surrounding ISM. We identify three regions: \n",
    "\n",
    "a) **the norther cylindrical feature** near IRAS 19132+1035, pointing towards GRS 1915+105, corresponds to the strong shock that originates at the end of the postulated large-scale jet.\n",
    "\n",
    "b) **the radio lobe clearly seen in the MeerKAT image at an average flux density of 0.2 mJy** corresponds to the edge of the radio lobe inflated by the jet material. In the old VLA data such a bow shock was not detected due to limited sensitivity (but it was predicted by Kaiser et al. 2004, at more or less the currently observed flux density).\n",
    "\n",
    "c) **IRAS 19132** corresponds to the the compressed and shock-heated ISM in front of the jet.\n",
    "\n"
   ]
  },
  {
   "cell_type": "markdown",
   "id": "ace502af",
   "metadata": {},
   "source": [
    "#### 1) Applicability (characteristic jet lenght)"
   ]
  },
  {
   "cell_type": "markdown",
   "id": "5ab65f3b",
   "metadata": {},
   "source": [
    "The model assumes a constant energy transport rate, Q0, for each jet. This transport rate is averaged over the lifetime of the jets. We assume that the ambient medium has a constant density. Under these circumstances the evolution of the large-scale structure created by the jet (lobe and bow shock), is self-similar once the jet extends beyond its characteristic length scale, given by (KA97): \n",
    "\n",
    "$$ L_0 = (\\frac{\\rho_0^2 Q_0}{\\dot{M}_0^3})^{-1/4} = [\\frac{Q_0^2}{\\rho_0^2 c^6(\\gamma_j -1)}]^{1/4}$$\n",
    "\n",
    "where $\\dot{M_0}$ is the mass transport rate of the jet, and $\\gamma_j$ is the Lorentz factor of the jet material.\n",
    "\n",
    "The density of the gas that has been shock-heated by the impact of the jets, which we calculated based on the Bremsstrahlung luminosity of IRAS 19132, is approximately 4 times that of the pre-shock value $\\rho_0$. \n",
    "\n",
    "Estimating the Lorentz factor of jet flows is notoriously difficult (e.g., Fender 2003). Furthermore, the observed motion of radio ‘‘knots’’ in the jets may simply reflect the motion of shocks along the jets rather\n",
    "than the bulk motion of the jet material. Any estimate of $\\gamma_j$ will also depend on the distance to the source and the orientation of the jet to our line of sight. Here we use the conservative lower limit  $\\gamma_j$ = 1.1, which maximizes L$_0$.\n",
    "\n",
    "For reasonable values of Q$_0$ (~ 10$^{36}$ erg/s, see below), L$_0$ is of the order  10$^{-05}$ pc, i.e.,  orders of magnitude smaller than the jet lenght L$_j$ (> 40 pc), and therefore the model by KA97 is valid for GRS 1915+105. **>> CHECK THIS, seems really too small <<**\n"
   ]
  },
  {
   "cell_type": "code",
   "execution_count": 38,
   "id": "dabeb9f9",
   "metadata": {},
   "outputs": [
    {
     "name": "stdout",
     "output_type": "stream",
     "text": [
      "Characteristic jet length scale [pc] (L0) =  2.559e-05\n",
      "Jet length [pc] (Lj) =  4.481e+01\n"
     ]
    }
   ],
   "source": [
    "# Calculation of L0\n",
    "\n",
    "gammaj = 1.1\n",
    "Q0 = 5.0E+36\n",
    "\n",
    "L0 = ( (Q0**2) / (rho0min**2*c**6*(gammaj-1)) )**(1/4)\n",
    "\n",
    "print('Characteristic jet length scale [pc] (L0) = ', '{:.3e}'.format(L0/pc))\n",
    "print('Jet length [pc] (Lj) = ', '{:.3e}'.format(discm/pc))\n"
   ]
  },
  {
   "cell_type": "markdown",
   "id": "00a4991c",
   "metadata": {},
   "source": [
    "#### 2) Shock front velocity and age of the jet\n",
    "\n",
    "Kaiser & Alexander 1997 showed that the velocity of the bow shock is roughly equal to the advance speed of the end of the jet driving this shock, which is given by:\n",
    "\n",
    "$$ \\dot{L} = \\sqrt{\\frac{16 k_b}{3 m_p}T}$$\n",
    "\n",
    "where $m_p$ is the mass of the proton. \n",
    "For a strong shock in a mono-atomic gas, the expansion velocity is set by the temperature of the shocked gas. If the shock is radiative, then the initial post-shock temperature can be higher than that of the thermalized, bremsstrahlung-emitting gas. A stringent constraint on the temperature could come from X-ray observations, which we do not have yet. \n",
    "\n",
    "We estimate a minimum **shock velocity of 22 Km/s**, implies that the bow shock will be highly supersonic with respect to the unshocked ISM. Note that the kinematic of the gas in the region is complex,  and hence T$_{min}$ could be overestimated."
   ]
  },
  {
   "cell_type": "code",
   "execution_count": 39,
   "id": "8039fffc",
   "metadata": {},
   "outputs": [
    {
     "name": "stdout",
     "output_type": "stream",
     "text": [
      "Shock front velocity [Km/s] (vd1 = Ldotmin) ~ 2.298e+01\n"
     ]
    }
   ],
   "source": [
    "Tmin = 1.2E+4;                                # Lower-limit to post-shock temperature -- ASSUMED (from \n",
    "                                              # arguments based on Bremsstrahlung nature of the emission)\n",
    "vdmin = ( (16*Tmin*kb)/(3*mh) )**(1/2)/1.0E+5;# Lower-limit to Ljdot, i.e., post-shock velocity, in Km/s\n",
    "\n",
    "vdmincm = vdmin*1.0E+5;  #Ldot                # Lower limit to ring velocity, in cm/s \n",
    "\n",
    "print('Shock front velocity [Km/s] (vd1 = Ldotmin) ~','{:.3e}'.format(vdmin))\n"
   ]
  },
  {
   "cell_type": "markdown",
   "id": "5e143753",
   "metadata": {},
   "source": [
    "For a constant density medium Kaiser+2004 showed that the jet length within the lobe grows with the time $t$ in such a way that\n",
    "\n",
    "$$ L_j = C_1 ~(\\frac{Q_0}{\\rho_0})^{1/5}~ t^{3/5}$$ \n",
    "\n",
    "Taking the time derivartive of this equation we obtain:\n",
    "\n",
    "$$ \\dot{L_j} = \\frac{3 Lj}{5 t}$$\n",
    "\n",
    ", which implies:\n",
    "\n",
    "$$ t = \\frac{3 L_j}{5 \\dot{L_j}} $$\n",
    "\n",
    "This expression can be used to estimate the upper limit to the age of the jet, which is approximately 1 Myr.\n",
    "C1 is a dimensionless constant that depends on the thermodynamical properties of the jet material, and on the aspect ratio, R, of the lobe inflated by the jet (R is the length of the lobe divided by its width). The esplicit form of C1 is the following:\n",
    "\n",
    "$$ C_1=\\left(\\frac{C_2}{C_3\\theta^2}\\frac{(\\Gamma_x+1)(\\Gamma_c-1)(5-\\beta)^3}{18\\left[9\\{\\Gamma_c+(\\Gamma_c-1)\\frac{C_2}{4\\theta^2}\\}-4-\\beta\\right]}\\right)^{\\frac{1}{(5-\\beta)}}$$\n",
    "\n",
    "with\n",
    "\n",
    "$$C_2=\\left(\\frac{(\\Gamma_c-1)(\\Gamma_j-1)}{4\\Gamma_c}+1\\right)^{\\frac{\\Gamma_c}{(\\Gamma_c-1)}}\\frac{(\\Gamma_j+1)}{(\\Gamma_j-1)}$$\n",
    "\n",
    "and \n",
    "\n",
    "$$C_3=\\frac{\\pi}{4R_{\\rm ax}^2}$$\n",
    "\n",
    "\n",
    "(Tetarenko et al. 2018, Appendix C), and the value of the constant is calculated below."
   ]
  },
  {
   "cell_type": "code",
   "execution_count": 61,
   "id": "17cf7fea",
   "metadata": {},
   "outputs": [
    {
     "name": "stdout",
     "output_type": "stream",
     "text": [
      "C1 ~ 1.4918580868188107\n"
     ]
    }
   ],
   "source": [
    "# The constant C1 is given in the following (see Appendix C in Tetarenko et al. 2018): \n",
    "\n",
    "# The constant C1 can ba calculated making assumptions on the jet properties and on the environment, \n",
    "# which we will treat as uniform in density. We also make assumptions on the adiabatic index of the \n",
    "# material in the cavity, in the external medium, and in the jet. \n",
    "# Keeping the adiabatic indices = 5/3, in order to recover a constant of about 1.5, we need to assume \n",
    "# a ridiculously large jet opening angle, which might not be physical at all. \n",
    "\n",
    "Gammac = 5/3                            # Adiabatic index of the material in the cavity, -- ASSUMED \n",
    "Gammax = 5/3                            # Adiabatic index of the material in the external medium, -- ASSUMED \n",
    "Gammaj = 5/3                            # Adiabatic index of the material in the jet, -- ASSUMED \n",
    "beta = 0                                # density profile index (beta = 0 for a uniform density medium), -- ASSUMED \n",
    "thetarad = 50*math.pi/180               # Jet opening angle, in radiants. Taken to yield to C1 ~ 1.5\n",
    "\n",
    "C2 = (((Gammac-1)*(Gammaj-1))/(4*Gammac) + 1 )**(Gammac/(Gammac-1)) * ((Gammaj+1)/(Gammaj-1))\n",
    "Rax = math.sqrt((1/4*(C2/thetarad**2))) # axial ratio of the jet-blown cavity                         \n",
    "C3 = math.pi/(4*Rax**2)\n",
    "C1cal = ((C2)/(C3*thetarad**2)*((Gammax+1)*(Gammac-1)*(5-beta)**3)/(18*(9*(Gammac + (Gammac -1)*(C2/(4*thetarad**2))) - 4 - beta)) )**(1/(5-beta))\n",
    "\n",
    "print('C1 ~', C1cal)"
   ]
  },
  {
   "cell_type": "code",
   "execution_count": 26,
   "id": "5b28b959",
   "metadata": {},
   "outputs": [
    {
     "name": "stdout",
     "output_type": "stream",
     "text": [
      "tmaxMyr ~ 1.145e+00\n"
     ]
    }
   ],
   "source": [
    "# Section 3: the jet age\n",
    "\n",
    "tsmax = 3/5*(discm/vdmincm)                      # Upper limit to lobe age in s\n",
    "tmaxMyr = tsmax/(365.*24.*60*60)/1.0E+6          # Upper limit to lobe age in Myrs\n",
    "\n",
    "print('tmaxMyr ~', '{:.3e}'.format(tmaxMyr))\n"
   ]
  },
  {
   "cell_type": "markdown",
   "id": "4d56b25d",
   "metadata": {},
   "source": [
    "We note here that based on the results of the sub-mm observations reported by Tetarenko et al. 2018 (https://ui.adsabs.harvard.edu/abs/2018MNRAS.475..448T/) the shock velocity estimated from the SiO detection is ~ 1/Km/s, which implies a jet of approximately 25 Myr, i.e. significantly older than what we predict."
   ]
  },
  {
   "cell_type": "markdown",
   "id": "5789b2f5",
   "metadata": {},
   "source": [
    "### 3) Energy transport rate and pressure in the lobes\n",
    "\n",
    "Assuming that the jet direction remains constant over time,  and that the jet is colliding with a medium of densit $\\rho_0$, the power Q$_{jet}$ being transported by the jets averaged over its lifetime, **is solely dependent on the properties of the ISM** at the interaction site. Combining the equations for $L_j$ and $\\dot{L_j}$ given above we obtain: \n",
    "\n",
    "$$ Q_{jet} = (\\frac{5}{3})^3~\\frac{\\rho_0}{C_1^5}L_j^2 ~\\dot{L_j}^3$$\n",
    "\n",
    "The constant C$_1$ can be calculated and it depends on the aspect ratio R of the lobe inflated by the jet, the lobe lenght divided by its width. For extragalactic jet sources R ~ 2. In the case of the lobe in GRS 1915+105, R is appriximately R ~ 11.16/sin(theta)/8 = 1.5, hence we will assume C$_1$ = 1.5. Below we calculate the constant explicitly (note that a value of 1.5 implies a jet opening angle of 50 degrees).\n",
    "We obtain that the **minimum energy transferred to the environment is Q$_{jet}$ ~ 1.3e+37 erg/s**. \n",
    "\n",
    "\n",
    "\n",
    "The pressure inside the lobe is given by: \n",
    "\n",
    "$$ p = 0.0675 \\frac{C_1^{10/3}}{R^2}(\\frac{\\rho_0 Q_0^2}{L_j^4})^{1/3}$$\n",
    "\n",
    "Which is $p_{lobe}$ ~ 4.13e-11 erg/cm$3$, i.e. significantly overpressured with respect to the unshocked ISM (for a temperature of 50K, a typical ISM pressure would be of the order 10$^{-12}$ erg/cm$3$ assuming that ideal gas conditions, see Section 1), but similar to the pressure we obtain for the cylindrical feature stemming from IRAS 19132+1035."
   ]
  },
  {
   "cell_type": "code",
   "execution_count": 27,
   "id": "10d71586",
   "metadata": {
    "scrolled": true
   },
   "outputs": [
    {
     "name": "stdout",
     "output_type": "stream",
     "text": [
      "Qjetmin ~  1.328e+37\n",
      "pminlobes ~  4.130e-11\n"
     ]
    }
   ],
   "source": [
    "# Section 4: the jet energy transport rate\n",
    "\n",
    "C1 = 1.5\n",
    "R = 1.5\n",
    "\n",
    "# Min and max depend on the temperature, which gives both the jet velocity and material density. \n",
    "\n",
    "Qjetmin = (5/3)**3 * rho0min/(C1**5)*(discm**2)*(vdmincm**3)   # Lower limit to time averaged jet power \n",
    "\n",
    "print('Qjetmin ~ ','{:.3e}'.format(Qjetmin))\n",
    "\n",
    "pminlobes = 0.0675*(C1**(10/3)/R**2)*(rho0min*Qjetmin**2/(discm**4))**(1/3)\n",
    "\n",
    "print('pminlobes ~ ','{:.3e}'.format(pminlobes))\n",
    "\n",
    "fK = 1\n",
    "plobeK = 0.2*(d10*10*pc*fK)**(-1/2)\n",
    "#print('plobeK ~', plobeK)\n",
    "\n"
   ]
  },
  {
   "cell_type": "markdown",
   "id": "81235d77",
   "metadata": {},
   "source": [
    "A comment on the electron density. If, following Tetarenko et al. 2018, the density is instead estimated based on the molecular gas content of the feature, rather than based on the luminosity of the feature from Bremsstrahlung emission and the presumed temperature of the gas, the energy stransferred will be clearly different. \n",
    "Based on Tetarenko et al. 2018 the gas density is of the order $\\sim$10$^{-20}$ g/cm$^3$, which is a factor of 10$^3$ higher than in our case. The resulting minimum transferred energy is consequently larger than the value we predict above, i.e. L $\\sim$ 10$^{39}$ erg/s (Q$_{jet}$ goes linearly with the density). \n",
    "However, **this density requires a gas temperature of the order T ~ 7E+9 K if the emission is from Bremsstrahlung, which does not seem realistic**, since at temperatures of T ~ 10$^7$−10$^8$K (typical of the hot gas in Galaxy clusters) the radiative losses start to dominate.\n"
   ]
  },
  {
   "cell_type": "code",
   "execution_count": 28,
   "id": "e1f44081",
   "metadata": {},
   "outputs": [
    {
     "name": "stdout",
     "output_type": "stream",
     "text": [
      "QjetminT ~ 1.445e+39\n"
     ]
    }
   ],
   "source": [
    "# Based on electron density from Tetarenko et al. 2018\n",
    "\n",
    "fT = 0.1\n",
    "DT = 8.6\n",
    "rho0T  = 2.6E-18/DT**3/fT /4 #---- Assuming bremsstrahlung emission, so dividing by 4 to accound for \n",
    "                             #     the pre-shock vs post-shock difference. \n",
    "n0T  = rho0T/(1.37*mh)\n",
    "\n",
    "QjetminT = (5/3)**3 * rho0T/(C1**5)*(discm**2)*(vdmincm**3)   # Lower limit to time averaged jet power \n",
    "print('QjetminT ~','{:.3e}'.format(QjetminT))"
   ]
  },
  {
   "cell_type": "code",
   "execution_count": 10,
   "id": "d1f51de0",
   "metadata": {},
   "outputs": [
    {
     "name": "stdout",
     "output_type": "stream",
     "text": [
      "TT = 6.583e+09        --- Gas Temperature\n"
     ]
    }
   ],
   "source": [
    "TT = (Kons*g*n0T**2/(Liras14/Vol)*math.exp(h*nu/(kb*2000 )) )**2 #--- this ignores the T in the exponential, which doesn't count for high T values.\n",
    "\n",
    "print('TT =', '{:.3e}'.format(TT),'       --- Gas Temperature')"
   ]
  },
  {
   "cell_type": "markdown",
   "id": "52744d73",
   "metadata": {},
   "source": [
    "#### 4) Emission Properties of the Model\n",
    "\n",
    "##### Radio emission form the lobes\n",
    "\n",
    "In the case of AGN a substantial fraction of the energy transported by the jet gives rise to a population of relativistic electrons and a magnetic field in the lobes. The emission from the lobes is easily detected in radio, and similar emission should emerge around the jets in microquasars. \n",
    "\n",
    "We assume that the conditions of minimum energy hold in the lobe, and so the maximum synchrotron luminosity is obtained from a given amount of energy (e.g., Longair 1994). We neglect any energy losses of the relativistic electrons due to radiation processes. We can infer the minimum energy magnetic field B$_{min}$ using the equation given in section 1 (minimum energy condition), and compare it with the magnetic field density we obtained for the cylindrical feature near the IRAS source (see Section 2). \n",
    "\n",
    "We obtain a minimum energy magnetic field of **Bmin ~ 7e-6 G**, and a minimum energy **pressure is p$_{}$ = 1.6e-12 erg/cm$^3$**, which are close enough to the values we obtained for the cylindrical feature. \n",
    "Curiously, the flux density we measure from the MeerKAT image of the bow shock is consistent with the flux density \n",
    "predicted by Kaiser et al. 2004, who argued that a (at the time invisible) synchrotron lobe would have had a flux density of approximately 0.1 mJy/beam at a resolution of 4 arcsec (i.e., comparable with the MeerKAT resolution), which was below the 1-$\\sigma$ rms noise of the VLA data taken in the '90s.\n"
   ]
  },
  {
   "cell_type": "code",
   "execution_count": 29,
   "id": "c19b24aa",
   "metadata": {},
   "outputs": [
    {
     "name": "stdout",
     "output_type": "stream",
     "text": [
      "Bminlobe ~ 7.101e-06\n",
      "pminlobe ~ 1.576e-12\n"
     ]
    }
   ],
   "source": [
    "VlobeU = ((math.pi)*(bmaj/2)*(bmin/2))*(DR)*(0.048*d10*pc)**3 #unit volume of in the lobe structure, assming a cylindrical geometry\n",
    "\n",
    "Flobe = 0.0002\n",
    "Llobe = LumTot(Flobe,(d10*10),nu1,nu2,alpha)\n",
    "\n",
    "Bminlobe = (6*math.pi*(eta/f)*c12*Llobe/VlobeU)**(2/7)  # Equipartition magnetic field, Gauss\n",
    "\n",
    "# Total pressure in this feature for minimum energy conditions\n",
    "\n",
    "pminlobe = 7/9*Bminlobe**(2)/(8*math.pi)*(k+1)       # Equipartition pressure, erg/cm3\n",
    "\n",
    "print('Bminlobe ~','{:.3e}'.format(Bminlobe))\n",
    "print('pminlobe ~','{:.3e}'.format(pminlobe))\n",
    "\n",
    "\n",
    "\n",
    "#Slobe = 0.08*(D/f**(-7))**(1/8)*(math.sin(incl*math.pi/180))**(-2)*(k+1)**(-7/4)\n",
    "#print('Slobe ~',Slobe)\n"
   ]
  },
  {
   "cell_type": "code",
   "execution_count": 30,
   "id": "6b1b7ca8",
   "metadata": {},
   "outputs": [
    {
     "name": "stdout",
     "output_type": "stream",
     "text": [
      "shellage [Myr] ~  2.110e-01\n"
     ]
    }
   ],
   "source": [
    "# Assuming the shells near the bow shock are older bow shocks that have expanded \n",
    "\n",
    "shellsep = 120*(0.048*d10*pc) #shell separation in cm\n",
    "\n",
    "shellage = shellsep/vdmincm\n",
    "shellageMyr = shellage/(365.*24.*60*60)/1.0E+6\n",
    "\n",
    "print('shellage [Myr] ~ ', '{:.3e}'.format(shellageMyr))"
   ]
  },
  {
   "cell_type": "markdown",
   "id": "2ab07fcf",
   "metadata": {},
   "source": [
    "##### Radio Emission from the Hot Spots\n",
    "\n",
    "The sites of the strong shocks at the end of the jets of AGN jets are referred to as radio hot spots. The relativistic electrons giving rise to the synchrotron emission of the radio\n",
    "lobes are assumed to be accelerated in these hot spots, which are considerably brighter than the lobes because of the presence of freshly acceletared electrons and enhanced magnetic field. The norther cylindrical feature sprouting from IRAS 19132+1035 couls be such and hot spot. \n",
    "The pressure inside the linear feature derived above (**p$_{cy}$ = 1.6e-11 erg/cm 3**) is close to the pressure of the shocked ISM (the pressure of the Bremsstrahlung emitting gas inside IRAS 19132+1035, derived for the assumption of ideal gas conditions), p$_{ideal}$ ~ 2.7E-10 erg/cm$^3$. \n",
    "\n",
    "The model assumes that the pressure at the end of the jets balances the pressure of the surrounding gas compressed by the bow shock. Our findings are consistent with this pressure equilibrium. This implies that the pressure in the nonthermal feature is dominated by the contribution of the relativistic gas; i.e., $k$ is small (we assumed k = 0.01). "
   ]
  },
  {
   "cell_type": "markdown",
   "id": "984225c3",
   "metadata": {},
   "source": [
    "# Comments\n",
    "\n",
    "\n",
    "\n",
    "**On the jet power** - The size of the bubble carved by the jet from GRS 1915+105 is approximately 5 times larger than that near Cyg X-1, considering the inclination angle of the source (its orbital plane at least, assuming a jet perpendicular to the disc, which is not necessarily correct) to the line of sight.\n",
    "Assuming that the emisison from IRAS 19132+1035 is predominantly from Bremsstrahlung (supported by the flat spectral index measured in the old data), we infer an electron density of the order 60 particles/cm$^3$, which is similar to what was found in the case of Cyg X-1 (it was approximately 25 in that case, although the ionization parameter adopted was 0.01 instead of 1, which changed a lot the jet power estimate). Since the jet transferred energy goes linearly with the electron density (which is basically the only free parameter), any assumption on the density directly impact the jet power. With the parameters assumed so far, the minimum jet power is 5.2e+36 ergs/s. \n",
    "\n",
    "1) If we used the same *ionization fraction* adopted by Gallo et al. 2005, then the elctron density would be 2 orders of magnitude higher, and the implied jet power would be **5.2e+38 ergs/s.**\n",
    "\n",
    "2) Tetarenko et al. 2018 used *H2 column density* maps to estimate the gas mass in the IRAS region, under the assumption that it the best representative of the gas interacting and being displaced by the jet. The resulting electron density is ~4000 particles/cm$^3$, which implies a jet power of **1.44e+39 ergs/s.** The problem in this case is that for this electron density, the temperature of the gas implied by the Bremsstrahlung emissivity is of the order 10$^{13}$K, which is unrealistic. \n",
    "\n",
    "If we trust our own treatmen, then the energy transferred by the jet into the ISM is not as large as it could have been, but it is approximately equal to the accretion power in quiescence for this source.\n",
    "\n",
    "**On the jet age** - Based on our treatment, the age of the shock is at most 1.1 Myr, which means that the bow shock clearly must have formed much earlier than the recent outuburst (which lasted only 30 years). If the bow shock started forming when the source first became active, then the system has only spent a short time accreting. This implies that there might have not been time for the black hole to spin up significantly (the companion is a red giant star of mass 0.8 Msun). Hence, either the black hole formed with a relatively high spin. Interestingly, the RPM yields a relativrly high spin for GRS 191+105, which would math this prediction. Furthermore, Podsiadlowski, Rappaport & Han 2002 (https://ui.adsabs.harvard.edu/abs/2003MNRAS.341..385P/abstract) show that the initial mass of the donor in GRS 1915+105 may have been as high as ∼6 MSun and the black hole may have accreted up to ∼4 MSun from its companion, being spun up significantly in the process, all in a relatively short period of time - of the order of a Myr - consistently with the age of the bow shock."
   ]
  },
  {
   "cell_type": "markdown",
   "id": "177a14b8",
   "metadata": {},
   "source": [
    "### Additional calculations: relativistic time delation and length contraction"
   ]
  },
  {
   "cell_type": "code",
   "execution_count": 13,
   "id": "bb66fb19",
   "metadata": {},
   "outputs": [
    {
     "name": "stdout",
     "output_type": "stream",
     "text": [
      "Dt' = 59.69924622639726\n",
      "Gamma = 5.025189076296055\n"
     ]
    }
   ],
   "source": [
    "beta = 0.98\n",
    "Gamma = 1/(math.sqrt(1 - beta**2))\n",
    "DTprime = 300*(365*24*60*60)\n",
    "\n",
    "Dt = DTprime*math.sqrt(1 - beta**2)\n",
    "print(\"Dt' =\",Dt/(365*24*60*60))\n",
    "print('Gamma =', Gamma)\n",
    "#DTprime is time measured by a stationary observer (rest)\n",
    "#Dt is time measured by the observer travelling at the speed of light (longer)\n",
    "\n",
    "L = L0*math.sqrt(1 - beta**2)\n",
    "\n",
    "#L0 is the observed lenght seen by the observer at infinity\n",
    "#L is the contracted length seen by the observer travelling at the speed of light"
   ]
  },
  {
   "cell_type": "markdown",
   "id": "c60d762f",
   "metadata": {},
   "source": [
    "### Additional calculations: Ionization of Hydrogen (Saha’s equation)\n",
    "\n",
    "The ionization state of a gas in equilibrium at temperature T can be found\n",
    "using Saha’s equation:\n",
    "\n",
    "$$\\frac{N_{j+1}}{N_j} = \\frac{2Z_{j+1}}{n_eZ_j}(\\frac{2\\pi m_ekT}{h^2})^{3/2}e^{-\\chi_j/kT}$$\n"
   ]
  },
  {
   "cell_type": "markdown",
   "id": "6005a1a2",
   "metadata": {},
   "source": [
    "There is a separate Saha equation for each pair (j, j + 1) of ionization states\n",
    "associated with each element present in the gas. These equations have to be\n",
    "solved simultaneously, together with an equation governing charge conservation\n",
    "which ultimately sets the electron number density n$_e$.\n",
    "However, the simplest case of a pure hydrogen gas is amenable to analytic\n",
    "solution, since there is only one Saha equation to solve. Assuming most of\n",
    "the neutral hydrogen is in the ground state, we can make the approximation\n",
    "Z$_I$ ≈ g1 = 2 (here, g1 is the statistical weight of the ground state). For the\n",
    "ionized hydrogen, Z$_{II}$ = 1 because the ionized state is just a proton. Saha’s\n",
    "equation then becomes:\n",
    "\n",
    "$$ \\frac{N_{II}}{N_I} = \\frac{1}{n_e}(\\frac{2\\pi m_ekT}{h^2})^{3/2}e^{-13.6eV/kT} $$ "
   ]
  },
  {
   "cell_type": "markdown",
   "id": "1eb5fc61",
   "metadata": {},
   "source": [
    "To determine the electron number density n$_e$, we can take advantage of charge\n",
    "conservation. If there are **n hydrogen atoms/ions per unit volume**, then:\n",
    "\n",
    "$$ n_e = \\frac{N_{II}}{N_I + N_{II}}n $$ \n",
    "\n",
    "since there is one electron for each H$_{II}$ ion. Then, assuming **N = $N_I + N_{II}$** Saha’s equation becomes:\n",
    "\n",
    "$$\\frac{x^2}{1 - x} = \\frac{1}{n}(\\frac{2\\pi m_ekT}{h^2})^{3/2}e^{-13.6eV/kT}$$\n",
    "\n",
    "which is a quadratic equation for x. \n"
   ]
  },
  {
   "cell_type": "code",
   "execution_count": 31,
   "id": "faef486b",
   "metadata": {},
   "outputs": [
    {
     "name": "stdout",
     "output_type": "stream",
     "text": [
      "sol1 -2.615e+01+0.000e+00j\n",
      "sol2 9.632e-01+0.000e+00j\n"
     ]
    }
   ],
   "source": [
    "# Solve the quadratic equation ax**2 + bx + c = 0\n",
    "\n",
    "n = 1E+6\n",
    "T = 1.0E+4\n",
    "\n",
    "a = 1\n",
    "b = (1/n)*((2*math.pi*me*kb*T)/(h**2))*math.exp(-13.6*eV/(kb*T))\n",
    "c = -(b)\n",
    "\n",
    "# calculate the discriminant\n",
    "d = (b**2) - (4*a*c)\n",
    "\n",
    "# find two solutions\n",
    "sol1 = (-b-cmath.sqrt(d))/(2*a)\n",
    "sol2 = (-b+cmath.sqrt(d))/(2*a)\n",
    "\n",
    "#print(d)\n",
    "print('sol1', '{:.3e}'.format(sol1))\n",
    "print('sol2', '{:.3e}'.format(sol2))"
   ]
  }
 ],
 "metadata": {
  "kernelspec": {
   "display_name": "Python 3 (ipykernel)",
   "language": "python",
   "name": "python3"
  },
  "language_info": {
   "codemirror_mode": {
    "name": "ipython",
    "version": 3
   },
   "file_extension": ".py",
   "mimetype": "text/x-python",
   "name": "python",
   "nbconvert_exporter": "python",
   "pygments_lexer": "ipython3",
   "version": "3.9.4"
  }
 },
 "nbformat": 4,
 "nbformat_minor": 5
}
