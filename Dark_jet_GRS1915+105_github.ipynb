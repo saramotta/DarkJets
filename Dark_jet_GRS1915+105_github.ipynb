{
 "cells": [
  {
   "cell_type": "markdown",
   "id": "1fcc5b0c",
   "metadata": {},
   "source": [
    "# A bow shocks near GRS 1915+105\n",
    "\n",
    "This notebook is partly based off the calculations presented by Gallo et al. 2004 to interpret the bow shock observed in the vicinity of Cyg X-1. Calculations have been adapted to the case of GRS 1915+105, near which we identified a bow shock similar to (albeit much larger than) that seen close to Cyg X-1. \n",
    "Significant additions have been made based on (i) Kaiser et al. 2004, who already modeled a structure near GRS 1915+105 observed in radio, but did not see any large-scale bow shock due to the limited sensitivity of the VLA images they used; and (ii) the python ThunderBooks by R. Fender (https://github.com/robfender/ThunderBooks), which have been used to clarify some of the calculations below. \n",
    "\n",
    "A significant difference with respect to Gallo et al. 2004 is that we make the (reasonable) assumption that the hydrogen emitting the bow shock radiation is fully ionized for the densities we are dealing with. This is supported by Saha's equation that predicts that with densities of the order 0.1-1000 particles per unit volume, all hydrogen should be ionized at a temperature of ~10000K. In order to have an ionization fraction different from 1, the density has to be at least 1E+06 particles/cm$^3$, which is way higher than the average ISM density.  "
   ]
  },
  {
   "cell_type": "markdown",
   "id": "0599dd66",
   "metadata": {},
   "source": [
    "For interpreting the interactions of the large-scale jet structure of GRS 1915+105 with its environment we use the\n",
    "model developed by Kaiser & Alexander (1997, KA97) for the jets of radio galaxies, and adapted for galactic sources in and Kaiser et al. (2004). We assume that the supersonic jets end in strong shock fronts at the location where they impact on the ambient gas. The gas coming up the jets inflates two lobes that are overpressured with respect to the environment. The lobes therefore expand sideways and thus a bow shock is driven into the surrounding ISM. We identify three regions: \n",
    "\n",
    "a) **IRAS 19132+1035** corresponds to the compressed and shock-heated ISM in front of the jet.\n",
    "\n",
    "b) **a non thermal cylindrical feature** near IRAS 19132+1035 and to its north-east edge, pointing towards GRS 1915+105, which corresponds to the strong shock that originates at the end of the postulated large-scale jet, which in AGN is identified with a hot spot.\n",
    "\n",
    "c) **A radio lobe**, clearly detected in the MeerKAT image at an average flux density of 0.2 mJy, which corresponds to the edge-brightened radio lobe inflated by the jet material. In the old VLA data, such a bow shock was not detected due to limited sensitivity (interestingly, it was predicted by Kaiser et al. 2004, at approximately the currently observed flux density).\n",
    "\n",
    "- - - - - \n",
    "\n",
    "In order to determine the properties of the jet, we will do as follows.\n",
    "\n",
    "(1) We **derive the density of the shocked material** in IRAS 19132, assuming that the gas is fully ionised and that the radiation is Bremsstrahlung for a minimum temperature of T ~ 10$^4$K, and modeling the IRAS region as a solid sphere. Then we **infer the pre-shock ISM density** knowing that it should be about a factor of 4 smaller than in the shocked region. \n",
    "\n",
    "(2) We model the non-thermal cylindrical feature at the north edge of IRAS and we **derive the minimum energy magnetic field and pressure** assuming synchrotron emission (based on results in the literature that indicate a steep spectrum).\n",
    "\n",
    "(3) We **estimate the jet advancing velocity** assuming that it equals the velocity of the bow shock in the ISM. From here we can **estimate the jet age**. \n",
    "\n",
    "(4) We **estimate the jet energy transport rate** using the density derived above, and the lobe aspect ratio measured from the MeerKAT image. \n",
    "\n",
    "(5) Finally, we study the emission properties of the jets, and we **infer the magnetic field and pressure from the radio lobes**, and the **pressure within the non-thermal region** at the north side of IRAS, and compare the values to check the self-consistency of the model.\n",
    "\n",
    "(6) As a check, we estimate the jet transfer rate also via two simplified methods, based on (i) the estimate of the hentalphy on the jet-ISM system; (ii) a different use of the minimum energy argument previously applied to AGN. \n",
    "\n",
    "\n",
    "Note that the treatment below is based on a minimum Bremstrahlung temperature of 1.2e+4 K, which affects the electron density and the jet velocity, as well as the jet power transfer rate. This is done to obtain a strict lower limit to the transferred jet power Q$_{jet}$. At the end of the notebook we will repeat the calculation using a reasonable temperature range in a MC simulation.\n",
    " "
   ]
  },
  {
   "cell_type": "markdown",
   "id": "121094ef",
   "metadata": {},
   "source": [
    "### Some units:"
   ]
  },
  {
   "cell_type": "code",
   "execution_count": 1,
   "id": "9bef778a",
   "metadata": {},
   "outputs": [],
   "source": [
    "import matplotlib_inline\n",
    "import matplotlib.pyplot as plt\n",
    "import numpy as np\n",
    "import ipympl\n",
    "\n",
    "#%matplotlib widget\n",
    "%matplotlib notebook\n",
    "# Some Constats and Units\n",
    "\n",
    "pc = 3.086E+18       # 1 pc, cm \n",
    "mh = 1.6735575E-24   # Hydrogen mass, g \n",
    "me = 9.1093837E-28   # Electron mass, g \n",
    "eV = 1.602176634E-12 # ElectronVolt, erg\n",
    "Jy = 1.0E-23         # 1 Jansky (erg/s/cm2/Hz), cgs\n",
    "kb = 1.380649E-16;   # K boltzman, cgs\n",
    "h =  6.6261E-27;     # Plank constant, cgs \n",
    "c = 3.0e10           # Speed of light, cgs \n",
    "Na = 6.022E+23       # Avogadro's number\n",
    "Z=1                  # Hydrogen atomic number\n",
    "e = 4.8e-10          # Electric charge cm3/2 g1/2 s-1\n",
    "\n",
    "# Some useful functions\n",
    "\n",
    "# Gaunt factor \n",
    "def gaunt(nu, T, z, gammalor):\n",
    "    # The Gaunt factor\n",
    "    F1 = 128.*(1**2)*(kb**3)*(T**3)    \n",
    "    F2 = me * (e**4)*(nu**2)*(z**2)\n",
    "    \n",
    "    G = (3**0.5 / (2.*np.pi)) * (np.log(F1/F2) - gammalor**2)\n",
    "    \n",
    "    return G\n",
    "\n",
    "# Electron density (cylinder unit volume - bow shock)\n",
    "def ne(d,F,DR,T_axis,nu,Z):\n",
    "    L14 = F*Jy*4*np.pi*(d*1e3*pc)**2               # Monochormatic ring luminosity in erg/sec/Hz\n",
    "    Vol = ((np.pi)*(bmaj/2)*(bmin/2))*(DR)*(d*1e3*4.8*1e-6*pc)**3 #Unit volume of the bowshock in cm3 - beam area X DR \n",
    "    kappa_nu = L14 / Vol\n",
    "    C_radio = 6.8*1e-38\n",
    "    ne_squared = kappa_nu/(C_radio*(T_axis**-0.5) * gaunt(nu, T_axis, Z,gammalor))\n",
    "    n_e = (ne_squared**0.5) # units: cm^-3\n",
    "    return n_e\n",
    "\n",
    "# Electron density (sphere - IRAS)\n",
    "def nesph(d,Firas,Riras,Temp,nu,Z):\n",
    "    Rirascm = Riras*0.048*d/10*pc                   # IRAS source size (diameter), cm\n",
    "    Liras14 = Firas*Jy*(4*np.pi*(d*1000*pc)**2);    # Monochormatic ring luminosity in erg/sec/Hz \n",
    "                                                    # (d needs to be divided by 10!)\n",
    "    fill = 0.5                                      # Volume filling factor\n",
    "    Volsph = fill*4/3*np.pi*(Rirascm/2)**3;         # Volume = 4/3 pi (D/2)^3, with D = diameter\n",
    "    C_radio = 6.8*1e-38\n",
    "    nesph = np.sqrt( (Liras14/Volsph*(np.sqrt(Temp)))/(C_radio*gaunt(nu, Temp, Z, gammalor)*np.exp(h*nu/(kb*Temp ))) )  \n",
    "    return nesph                                    # Electron density from Bremmsstralung emissivity \n",
    "\n",
    "# Electron density (unit volume - IRAS) - NOT using this, not appropriate\n",
    "def neuv(d,F,DR,T_axis,nu,Z):\n",
    "    bmaj = 6.6           # Beam major axis, arcsec\n",
    "    bmin = 6.6           # Beam minor axis, arcsec\n",
    "    L14 = F*Jy*4*np.pi*(d*1e3*pc)**2 # Average Monochormatic ring luminosity in erg/sec/Hz\n",
    "    Vol = ((np.pi)*(bmaj/2)*(bmin/2))*(DR)*(0.048*d10*pc)**3; \n",
    "    kappa_nu = L14 / Vol\n",
    "    C_radio = 6.8*1e-38\n",
    "    ne_squared = kappa_nu/(C_radio*(T_axis**-0.5) * gaunt(nu, T_axis, Z, gammalor))\n",
    "    n_e_uv = (ne_squared**0.5) # units: cm^-3\n",
    "    return n_e_uv\n"
   ]
  },
  {
   "cell_type": "code",
   "execution_count": 2,
   "id": "cb4a6785",
   "metadata": {},
   "outputs": [
    {
     "name": "stdout",
     "output_type": "stream",
     "text": [
      "Lobe diameter [pc] (lobesizepc) = 2.707e+01\n",
      "Lobe diameter [cm] (lobesizecm) = 8.354e+19\n",
      "Source-ring separation (projected) [pc] (dispcP) ~ 4.602e+01\n",
      "Source-ring separation (projected) [cm] (discmP) ~ 1.420e+20\n",
      "Source-ring separation (de-projected) [pc] (dispc) ~ 5.314e+01\n",
      "Source-ring separation (de-projected) [cm] (discm = Lj)~ 1.640e+20\n",
      "Tmin ~ 10000.0\n",
      "Tmax ~ 3000000\n",
      "Gaunt_min ~ 7.727400776257689\n"
     ]
    }
   ],
   "source": [
    "# Some Constats and Units\n",
    "\n",
    "pc = 3.086E+18       # 1 pc, cm \n",
    "mh = 1.6735575E-24   # Hydrogen mass, g \n",
    "me = 9.1093837E-28   # Electron mass, g \n",
    "eV = 1.602176634E-12 # ElectronVolt, erg\n",
    "Jy = 1.0E-23         # 1 Jansky (erg/s/cm2/Hz), cgs\n",
    "kb = 1.380649E-16;   # K boltzman, cgs\n",
    "h =  6.6261E-27;     # Plank constant, cgs \n",
    "c = 3.0e10           # Speed of light, cgs \n",
    "Na = 6.022E+23       # Avogadro's number\n",
    "Z=1                  # Hydrogen atomic number\n",
    "e = 4.8e-10          # Electric charge cm3/2 g1/2 s-1\n",
    "\n",
    "# Observation-specific quantities\n",
    "\n",
    "nu = 1.2839E+9;      # Observing frequency, in Hz (L-band, MeerKAT, slightly lower than for Cyg X-1, Westerbork)\n",
    "bmaj = 6.6           # Beam major axis, arcsec\n",
    "bmin = 6.6           # Beam minor axis, arcsec\n",
    "\n",
    "# Source specific quantities\n",
    "\n",
    "d10 = 0.94;          # distance in units of 10 kpc, GRS 1915+105 --- KNOWN (Reid & Miller-Jones 2023)  \n",
    "incl = 60;           # Source inclination to line of sight, deg --- KNOWN (Reid et al. 2014)\n",
    "incl_err = 5         # Error on inclination angle\n",
    "o_a = 10             # Upper limit to jet opening angle\n",
    "o_a_err = 0          # Jet opening angle error\n",
    "Flobe = 0.00015;     # Bow shock/lobe flux density, Jy/beam -- MEASURED\n",
    "Flobe_err = Flobe/10; \n",
    "Firas = 0.057;       # IRAS source INTEGRATED flux density, Jy -- MEASURED \n",
    "Firas_err = Firas/10\n",
    "Firasmean = 0.0033;       # IRAS source MEAN flux density, Jy -- MEASURED \n",
    "Firasmean_err = Firas/10\n",
    "\n",
    "Fcyl = 0.0052;       # Northern feature flux density, Jy -- MEASURED\n",
    "DR = 60              # Ring thickness, arcsec (on average) -- MEASURED\n",
    "DR_err = 0.3\n",
    "DRcm = (DR)*(0.048*d10*pc) # Ring thickness, in cm (on average)\n",
    "Riras = 36           # IRAS source angular size (diameter), arcsec -- MEASURED \n",
    "Riras_err = bmaj/2\n",
    "Rirascm = Riras*0.048*d10*pc # IRAS source size (diameter), cm\n",
    "\n",
    "theam = 10;                                   # Lobe angular size (diameter ortogonal to jet direction) in arcmin (projected) GRS 1915 --- MEASURED\n",
    "lobesizepc = (theam*60)*0.048*d10             # Lobe diameter in pc GRS 1915+105 --- MEASURED\n",
    "lobesizecm = lobesizepc*pc                    # Lobe diameter (does NOT need to be de-projected 'cause this is measured as ortoigonal to the jet direction) in cm GRS 1915+105\n",
    "\n",
    "disamin = 17;                                 # Lobe-source angular distance in arcmin (projected) GRS 1915+105 --- MEASURED\n",
    "disamin_err = 0.2\n",
    "dispcP = (disamin*60)*0.048*d10;              # source-ring separation (projected), in pc (= Lj, pc)\n",
    "discmP = dispcP*pc;                           # source-ring separation, (projected) in cm\n",
    "dispc = (disamin*60)*0.048*d10/np.sin(incl*np.pi/180);  # source-ring separation (DE-PROJECTED), in pc (= Lj, pc)\n",
    "discm = dispc*pc;                             # source-ring separation, DE-PROJECTED in cm (= Lj, cm)\n",
    "\n",
    "gammalor = 1.02                                # Lorentz factor of the jet\n",
    "\n",
    "\n",
    "print('Lobe diameter [pc] (lobesizepc) =', '{:.3e}'.format(lobesizepc)) #Lj\n",
    "print('Lobe diameter [cm] (lobesizecm) =', '{:.3e}'.format(lobesizecm)) #Lj\n",
    "print('Source-ring separation (projected) [pc] (dispcP) ~','{:.3e}'.format(dispcP))\n",
    "print('Source-ring separation (projected) [cm] (discmP) ~','{:.3e}'.format(discmP))\n",
    "print('Source-ring separation (de-projected) [pc] (dispc) ~','{:.3e}'.format(dispc))\n",
    "print('Source-ring separation (de-projected) [cm] (discm = Lj)~','{:.3e}'.format(discm))\n",
    "\n",
    "# Assumptions\n",
    "x = 1;               # Ionization fraction at T ~ 10^4\n",
    "n_iter = 5000\n",
    "\n",
    "\n",
    "Tmax = np.max(3*(10**6));\n",
    "Tmin = np.min(1e+4);                         # Lower-limit to post-shock temperature -- ASSUMED \n",
    "                                             # (from arguments based on Bremsstrahlung nature of the emission)\n",
    "                                             # Also see Saha's equation below\n",
    "\n",
    "T_axis = np.linspace(Tmin,Tmax, n_iter, endpoint=True)\n",
    "\n",
    "g = gaunt(nu, Tmin, Z,gammalor)\n",
    "\n",
    "\n",
    "print('Tmin ~' ,Tmin)\n",
    "print('Tmax ~' ,Tmax)\n",
    "print('Gaunt_min ~' ,g)\n",
    "\n",
    "#print('Rirascm', Rirascm)\n",
    "#Liras14 = Firas*Jy*(4*np.pi*(d10*10*1000*pc)**2);\n",
    "#print('Liras', Liras14)"
   ]
  },
  {
   "cell_type": "markdown",
   "id": "26f398f1",
   "metadata": {},
   "source": [
    "## Large scale structure of the jet"
   ]
  },
  {
   "cell_type": "markdown",
   "id": "87c458a2",
   "metadata": {},
   "source": [
    "### 1)  IRAS 19132 - Bremsstrahlung\n",
    "\n",
    "The emission from IRAS 19132 is characterised by a flat radio spectrum, which suggests a bremsstrahlung origin from a gas emitting at a temperature of T $\\sim 10^4K$. This is supported by the detection of a H92$\\alpha$ recombination line with width 25 km/s (Rodriguez & Mirabel 1998), which suggests a temperature of at least T $\\sim$1.2$\\times$ 10$^4K$.\n",
    "\n",
    "\n",
    "\n",
    "The **monochromatic emissitivty $\\epsilon_\\nu$ of ionised hydrogen due to thermal bremsstrahlung** is given by (Longair 1994). \n",
    "\n",
    " $$\\epsilon_\\nu = \\frac{L_\\nu}{V} = C_{radio} g(\\nu, T) \\frac{n_e^2}{\\sqrt{T}} \\exp{(\\frac{h\\nu}{k_b T})} ~~ erg~s^{-1}~cm^{-3}~Hz^{-1}$$\n",
    "\n",
    "where \n",
    "\n",
    "$$ C_{radio} = 6.8\\times 10^{-38} erg~s^{-1}~cm^{-3}~Hz^{-1} $$\n",
    "\n",
    "Note that in Kaiser+2004 the constant is ~$10^{50}$ because the number densities are expressed in particles per meter cube: $(m^3)^2 = 10^{12} (cm^3)^2$.\n",
    "\n",
    "The above assumes that **the number of electrons $n_e$ equals the number of protons $n$** (pure hydrogen gas), and that the density and temperature are uniform within the volume considered. $\\epsilon_\\nu$ is the expression of the Bremsstrahlung emissivity for a pure hydrogen gas emitting at a temperature T, and $V$ is the source unit volume. Since we have no information regarding the extent of the emission regions along our line of sight or their exact three-dimensional geometrical structure, **we assume a spherical shape with diameter 36 arcsec, multiplied by a filling factor f$\\sim$0.5** to take into account the fact that the region is probably multi-phase (hot gas and cold gas may co-exist), and only the hot gas is responsible for the Bremsstrahlung emission. \n",
    "\n",
    "From the Bremsstrahlung emissivity we can derive the electron density. \n",
    "\n",
    "$$n_e = \\sqrt\\frac{\\epsilon_\\nu}{g(\\nu, T) \\sqrt{T} C_{radio} \\exp{(\\frac{h\\nu}{k_b T})}}$$\n",
    "\n",
    "where the Gaunt factor g($\\nu$) is given by \n",
    "\n",
    "$$g(\\nu, T) \\approx \\frac{\\sqrt{3}}{2 \\pi}\\left[\\ln \\left(\\frac{128 \\epsilon_0^2 k^3 T^3}{m_e e^4 \\nu^2 Z^2}\\right)-\\gamma^2\\right]$$\n",
    "\n",
    "As stated above, since we assume that the hydrogen in the region is fully ionized, the electron number density also corresponds to the total particle number density (under the assumption that the ISM is almost all hydrogen). \n",
    "**The electron density _in the shock_ is about 140 particles per cm$^3$**, and thus, assuming that the shock is approximately 4 times denser than the surrounding medium, **the unshocked ISM electron density is about 35 particles per cm$^3$**. This is consistent with the typical density of an HII region, a factor ~10 or larger than the typical ISM density (1/cm$^3$). Since the bow shock seems to be connected with an HII region (CHIMPS 4894, based on SIMBAD, see http://simbad.cds.unistra.fr/simbad/sim-id?Ident=CHIMPS+4894&), the density we find seems appropriate. "
   ]
  },
  {
   "cell_type": "code",
   "execution_count": 3,
   "id": "641b477b-5199-48f9-b208-4ead3e2dd890",
   "metadata": {},
   "outputs": [
    {
     "name": "stdout",
     "output_type": "stream",
     "text": [
      ">> Particle number density of shocked gas in the lobe [1/cm3] (ntmin = ne/x) = 2.334e+01\n",
      ">> Particle number density of shocked gas in the lobe [1/cm3] (ntmax = ne/x) = 7.754e+01\n",
      ">> Min Particle number density of shocked gas in IRAS (using unit volume) [1/cm3] (ntmin = ne/x) = 1.095e+02\n",
      ">> Max Particle number density of shocked gas in IRAS (using unit volume) [1/cm3] (ntmax = ne/x) = 3.637e+02\n",
      "!!! IRAS estimates probably underestimated because the volume is smaller (not cylinders)\n"
     ]
    }
   ],
   "source": [
    "neuvmin = neuv(d10*10,Flobe,DR,Tmin,nu,Z)\n",
    "neuvmax = neuv(d10*10,Flobe,DR,Tmax,nu,Z)\n",
    "ntuvmin = neuvmin/x;                                    # Total particle density, which equals the electron \n",
    "ntuvmax = neuvmax/x;                                    # Total particle density, which equals the electron \n",
    "print('>> Particle number density of shocked gas in the lobe [1/cm3] (ntmin = ne/x) =','{:.3e}'.format(ntuvmin))\n",
    "print('>> Particle number density of shocked gas in the lobe [1/cm3] (ntmax = ne/x) =','{:.3e}'.format(ntuvmax))\n",
    "\n",
    "neuvminiras = neuv(d10*10,Firasmean,DR,Tmin,nu,Z)\n",
    "neuvmaxiras = neuv(d10*10,Firasmean,DR,Tmax,nu,Z)\n",
    "ntuvminiras = neuvminiras/x;                                    # Total particle density, which equals the electron \n",
    "ntuvmaxiras = neuvmaxiras/x;                                    # Total particle density, which equals the electron \n",
    "print('>> Min Particle number density of shocked gas in IRAS (using unit volume) [1/cm3] (ntmin = ne/x) =','{:.3e}'.format(ntuvminiras))\n",
    "print('>> Max Particle number density of shocked gas in IRAS (using unit volume) [1/cm3] (ntmax = ne/x) =','{:.3e}'.format(ntuvmaxiras))\n",
    "print('!!! IRAS estimates probably underestimated because the volume is smaller (not cylinders)')"
   ]
  },
  {
   "cell_type": "code",
   "execution_count": 4,
   "id": "903267f6",
   "metadata": {},
   "outputs": [
    {
     "name": "stdout",
     "output_type": "stream",
     "text": [
      "Ring unit volume [cm^3] (ringuv) = 5.541e+54\n",
      "Ring average monochromatic Luminosity [erg/s/Hz] (Liras14) = 1.586e+19\n",
      "IRAS volume [cm^3] (Volsph) = 6.595e+55\n",
      "IRAS INTEGRATED monochromatic Luminosity [erg/s/Hz] (Liras14) = 6.027e+21\n",
      ">> Particle number density of shocked gas [1/cm3] (ntmin = ne/x) = 1.865e+02\n",
      ">> Particle number density of shocked gas [1/cm3] (ntmax = ne/x) = 6.196e+02\n",
      ">> Particle number density of un-shocked gas [1/cm3] (nt0min = ntmin/4) = 4.663e+01\n",
      "Density of shocked gas [g/cm3] (rhomin) = 4.276e-22\n",
      "Density of un-shocked gas [g/cm3] rho0min = 1.069e-22\n",
      "2.8623624950617084e-36\n",
      "9.139682466870654e-35\n",
      ">> Pressure inside IRAS (ideal gas conditions) [erg/cm3] (Pideal) =  2.575e-10\n",
      ">> Pressure in the ISM (ideal gas conditions) [erg/cm3] (pidealunsh) = 1.288e-12\n"
     ]
    }
   ],
   "source": [
    "# Section 1: Calculating the gas density downstream with respect to the shock front, assuming \n",
    "# bremsstralung emission\n",
    "\n",
    "fill = 1\n",
    "Volsph = fill*4/3*np.pi*(Rirascm/2)**3;             # Volume = 4/3 pi (D/2)^3, with D = diameter\n",
    "Liras14 = Firas*Jy*(4*np.pi*(d10*10*1000*pc)**2);   # Monochormatic luminosity in erg/sec/Hz \n",
    "                                                    # for a pure hydrogen gas emitting at Temp\n",
    "nemin = nesph(d10*10,Firas,Riras,Tmin,nu,Z)\n",
    "nemax = nesph(d10*10,Firas,Riras,Tmax,nu,Z)\n",
    "ntmin = nemin/x;                                    # Total particle density, which equals the electron \n",
    "ntmax = nemax/x;                                    # Total particle density, which equals the electron \n",
    "                                            ## density divided by ionization fraction, which in \n",
    "                                                    ## this case is 1 (for fully ionized hydrogen)\n",
    "rhomin = ntmin*1.370*mh                             ## Density of the gas post-shock, i.e. down-stream of \n",
    "                                                    ## the shock, g/cm3\n",
    "rho0min = rhomin/4;                                 ## Density of the pre-shock gas, i.e. up-stream of the \n",
    "                                                    ## shock, g/cm3\n",
    "   \n",
    "ringuv = ((np.pi)*(bmaj/2)*(bmin/2))*(DR)*(0.048*d10*pc)**3; \n",
    "Llobe = Flobe*Jy*(4*np.pi*(d10*10*1000*pc)**2);    # Monochormatic luminosity in erg/sec/Hz \n",
    "\n",
    "\n",
    "#print('Ring thickness [cm] (DRcm) =','{:.3e}'.format(DRcm))\n",
    "print('Ring unit volume [cm^3] (ringuv) =','{:.3e}'.format(ringuv))\n",
    "print('Ring average monochromatic Luminosity [erg/s/Hz] (Liras14) =', '{:.3e}'.format(Llobe))\n",
    "\n",
    "print('IRAS volume [cm^3] (Volsph) =', '{:.3e}'.format(Volsph))\n",
    "print('IRAS INTEGRATED monochromatic Luminosity [erg/s/Hz] (Liras14) =', '{:.3e}'.format(Liras14))\n",
    "print('>> Particle number density of shocked gas [1/cm3] (ntmin = ne/x) =','{:.3e}'.format(ntmin))\n",
    "print('>> Particle number density of shocked gas [1/cm3] (ntmax = ne/x) =','{:.3e}'.format(ntmax))\n",
    "print('>> Particle number density of un-shocked gas [1/cm3] (nt0min = ntmin/4) =','{:.3e}'.format(ntmin/4))\n",
    "print('Density of shocked gas [g/cm3] (rhomin) =','{:.3e}'.format(rhomin))\n",
    "print('Density of un-shocked gas [g/cm3] rho0min =','{:.3e}'.format(rho0min))\n",
    "\n",
    "print(Llobe/ringuv)\n",
    "print(Liras14/Volsph)\n",
    "\n",
    "R = Na*kb # gas constant\n",
    "# Cross check the pressure of gas in ideal conditions. \n",
    "# pressure of gas inside IRAS source assuming ideal conditions\n",
    "pidealmin = ntmin*kb*Tmin\n",
    "pidealmax = ntmin*kb*Tmax\n",
    "\n",
    "print('>> Pressure inside IRAS (ideal gas conditions) [erg/cm3] (Pideal) = ', '{:.3e}'.format(pidealmin))\n",
    "\n",
    "# pressure of gas of unshocked material assuming ideal conditions, and T = 50K\n",
    "pidealunsh = ntmin*kb*50\n",
    "print('>> Pressure in the ISM (ideal gas conditions) [erg/cm3] (pidealunsh) =', '{:.3e}'.format(pidealunsh))"
   ]
  },
  {
   "cell_type": "markdown",
   "id": "0c92a5d1",
   "metadata": {},
   "source": [
    "### 2) Northern feature in IRAS 19132 - Synchrotron emission from gas (hot spot)"
   ]
  },
  {
   "cell_type": "markdown",
   "id": "b36e7bc7",
   "metadata": {},
   "source": [
    "The radio maps of IRAS 19132+1035 show an elongated feature pointing in the direction of GRS 1915+105, with lengths of 17.4 arcsec, and width of 7.9 arcsec, and with a steep radio spectrum, located to the northwest of the main flat spectrum region. In the old VLA images this spectrum is consistent with a power law F $\\propto$ $\\nu^\\alpha$ with $\\alpha$ = -0.8.  This spectral index is typical for synchrotron emission and hence it implies the presence of a relativistic plasma consisting of magnetic field and a population of relativistic electrons. \n",
    "\n",
    "We will assume that we observe(or infer) a radio spectrum with some spectral index $\\alpha$ between upper and lower frequencies $\\nu_1, \\nu_2$. We will need the integrated radio luminosity between these limits, and not just the specific radio luminosity at a certain frequency.\n",
    "\n",
    "$$L=4 \\pi D^2 \\int_{\\nu_1}^{\\nu_2} F_{\\nu} d\\nu = 4 \\pi D^2 F_{\\nu_2} \\nu_2^{-\\alpha} \\left( \\frac{\\nu_2^{\\alpha+1} - \\nu_1^{\\alpha+1}}{\\alpha+1} \\right) $$\n",
    "\n",
    "(an equivalent formula can of course be constructed using $\\nu_1$ as the reference frequency). \n",
    "Here we use $\\alpha = (1-p)/2$.**\n",
    "\n",
    "Note, in comparing the analysis here with the simplified (but relatively accurate) formula of Longair et al. 1994, that the $L_{\\nu}$ used in that formula is the 'specific' luminosity in units erg s$^{-1}$ Hz$^{-1}$ whereas the *integrated* luminosity used here and defined above is in erg s$^{-1}$, and is therefore a larger quantity).\n",
    "\n",
    "The energy density in magnetic fields is $B^2 / 8\\pi$ (in cgs units), therefore for a volume $V$ the total energy in B fields is:\n",
    "\n",
    "$$E_B = \\frac{B^2}{8 \\pi} f V $$\n",
    "\n",
    "where $f$ is a *filling factor* which represents the fraction of the physical source's volume which is actually occupied by the magnetic field and relativistic particles.\n",
    "\n",
    "Given a population of electrons with a power law distribution $-p$ between energy limits $E_1$ and $E_2$, the total energy in these electrons is given by:\n",
    "\n",
    "$$E_e = c_2^{-1} L B^{-2} \\frac{(p-3)}{(p-2)} \\frac{(E_1^{2-p}-E_2^{2-p})}{(E_1^{3-p}-E_2^{3-p})}$$\n",
    "\n",
    "For a given electron energy and magnetic field, we can characterise the synchrotron emission as coming from a single frequency $\\nu = c_1 B E^2$, i.e. $E = \\nu^{1/2} c_1^{-1/2} B^{-1/2}$. So, we can write:\n",
    "\n",
    "$$E_e = c_2^{-1} c_1^{1/2} \\tilde{c}(p, \\nu_1, \\nu_2) B^{-3/2} L = c_{12}(p,\\nu_1,\\nu_2) B^{-3/2} L$$\n",
    "\n",
    "where\n",
    "\n",
    "$$c_{12} = c_2^{-1} c_1^{1/2} \\tilde{c}(p, \\nu_1, \\nu_2)$$\n",
    "\n",
    "and\n",
    "\n",
    "$$\\tilde{c}(p, \\nu_1, \\nu_2) = \\frac{(p-3)}{(p-2)} \\frac{\\nu_1^{(2-p)/2}-\\nu_2^{(2-p)/2}}{\\nu_1^{(3-p)/2}-\\nu_2^{(3-p)/2}}$$\n",
    "\n",
    "The pseudo-constant $c_{12}$ encapsulates all the information about the observed (or interpolated, extrapolated, assumed) frequency range of the observations and the slope of the energy spectrum between those limits. \n",
    "\n",
    "Since $E_B \\propto B^2$, the total energy is given by\n",
    "\n",
    "$$E_{e+B} = E_e + E_B =  const. B^{-3/2} + const. B^2$$\n",
    "\n",
    "and therefore *there must be a minimum of the total energy as a function of $B$* (assuming there are no other contributions to the energy budget which have a different dependence on $B$). This minimum occurs at *equipartition* of the energy, when $E_e$ and $E_B$ are almost equal (which can be calculate by differenting $E_{e+B}$ with respect to $B$):\n",
    "\n",
    "$$E_B = \\frac34 \\eta E_e$$\n",
    "\n",
    "where $\\eta$ indicates how much energy is stored in the protons which accompany the electrons (in the case of a normal baryonic plasma); $\\eta = 1$ is generally considered for the minimum energy condition.\n",
    "Substituting the above expressions, the equipartition magnetic field is given by:\n",
    "\n",
    "$$B_{eq} = (6 \\pi \\frac{\\eta}{f} c_{12} \\frac{L}{V})^{2/7} $$\n",
    "\n",
    "\n",
    "\n",
    "For minimum energy conditions the total pressure in this feature is then given by:\n",
    "\n",
    "$$ p = \\frac{7}{9} \\frac{B^2_{min}}{8\\pi}(k+1)$$\n",
    "\n",
    "with k equal the ratio of the internal energy stored in any particles that do not contribute to the synchrotron emission to the sum of the energy in the magnetic field and in the relativistic electrons.\n",
    "Here we assume a cylindrical geometry for the northern feature, with a radius equivalent to 3.9 arcsec and a length of 17.4 $\\times$ sin$\\theta^{-1}$ arcsec, where $\\theta$ is the angle of the long axis of the cylinder to our line of sight.\n",
    "\n",
    "The volume of the feature is **Vcyl ~ 2e+54 cm$^3$**, and its total luminosity is **Lcyl ~ 1.7e+29 erg/s**. The predicted minimum energy **magnetic field is Bmin ~ 2.2e-05 G**, and the minimum energy **pressure is 1.6e-11 erg/cm$^3$**. "
   ]
  },
  {
   "cell_type": "code",
   "execution_count": 5,
   "id": "063eefd6",
   "metadata": {},
   "outputs": [
    {
     "name": "stdout",
     "output_type": "stream",
     "text": [
      "Cylinder Integrated Luminosity [erg/s] (Lcy) = 1.998e+29\n",
      "Cylinder Volume [cm3] (VolCyl) = 2.592e+54\n",
      ">> Cylinder magnetic field density [G] (Bmin) =  2.182e-05\n",
      ">> Cylinder pressure [erg/cm3] (pmincyl) ~ 1.488e-11\n"
     ]
    }
   ],
   "source": [
    "# This is adapted from the ThunderBook \"Equipartition analysis\" (https://github.com/robfender/ThunderBooks)\n",
    "D = d10*10\n",
    "k = 0.01          \n",
    "nu1=1.0e7\n",
    "nu2=1.0e11\n",
    "p=2.5\n",
    "alpha=(1.0-p)/2.0\n",
    "eta = 1\n",
    "f = 1\n",
    "\n",
    "# Pseudoconstant\n",
    "c1=6.27e18\n",
    "c2=2.37e-3\n",
    "# speed of light \n",
    "c=3.0e10\n",
    "# relativistic sound speed of c/sqrt[3]\n",
    "cs=c/(3.0**0.5)\n",
    "\n",
    "ctildetop=(nu1**((2.0-p)/2.0))-(nu2**((2.0-p)/2.0))\n",
    "ctildebottom=(nu1**((3.0-p)/2.0))-(nu2**((3.0-p)/2.0))\n",
    "ctilde=((p-3.0)/(p-2.0))*(ctildetop/ctildebottom)\n",
    "c12=(c2**-1.0)*(c1**0.5)*ctilde\n",
    "\n",
    "def LumTot(snu2,D,nu1,nu2,alpha): \n",
    "# here s is the flux density at the upper frequency nu2\n",
    "    L2 = 4 * np.pi * ((D * 3.1e21)**2.0) * (snu2 * 1e-26) * (nu2**(-alpha)) * ((nu2**(1+alpha))-(nu1**(1+alpha))) / (1+alpha)\n",
    "    #print (('Calculated total radiative luminosity'),('L ='),('%.2e' % L2),(' erg / sec '))\n",
    "    return L2\n",
    "\n",
    "Lcy = LumTot(Fcyl,(d10*10),nu1,nu2,alpha)    #  Note that this is the INTEGRATED luminosity, not the monochromatic one\n",
    "\n",
    "\n",
    "rcyl = 3.9\n",
    "lencyl = 17.4\n",
    "\n",
    "rcylcm = rcyl*(0.048*d10*pc)                         # Radius of cylindric feature, cm\n",
    "lencylcm = lencyl*(0.048*d10*pc)/np.sin(incl*np.pi/180)  # Lenght of cylindric feature, cm\n",
    "VolCyl = np.pi*rcylcm**2*lencylcm                   # Volume of cylindric feature, cm3\n",
    "\n",
    "Bmin = (6*np.pi*(eta/f)*c12*Lcy/VolCyl)**(2/7)  # Equipartition magnetic field, Gauss\n",
    "# Total pressure in this feature for minimum energy conditions\n",
    "\n",
    "pmincyl = 7/9*Bmin**(2)/(8*np.pi)*(k+1)       # Equipartition pressure, erg/cm3\n",
    "\n",
    "\n",
    "print('Cylinder Integrated Luminosity [erg/s] (Lcy) =','{:.3e}'.format(Lcy))\n",
    "print('Cylinder Volume [cm3] (VolCyl) =','{:.3e}'.format(VolCyl))\n",
    "print('>> Cylinder magnetic field density [G] (Bmin) = ','{:.3e}'.format(Bmin))\n",
    "print('>> Cylinder pressure [erg/cm3] (pmincyl) ~','{:.3e}'.format(pmincyl))\n",
    "\n",
    "# From Kaiser+2004, for a reality check\n",
    "\n",
    "#LcylK = 6e+18*D**2\n",
    "#VolK = 9.9E-05*(D)**3/math.sin(incl*np.pi/180)*pc**3\n",
    "#BminK = 1.0E-6*120*(math.sin(incl*np.pi/180)/(D))**(2/7)\n",
    "#pminK = 1.0E-10*(4.3*(math.sin(incl*np.pi/180)/(D))**(4/7))*(k+1)\n",
    "\n",
    "#print('LcylK ~',LcylK)\n",
    "#print('VolK ~',VolK)\n",
    "#print('BminK ~',BminK)\n",
    "#print('pminK ~',pminK)\n",
    "\n",
    "#print(lencyl*2./pc)\n",
    "#print(lencyl/pc)\n",
    "#print(alpha)"
   ]
  },
  {
   "cell_type": "markdown",
   "id": "d8584269",
   "metadata": {},
   "source": [
    "## The jet model"
   ]
  },
  {
   "cell_type": "markdown",
   "id": "680fea13",
   "metadata": {},
   "source": [
    "For interpreting the interactions of the large-scale jet structure of GRS 1915+105 with its environment we use the\n",
    "model developed in Kaiser & Alexander (1997, KA97) for the jets of radio galaxies, and adapted for galactic sources in and Kaiser et al. (2004). The supersonic jets end in strong shock fronts at the location where they impact on the ambient gas. The gas coming up the jets inflate two lobes that are overpressured with respect to the environment. The lobes therefore expand sideways and thus a bow shock is driven into the surrounding ISM. We identify three regions: \n",
    "\n",
    "a) **IRAS 19132** corresponds to the compressed and shock-heated ISM in front of the jet.\n",
    "\n",
    "b) **the norther cylindrical feature** near IRAS 19132+1035, pointing towards GRS 1915+105, corresponds to the strong shock that originates at the end of the postulated large-scale jet.\n",
    "\n",
    "c) **the radio lobe clearly seen in the MeerKAT image at an average flux density of 0.2 mJy** corresponds to the edge-brightened radio lobe inflated by the jet material. In the old VLA data such a bow shock was not detected due to limited sensitivity (but it was predicted by Kaiser et al. 2004, at approximately the currently observed flux density).\n"
   ]
  },
  {
   "cell_type": "markdown",
   "id": "ace502af",
   "metadata": {},
   "source": [
    "### 1) Applicability (characteristic jet lenght)"
   ]
  },
  {
   "cell_type": "markdown",
   "id": "5ab65f3b",
   "metadata": {},
   "source": [
    "The model assumes a constant energy transport rate, Q0, for each side of the jet. This transport rate is averaged over the lifetime of the jets. We assume that the ambient medium has a constant density. Under these circumstances the evolution of the large-scale structure created by the jet (lobe and bow shock), is self-similar once the jet extends beyond its characteristic length scale, given by (KA97): \n",
    "\n",
    "$$ L_0 = (\\frac{\\rho_0^2 Q_0}{\\dot{M}_0^3})^{-1/4} = [\\frac{Q_0^2}{\\rho_0^2 c^6(\\gamma_j -1)}]^{1/4}$$\n",
    "\n",
    "where $\\dot{M_0}$ is the mass transport rate of the jet, and $\\gamma_j$ is the Lorentz factor of the jet material.\n",
    "\n",
    "The density of the gas that has been shock-heated by the impact of the jets, which we calculated based on the Bremsstrahlung luminosity of IRAS 19132, is approximately 4 times that of the pre-shock value $\\rho_0$. \n",
    "\n",
    "Estimating the Lorentz factor of jet flows is notoriously difficult (e.g., Fender 2003). Furthermore, the observed motion of radio ‘‘knots’’ in the jets may simply reflect the motion of shocks along the jets rather\n",
    "than the bulk motion of the jet material. Any estimate of $\\gamma_j$ will also depend on the distance to the source and the orientation of the jet to our line of sight. Here we use the conservative lower limit  $\\gamma_j$ = 1.1, which maximizes L$_0$.\n",
    "\n",
    "For reasonable values of Q$_0$ (~ 10$^{36}$ erg/s, see below), L$_0$ is of the order  10$^{-05}$ pc, i.e.,  orders of magnitude smaller than the jet lenght L$_j$ (> 40 pc), and therefore the model by KA97 is valid for GRS 1915+105. "
   ]
  },
  {
   "cell_type": "code",
   "execution_count": 6,
   "id": "dabeb9f9",
   "metadata": {},
   "outputs": [
    {
     "name": "stdout",
     "output_type": "stream",
     "text": [
      "Characteristic jet length scale [pc] (L0) =  1.073e-05\n",
      "Jet length [pc] (Lj) =  5.314e+01\n"
     ]
    }
   ],
   "source": [
    "# Calculation of L0\n",
    "\n",
    "gammaj = 1.1\n",
    "Q0 = 1.0E+36\n",
    "\n",
    "L0 = ( (Q0**2) / (rho0min**2*c**6*(gammaj-1)) )**(1/4)\n",
    "\n",
    "print('Characteristic jet length scale [pc] (L0) = ', '{:.3e}'.format(L0/pc))\n",
    "print('Jet length [pc] (Lj) = ', '{:.3e}'.format(discm/pc))\n"
   ]
  },
  {
   "cell_type": "markdown",
   "id": "00a4991c",
   "metadata": {},
   "source": [
    "### 2) Shock front velocity and age of the jet\n",
    "\n",
    "KA97 showed that the velocity of the bow shock is roughly equal to the advance speed of the end of the jet driving this shock, which is given by:\n",
    "\n",
    "$$ \\dot{L} = \\sqrt{\\frac{16 k_b}{3 m_p}T}$$\n",
    "\n",
    "where $m_p$ is the mass of the proton. \n",
    "For a strong shock in a mono-atomic gas, the expansion velocity is set by the temperature of the shocked gas. If the shock is radiative, then the initial post-shock temperature can be higher than that of the thermalized, bremsstrahlung-emitting gas. A stringent constraint on the temperature could come from X-ray observations, which we will have soon via Chandra. \n",
    "\n",
    "We estimate a minimum **shock velocity of 23 Km/s**, which implies that the bow shock will be highly supersonic with respect to the unshocked ISM. Note that the kinematic of the gas in the region is complex,  and hence T$_{min}$ could be overestimated."
   ]
  },
  {
   "cell_type": "code",
   "execution_count": 7,
   "id": "f3eb4f4e",
   "metadata": {},
   "outputs": [
    {
     "name": "stdout",
     "output_type": "stream",
     "text": [
      ">> Shock front velocity [Km/s] (vd1 = Ldotmin) ~ 2.098e+01\n",
      ">> Min Shock front velocity [cm/s] (vd1 = Ldotmin) ~ 2.098e+06\n",
      ">> Max Shock front velocity [cm/s] (vd1 = Ldotmin) ~ 3.633e+07\n"
     ]
    }
   ],
   "source": [
    "vdmin = ( (16*Tmin*kb)/(3*mh) )**(1/2)/1.0E+5;# Lower-limit to Ljdot, i.e., post-shock velocity, in Km/s\n",
    "\n",
    "vdmaxcm = ( (16*Tmin*kb)/(3*mh) )**(1/2);     # Lower-limit to Ljdot, i.e., post-shock velocity, in cm/s\n",
    "vdmaxcm = ( (16*Tmax*kb)/(3*mh) )**(1/2);     # Upper-limit to Ljdot, i.e., post-shock velocity, in cm/s\n",
    "\n",
    "vdmincm = vdmin*1.0E+5;  #Ldot                # Lower limit to ring velocity, in cm/s \n",
    "\n",
    "print('>> Shock front velocity [Km/s] (vd1 = Ldotmin) ~','{:.3e}'.format(vdmin))\n",
    "print('>> Min Shock front velocity [cm/s] (vd1 = Ldotmin) ~','{:.3e}'.format(vdmincm))\n",
    "print('>> Max Shock front velocity [cm/s] (vd1 = Ldotmin) ~','{:.3e}'.format(vdmaxcm))\n",
    "\n",
    "#TminP = 20\n",
    "#print(( (16*TminP*kb)/(3*mh) )**(1/2)/1.0E+5)\n"
   ]
  },
  {
   "cell_type": "markdown",
   "id": "49ef3a6b",
   "metadata": {},
   "source": [
    "For a constant density medium Kaiser+2004 showed that the jet length within the lobe grows with the time $t$ in such a way that\n",
    "\n",
    "$$ L_j = C_1 ~(\\frac{Q_0}{\\rho_0})^{1/5}~ t^{3/5}$$ \n",
    "\n",
    "Taking the time derivartive of this equation we obtain:\n",
    "\n",
    "$$ \\dot{L_j} = \\frac{3 Lj}{5 t}$$\n",
    "\n",
    ", which implies:\n",
    "\n",
    "$$ t = \\frac{3 L_j}{5 \\dot{L_j}} $$\n",
    "\n",
    "This expression can be used to estimate the upper limit to the age of the jet, which is approximately 1 Myr.\n",
    "C1 is a dimensionless constant that depends on the thermodynamical properties of the jet material, and on the aspect ratio, R, of the lobe inflated by the jet (R is the length of the lobe divided by its width). The esplicit form of C1 is the following:\n",
    "\n",
    "$$ C_1=\\left(\\frac{C_2}{C_3\\theta^2}\\frac{(\\Gamma_x+1)(\\Gamma_c-1)(5-\\beta)^3}{18\\left[9\\{\\Gamma_c+(\\Gamma_c-1)\\frac{C_2}{4\\theta^2}\\}-4-\\beta\\right]}\\right)^{\\frac{1}{(5-\\beta)}}$$\n",
    "\n",
    "with\n",
    "\n",
    "$$C_2=\\left(\\frac{(\\Gamma_c-1)(\\Gamma_j-1)}{4\\Gamma_c}+1\\right)^{\\frac{\\Gamma_c}{(\\Gamma_c-1)}}\\frac{(\\Gamma_j+1)}{(\\Gamma_j-1)}$$\n",
    "\n",
    "and \n",
    "\n",
    "$$C_3=\\frac{\\pi}{4R_{\\rm ax}^2}$$\n",
    "\n",
    "\n",
    "(Tetarenko et al. 2018, Appendix C), and the value of the constant is calculated below."
   ]
  },
  {
   "cell_type": "code",
   "execution_count": 8,
   "id": "4ad4cc65",
   "metadata": {},
   "outputs": [
    {
     "name": "stdout",
     "output_type": "stream",
     "text": [
      "Con1 ~ 1.9932080579528801\n"
     ]
    }
   ],
   "source": [
    "# The constant C1 is given in the following (see Appendix C in Tetarenko et al. 2018): \n",
    "\n",
    "# The constant C1 can ba calculated making assumptions on the jet properties and on the environment, \n",
    "# which we will treat as uniform in density. We also make assumptions on the adiabatic index of the \n",
    "# material in the cavity, in the external medium, and in the jet. \n",
    "# Keeping the adiabatic indices = 5/3, in order to recover a constant of about 2, we need to assume \n",
    "# jet opening angle of 30 degrees, which might be a bit high. \n",
    "\n",
    "Gammac = 5/3                            # Adiabatic index of the material in the cavity, -- ASSUMED \n",
    "Gammax = 5/3                            # Adiabatic index of the material in the external medium, -- ASSUMED \n",
    "Gammaj = 5/3                            # Adiabatic index of the material in the jet, -- ASSUMED \n",
    "\n",
    "def C_cons(g_c,g_j,g_x,ope):\n",
    "    beta = 0                                # density profile index (beta = 0 for a uniform density medium), -- ASSUMED \n",
    "    theta_ra = ope*np.pi/180                # Jet opening angle, in radiants\n",
    "    C2_0 = (((g_c-1)*(g_j-1))/(4*g_c) + 1 )**(g_c/(g_c-1)) * ((g_j+1)/(g_j-1))\n",
    "    Rax_0 = np.sqrt((1/4*(C2_0/theta_ra**2))) # axial ratio of the jet-blown cavity                         \n",
    "    C3_0 = np.pi/(4*Rax_0**2)\n",
    "    C1_0 = ((C2_0)/(C3_0*theta_ra**2)*((g_x+1)*(g_c-1)*(5-beta)**3)/(18*(9*(g_c + (g_c -1)*(C2_0/(4*theta_ra**2))) - 4 - beta)) )**(1/(5-beta))\n",
    "    return C1_0\n",
    "\n",
    "Con1 = C_cons(Gammac, Gammaj,Gammax, 30)\n",
    "\n",
    "print('Con1 ~', Con1)\n",
    "\n",
    "#print(dispc)\n",
    "#print(lobesizepc)"
   ]
  },
  {
   "cell_type": "code",
   "execution_count": 9,
   "id": "5b28b959",
   "metadata": {},
   "outputs": [
    {
     "name": "stdout",
     "output_type": "stream",
     "text": [
      "Jet age [Myr] (tmaxMyr) = 1.488e+00\n",
      "Jet age [Myr] (tmaxMyr) = 8.588e-02\n"
     ]
    }
   ],
   "source": [
    "# Section 3: the jet age\n",
    "\n",
    "def age(disamin,d,incl,v):\n",
    "    disasec = disamin*60 #lobe target seperation in arcsec (projected)\n",
    "    dispc = disasec*d*1e3*4.8*1e-6  #lobe target separation in pc (projected)\n",
    "    discmP = dispc*pc #lobe target sepeartion in cm (projected)\n",
    "    discm = discmP/np.sin(incl*np.pi/180) #lobe target de-projected seperation to account for the inclination angle\n",
    "    t = 3/5*(discm/v) #time in seconds\n",
    "    t_age_Myr = t/(365.*24.*60*60)/1.0E+6 #age of shock in Myr\n",
    "    return t_age_Myr\n",
    "    \n",
    "tmaxMyr = age(disamin,(d10*10),incl,vdmincm)\n",
    "tminMyr = age(disamin,(d10*10),incl,vdmaxcm)\n",
    "\n",
    "tsmax = tmaxMyr*(365.*24.*60*60)*1.0E+6          # Upper limit to lobe age in s\n",
    "tsmin = tminMyr*(365.*24.*60*60)*1.0E+6          # Upper limit to lobe age in s\n",
    "\n",
    "#print(disamin,(d10*10),incl,vdmincm)\n",
    "print('Jet age [Myr] (tmaxMyr) =', '{:.3e}'.format(tmaxMyr))\n",
    "print('Jet age [Myr] (tmaxMyr) =', '{:.3e}'.format(tminMyr))"
   ]
  },
  {
   "cell_type": "markdown",
   "id": "4d56b25d",
   "metadata": {},
   "source": [
    "We note that based on the results of the sub-mm observations reported by Tetarenko et al. 2018 \n",
    "(https://ui.adsabs.harvard.edu/abs/2018MNRAS.475..448T/) the shock velocity estimated from the SiO detection would be ~ 1Km/s, which implies a jet of approximately 25 Myr, i.e. significantly older than what we predict."
   ]
  },
  {
   "cell_type": "markdown",
   "id": "5789b2f5",
   "metadata": {},
   "source": [
    "### 3) Energetics\n",
    "\n",
    "Assuming that the jet direction remains constant over time,  and that the jet is colliding with a medium of densit $\\rho_0$, the power Q$_{jet}$ being transported by the jets averaged over its lifetime, **is solely dependent on the properties of the ISM** at the interaction site. Combining the equations for $L_j$ and $\\dot{L_j}$ given above we obtain: \n",
    "\n",
    "$$ Q_{jet} = (\\frac{5}{3})^3~\\frac{\\rho_0}{C_1^5}L_j^2 ~\\dot{L_j}^3$$\n",
    "\n",
    "The constant C$_1$ can be calculated and it depends on the aspect ratio R of the lobe inflated by the jet, the lobe lenght divided by its width. For extragalactic jet sources, R ~ 2. In the case of the lobe in GRS 1915+105, R is appriximately R ~ 11.16/sin(theta)/8 = 1.5, hence we will assume C$_1$ = 1.5. Below we calculate the constant explicitly (note that a value of 1.5 implies a jet opening angle of 50 degrees).\n",
    "We obtain that the **minimum energy transferred to the environment is Q$_{jet}$ ~ 1.4e+37 erg/s**. \n",
    "\n",
    "The pressure inside the lobe is given by: \n",
    "\n",
    "$$ p = 0.0675 \\frac{C_1^{10/3}}{R^2}(\\frac{\\rho_0 Q_0^2}{L_j^4})^{1/3}$$\n",
    "\n",
    "Which is $p_{lobe}$ ~ 3.6e-11 erg/cm$3$, i.e. significantly overpressured with respect to the unshocked ISM (for a temperature of 50K, a typical ISM pressure would be of the order 10$^{-12}$ erg/cm$3$ assuming that ideal gas conditions, see Section 1), but similar to the pressure we obtain for the cylindrical feature stemming from IRAS 19132+1035."
   ]
  },
  {
   "cell_type": "code",
   "execution_count": 10,
   "id": "10d71586",
   "metadata": {
    "scrolled": true
   },
   "outputs": [
    {
     "name": "stdout",
     "output_type": "stream",
     "text": [
      ">> Minimum transferred jet power [erg/s] (Qjetmin) ~  3.183e+35\n",
      ">> Jet pressure [erg/cm3] (pminlobes) ~  2.286e-12\n"
     ]
    }
   ],
   "source": [
    "# Section 4: the jet energy transport rate\n",
    "\n",
    "# Con1arb = 2\n",
    "# Rarb = 2\n",
    "\n",
    "# Min and max depend on the temperature, which gives both the jet velocity and material density. \n",
    "\n",
    "# Qjetminarb = (5/3)**3 * rho0min/(Con1arb**5)*(discm**2)*(vdmincm**3)   # Lower limit to time averaged jet power \n",
    "\n",
    "# pminjetarb = 0.0675*(Con1arb**(10/3)/Rarb**2)*(rho0min*Qjetmin**2/(discm**4))**(1/3)\n",
    "# print(Con1arb,Rarb,rho0min,Qjetmin,discm)\n",
    "\n",
    "# print(Qjetminarb,pminjetarb)\n",
    "\n",
    "\n",
    "def power(theta,d,nee,disamin,vcm):\n",
    "    beta = 0\n",
    "                                           # Theta is the jet opening angle in degrees\n",
    "                                           # d is the distance in kpc\n",
    "                                           # nee is the number of electrons\n",
    "                                           # disamin lobe target seperation in arcsec (projected)\n",
    "                                           # vcm velocity\n",
    "    theta_rad = theta*np.pi/180            # Jet opening angle, in radiants\n",
    "    Con2 = (((Gammac-1)*(Gammaj-1))/(4*Gammac) + 1 )**(Gammac/(Gammac-1)) * ((Gammaj+1)/(Gammaj-1))\n",
    "    Rax = np.sqrt((1/4*(Con2/theta_rad**2))) # axial ratio of the jet-blown cavity                         \n",
    "    Con3 = np.pi/(4*Rax**2)\n",
    "    Con1 = ((Con2)/(Con3*theta_rad**2)*((Gammax+1)*(Gammac-1)*(5-beta)**3)/(18*(9*(Gammac + (Gammac -1)*(Con2/(4*theta_rad**2))) - 4 - beta)) )**(1/(5-beta))\n",
    "    #nt=ne/x #where x is the ionisation fraction and is 1, use ne and nt interchangeably in the next equation  \n",
    "    rho = nee*1.370*mh;                    # Density of the gas up-stream of the shock, in cm-3 (calculated above with the calorimetry method above)\n",
    "    rho0 = rho/4;                          # Density of the gas, down-stream of the shock, in cm-3\n",
    "    disasec = disamin*60                   # lobe target seperation in arcsec (projected)\n",
    "    dispc = disasec*d*1e3*4.8*1e-6         # lobe target separation in pc (projected)\n",
    "    discmP = dispc*pc                      # lobe target sepeartion in cm (projected)\n",
    "    discm = discmP/np.sin(incl*np.pi/180)  # lobe target de-projected seperation to account for the inclination angle\n",
    "    Pjet = (5/3)**3 * rho0/(Con1**5)*(discm**2)*vcm**3   # Upper limit to time averaged jet power \n",
    "    return Pjet\n",
    "\n",
    "Qjetmin  = power(o_a,d10*10,nemin,disamin,vdmincm)\n",
    "\n",
    "#print(Rax,Con1)\n",
    "\n",
    "def press(theta,d,nee,disamin,vcm):\n",
    "    beta = 0\n",
    "                                           # Theta is the jet opening angle in degrees\n",
    "                                           # d is the distance in kpc\n",
    "                                           # nee is the number of electrons\n",
    "                                           # disamin lobe target seperation in arcsec (projected)\n",
    "                                           # vcm velocity\n",
    "    theta_rad = theta*np.pi/180            # Jet opening angle, in radiants\n",
    "    Con2 = (((Gammac-1)*(Gammaj-1))/(4*Gammac) + 1 )**(Gammac/(Gammac-1)) * ((Gammaj+1)/(Gammaj-1))\n",
    "    Rax = np.sqrt((1/4*(Con2/theta_rad**2))) # axial ratio of the jet-blown cavity                         \n",
    "    Con3 = np.pi/(4*Rax**2)\n",
    "    Con1 = ((Con2)/(Con3*theta_rad**2)*((Gammax+1)*(Gammac-1)*(5-beta)**3)/(18*(9*(Gammac + (Gammac -1)*(Con2/(4*theta_rad**2))) - 4 - beta)) )**(1/(5-beta))\n",
    "    #nt=ne/x #where x is the ionisation fraction and is 1, use ne and nt interchangeably in the next equation  \n",
    "    rho = nee*1.370*mh;                    # Density of the gas down-stream of the shock, in cm-3 (calculated above with the calorimetry method above)\n",
    "    rho0 = rho/4;                          # Density of the gas, up-stream of the shock, in cm-3\n",
    "    disasec = disamin*60                   # lobe target seperation in arcsec (projected)\n",
    "    dispc = disasec*d*1e3*4.8*1e-6         # lobe target separation in pc (projected)\n",
    "    discmP = dispc*pc                      # lobe target sepeartion in cm (projected)\n",
    "    discm = discmP/np.sin(incl*np.pi/180)  # lobe target de-projected seperation to account for the inclination angle\n",
    "    Pjet = (5/3)**3 * rho0/(Con1**5)*(discm**2)*vcm**3   # Upper limit to time averaged jet power \n",
    "    pminjet = 0.0675*(Con1**(10/3)/Rax**2)*(rho0*Pjet**2/(discm**4))**(1/3)\n",
    "    return pminjet\n",
    "\n",
    "pminjet = press(o_a,d10*10,nemin,disamin,vdmincm)\n",
    "\n",
    "print('>> Minimum transferred jet power [erg/s] (Qjetmin) ~ ','{:.3e}'.format(Qjetmin))\n",
    "print('>> Jet pressure [erg/cm3] (pminlobes) ~ ','{:.3e}'.format(pminjet))\n"
   ]
  },
  {
   "cell_type": "code",
   "execution_count": 12,
   "id": "e1f44081",
   "metadata": {},
   "outputs": [
    {
     "name": "stdout",
     "output_type": "stream",
     "text": [
      "Minimum transferred jet power based on Tetarenko+2018 [erg/s] (QjetminT) ~ 4.045e+34\n",
      "1.0219225980102382e-20\n"
     ]
    }
   ],
   "source": [
    "# Based on electron density from Tetarenko et al. 2018\n",
    "vdminT = 1 #; Km/s\n",
    "vdmincmT = vdminT*1.0E+5;\n",
    "\n",
    "Con1T = 6\n",
    "fT = 0.1\n",
    "DT = 8.6\n",
    "rho0T  = 2.6E-18/DT**3/fT /4 #---- Assuming bremsstrahlung emission, so dividing by 4 to accound for \n",
    "                             #     the pre-shock vs post-shock difference. \n",
    "n0T  = rho0T/(1.37*mh)\n",
    "\n",
    "QjetminT = (5/3)**3 * rho0T/(Con1**5)*(discm**2)*(vdmincmT**3)   # Lower limit to time averaged jet power \n",
    "print('Minimum transferred jet power based on Tetarenko+2018 [erg/s] (QjetminT) ~','{:.3e}'.format(QjetminT))\n",
    "print(rho0T)      \n",
    "      "
   ]
  },
  {
   "cell_type": "code",
   "execution_count": 13,
   "id": "d1f51de0",
   "metadata": {},
   "outputs": [
    {
     "name": "stdout",
     "output_type": "stream",
     "text": [
      "Temperature from molecular gas density [K] (TT) = 1.305e+10\n"
     ]
    }
   ],
   "source": [
    "C_radio = 6.8*1e-38\n",
    "TT = (C_radio*g*n0T**2/(Liras14/Volsph)*np.exp(h*nu/(kb*2000 )) )**2 #--- this ignores the T in the exponential, which doesn't count for high T values.\n",
    "\n",
    "print('Temperature from molecular gas density [K] (TT) =', '{:.3e}'.format(TT))\n"
   ]
  },
  {
   "cell_type": "markdown",
   "id": "52744d73",
   "metadata": {},
   "source": [
    "### 4) Emission Properties of the Model\n",
    "\n",
    "#### Radio emission form the lobes\n",
    "\n",
    "In the case of AGN a substantial fraction of the energy transported by the jet gives rise to a population of relativistic electrons and a magnetic field in the lobes. The emission from the lobes is easily detected in radio, and similar emission should emerge around the jets in microquasars. \n",
    "\n",
    "We assume that the conditions of minimum energy hold in the lobe, and so the maximum synchrotron luminosity is obtained from a given amount of energy (e.g., Longair 1994). We neglect any energy losses of the relativistic electrons due to radiation processes. We can infer the minimum energy magnetic field B$_{min}$ using the equation given in section 1 (minimum energy condition), and compare it with the magnetic field density we obtained for the cylindrical feature near the IRAS source (see Section 2). \n",
    "\n",
    "We obtain a minimum energy magnetic field of **Bmin ~ 6.5e-6 G**, and a minimum energy **pressure is p$_{}$ = 1.3e-12 erg/cm$^3$**, which are close enough to the values we obtained for the cylindrical feature. \n",
    "Curiously, the flux density we measure from the MeerKAT image of the bow shock is consistent with the flux density \n",
    "predicted by Kaiser et al. 2004, who argued that a (at the time invisible) synchrotron lobe would have had a flux density of approximately 0.1 mJy/beam at a resolution of 4 arcsec (i.e., comparable with the MeerKAT resolution), which was below the 1-$\\sigma$ rms noise of the VLA data taken in the '90s.\n"
   ]
  },
  {
   "cell_type": "code",
   "execution_count": 14,
   "id": "c19b24aa",
   "metadata": {},
   "outputs": [
    {
     "name": "stdout",
     "output_type": "stream",
     "text": [
      "Equipartition lobe magnetic field [G] (Bminlobe) = 6.377e-06\n",
      "Equipartition lobe pressure [erg/cm3] (pminlobe) = 1.271e-12\n"
     ]
    }
   ],
   "source": [
    "VlobeU = ((np.pi)*(bmaj/2)*(bmin/2))*(DR)*(0.048*d10*pc)**3 #unit volume of in the lobe structure, assuming a cylindrical geometry\n",
    "\n",
    "Llobe = LumTot(Flobe,(d10*10),nu1,nu2,alpha)\n",
    "\n",
    "Bminlobe = (6*np.pi*(eta/f)*c12*Llobe/VlobeU)**(2/7)  # Equipartition magnetic field, Gauss\n",
    "\n",
    "# Total pressure in this feature for minimum energy conditions\n",
    "\n",
    "pminlobe = 7/9*Bminlobe**(2)/(8*np.pi)*(k+1)       # Equipartition pressure, erg/cm3\n",
    "\n",
    "print('Equipartition lobe magnetic field [G] (Bminlobe) =','{:.3e}'.format(Bminlobe))\n",
    "print('Equipartition lobe pressure [erg/cm3] (pminlobe) =','{:.3e}'.format(pminlobe))\n",
    "\n",
    "#Slobe = 0.08*(D/f**(-7))**(1/8)*(math.sin(incl*np.pi/180))**(-2)*(k+1)**(-7/4)\n",
    "#print('Slobe ~',Slobe)\n"
   ]
  },
  {
   "cell_type": "markdown",
   "id": "8ca161f8",
   "metadata": {},
   "source": [
    "# MC-based parameters estimates"
   ]
  },
  {
   "cell_type": "markdown",
   "id": "012a5b3c",
   "metadata": {},
   "source": [
    "### 1) Electron density"
   ]
  },
  {
   "cell_type": "code",
   "execution_count": 18,
   "id": "97d2868e",
   "metadata": {},
   "outputs": [
    {
     "name": "stdout",
     "output_type": "stream",
     "text": [
      "0.94\n"
     ]
    }
   ],
   "source": [
    "# Redefine distance for simplicity\n",
    "d = d10*10          #distance to GRS 1915 in kpc, Reid et al. 2014\n",
    "d_err = 0.7        #error in distance measured \n",
    "print(d10)"
   ]
  },
  {
   "cell_type": "code",
   "execution_count": 19,
   "id": "85c53701",
   "metadata": {},
   "outputs": [],
   "source": [
    "from joblib import Parallel, delayed\n",
    "import multiprocessing\n",
    "from scipy.stats import gaussian_kde,rv_continuous\n",
    "from scipy import stats\n",
    "from scipy.interpolate import interp1d"
   ]
  },
  {
   "cell_type": "code",
   "execution_count": 20,
   "id": "2ee3c6b8",
   "metadata": {},
   "outputs": [],
   "source": [
    "n_iter = 5000\n",
    "n_cores = 16         # Number of parallel threads"
   ]
  },
  {
   "cell_type": "code",
   "execution_count": 21,
   "id": "cdc7b22c",
   "metadata": {},
   "outputs": [],
   "source": [
    "class custom_dist_analytical(rv_continuous):\n",
    "    def _pdf(self, xx):\n",
    "        return testf(xx)\n",
    "\n",
    "np.random.seed(124)"
   ]
  },
  {
   "cell_type": "code",
   "execution_count": 22,
   "id": "ee20504a",
   "metadata": {},
   "outputs": [],
   "source": [
    "# Source parameters:\n",
    "dist = np.random.normal(d,d_err, n_iter)\n",
    "Flux = np.random.normal(Firas,Firas_err,n_iter)\n",
    "Ring_thic = np.random.normal(Riras,Riras_err,n_iter) #ring thickness in arcsec"
   ]
  },
  {
   "cell_type": "code",
   "execution_count": 23,
   "id": "2d0159f7",
   "metadata": {},
   "outputs": [
    {
     "name": "stderr",
     "output_type": "stream",
     "text": [
      "[Parallel(n_jobs=16)]: Using backend LokyBackend with 16 concurrent workers.\n",
      "[Parallel(n_jobs=16)]: Done  40 tasks      | elapsed:    0.3s\n",
      "[Parallel(n_jobs=16)]: Done 384 tasks      | elapsed:    0.5s\n"
     ]
    },
    {
     "name": "stdout",
     "output_type": "stream",
     "text": [
      "Median = 514.3561161679343 ; Lower limit =  395.09284289862916 ; Upper limit =  629.9773281830531\n"
     ]
    },
    {
     "name": "stderr",
     "output_type": "stream",
     "text": [
      "[Parallel(n_jobs=16)]: Done 4160 tasks      | elapsed:    0.6s\n",
      "[Parallel(n_jobs=16)]: Done 5000 out of 5000 | elapsed:    0.7s finished\n"
     ]
    }
   ],
   "source": [
    "elec_density = Parallel(n_jobs=n_cores,verbose=5)(delayed(nesph)(dist[i],Flux[i],Ring_thic[i],T_axis[i],nu,Z) for i in range(n_iter))\n",
    "\n",
    "median = np.percentile(elec_density,50)\n",
    "low_lim = np.percentile(elec_density,16)\n",
    "high_lim = np.percentile(elec_density,84)\n",
    "print('Median =',median,'; Lower limit = ',low_lim,'; Upper limit = ',high_lim)\n"
   ]
  },
  {
   "cell_type": "code",
   "execution_count": 24,
   "id": "a22c9f74",
   "metadata": {},
   "outputs": [
    {
     "data": {
      "image/png": "[encoded data removed]",
      "text/plain": [
       "<Figure size 640x480 with 1 Axes>"
      ]
     },
     "metadata": {},
     "output_type": "display_data"
    }
   ],
   "source": [
    "### PLOT\n",
    "%matplotlib inline\n",
    "histplot = plt.hist(elec_density,bins=70,color='royalblue',edgecolor='blue',density=True,alpha=0.7)\n",
    "plt.vlines([low_lim,high_lim],0,max(histplot[0])*1.1,linestyles=':',colors='midnightblue')\n",
    "plt.vlines(median,0,max(histplot[0])*1.1,linestyles=':',colors='midnightblue')\n",
    "plt.ylim(0,max(histplot[0])*1.1)\n",
    "plt.ylabel('Probability density', fontsize=12)\n",
    "plt.xlabel(r'$n_e(T)$ [cm$^{-3}$]', fontsize=12)\n",
    "#plt.xlim(0,400)\n",
    "#plt.title(str(name))\n",
    "plt.minorticks_on()\n",
    "plt.tick_params(axis='both', which='major', labelsize=12)\n",
    "plt.tick_params(axis='both', which='major', length=9)\n",
    "plt.tick_params(axis='both', which='minor', length=4.5)\n",
    "plt.tick_params(axis='both', which='both',direction='in',right=True,top=True)\n",
    "#plt.savefig(str(name)+'_peculiar_velocity.png')\n",
    "plt.show()"
   ]
  },
  {
   "cell_type": "markdown",
   "id": "6a3a7cd4-744f-4185-a359-4f65cf8578e4",
   "metadata": {},
   "source": [
    "### Assuming that the bow shock is from Bremsstrahlung emission instead of Synchrotron\n",
    "\n",
    "We use a cylindrical unit volume in the bow shock (beam time thickness) and the average flux density (0.15 mJy/beam). The resulting particle density should be compared with that from the IRAS modelling. "
   ]
  },
  {
   "cell_type": "code",
   "execution_count": 25,
   "id": "0dca8fee-46ff-48e2-9c60-e518883d3461",
   "metadata": {},
   "outputs": [
    {
     "name": "stderr",
     "output_type": "stream",
     "text": [
      "[Parallel(n_jobs=16)]: Using backend LokyBackend with 16 concurrent workers.\n",
      "[Parallel(n_jobs=16)]: Done  48 tasks      | elapsed:    0.1s\n",
      "[Parallel(n_jobs=16)]: Done 512 tasks      | elapsed:    0.2s\n"
     ]
    },
    {
     "name": "stdout",
     "output_type": "stream",
     "text": [
      "Median = 84.28401250423096 ; Lower limit =  66.0595827604326 ; Upper limit =  96.83159532142511\n"
     ]
    },
    {
     "name": "stderr",
     "output_type": "stream",
     "text": [
      "[Parallel(n_jobs=16)]: Done 4224 tasks      | elapsed:    0.3s\n",
      "[Parallel(n_jobs=16)]: Done 4969 out of 5000 | elapsed:    0.4s remaining:    0.0s\n",
      "[Parallel(n_jobs=16)]: Done 5000 out of 5000 | elapsed:    0.4s finished\n"
     ]
    }
   ],
   "source": [
    "Fluxuv = np.random.normal(Flobe,Flobe_err,n_iter)\n",
    "elec_densityuv = Parallel(n_jobs=n_cores,verbose=5)(delayed(ne)(dist[i],Fluxuv[i],Ring_thic[i],T_axis[i],nu,Z) for i in range(n_iter))\n",
    "median = np.percentile(elec_densityuv,50)\n",
    "low_lim = np.percentile(elec_densityuv,16)\n",
    "high_lim = np.percentile(elec_densityuv,84)\n",
    "print('Median =',median,'; Lower limit = ',low_lim,'; Upper limit = ',high_lim)"
   ]
  },
  {
   "cell_type": "markdown",
   "id": "a0343b48-b4b0-485a-ab18-34b1b466c350",
   "metadata": {},
   "source": [
    "Unshocked version:"
   ]
  },
  {
   "cell_type": "code",
   "execution_count": 26,
   "id": "f198f54d-53c7-40a7-af2a-2168d3aa4a1b",
   "metadata": {},
   "outputs": [
    {
     "name": "stdout",
     "output_type": "stream",
     "text": [
      "Median = 21.07100312605774 ; Lower limit =  16.51489569010815 ; Upper limit =  24.207898830356278\n"
     ]
    }
   ],
   "source": [
    "print('Median =',median/4,'; Lower limit = ',low_lim/4,'; Upper limit = ',high_lim/4)\n"
   ]
  },
  {
   "cell_type": "markdown",
   "id": "10737ef3",
   "metadata": {},
   "source": [
    "### 2) Shock velocity"
   ]
  },
  {
   "cell_type": "code",
   "execution_count": 27,
   "id": "bba46f8c",
   "metadata": {},
   "outputs": [
    {
     "name": "stdout",
     "output_type": "stream",
     "text": [
      "2.098e+06 3.633e+07\n"
     ]
    }
   ],
   "source": [
    "v_range =    ((16*T_axis*kb)/(3*mh))**(1/2)/1e5\n",
    "v_range_cm = ((16*T_axis*kb)/(3*mh))**(1/2)\n",
    "print('{:.3e}'.format(min(v_range_cm)),'{:.3e}'.format(max(v_range_cm)))"
   ]
  },
  {
   "cell_type": "code",
   "execution_count": 28,
   "id": "d75f97b8",
   "metadata": {},
   "outputs": [
    {
     "data": {
      "image/png": "[encoded data removed]",
      "text/plain": [
       "<Figure size 640x480 with 1 Axes>"
      ]
     },
     "metadata": {},
     "output_type": "display_data"
    }
   ],
   "source": [
    "### PLOT\n",
    "fig = plt.figure()\n",
    "ax = fig.add_subplot(111)\n",
    "\n",
    "ax.yaxis.set_ticks_position('both')\n",
    "ax.xaxis.set_ticks_position('both')\n",
    "ax.get_yaxis().set_tick_params(direction='in', which='both')\n",
    "ax.get_xaxis().set_tick_params(direction='in', which='both')\n",
    "\n",
    "ax.plot(v_range, T_axis, 'r-', lw=3)\n",
    "\n",
    "ax.set_ylim(1e4, 1.1e6)\n",
    "#ax.set_ylim(3., 5e2)\n",
    "ax.set_xscale('log')\n",
    "ax.set_yscale('log')\n",
    "\n",
    "ax.set_xlabel(r'Velocity [km s$ˆ{-1}$]')\n",
    "ax.set_ylabel(r'Temperature [K]')\n",
    "\n",
    "plt.show()"
   ]
  },
  {
   "cell_type": "markdown",
   "id": "d099e9f5",
   "metadata": {},
   "source": [
    "### 3) Jet age"
   ]
  },
  {
   "cell_type": "code",
   "execution_count": 29,
   "id": "625f2391",
   "metadata": {},
   "outputs": [
    {
     "name": "stderr",
     "output_type": "stream",
     "text": [
      "[Parallel(n_jobs=16)]: Using backend LokyBackend with 16 concurrent workers.\n",
      "[Parallel(n_jobs=16)]: Done  48 tasks      | elapsed:    0.0s\n",
      "[Parallel(n_jobs=16)]: Done 512 tasks      | elapsed:    0.1s\n"
     ]
    },
    {
     "name": "stdout",
     "output_type": "stream",
     "text": [
      "Median = 0.12234532613196332 Lower limit =  0.09352310247000262 Upper limit =  0.2162871677167302 Absolute upper limit: 1.2562973519834066\n"
     ]
    },
    {
     "name": "stderr",
     "output_type": "stream",
     "text": [
      "[Parallel(n_jobs=16)]: Done 4224 tasks      | elapsed:    0.2s\n",
      "[Parallel(n_jobs=16)]: Done 4969 out of 5000 | elapsed:    0.3s remaining:    0.0s\n",
      "[Parallel(n_jobs=16)]: Done 5000 out of 5000 | elapsed:    0.3s finished\n"
     ]
    }
   ],
   "source": [
    "# Generating distribution arrays for measurements\n",
    "len_min = np.random.normal(disamin,disamin_err, n_iter) #distance between bowshock and target in arcmin\n",
    "i_angle = np.random.normal(incl,incl_err,n_iter)        #inclination angle\n",
    "#Obtaining distribution of age for different input parameters\n",
    "t_age = Parallel(n_jobs=n_cores,verbose=5)(delayed(age)(len_min[i],dist[i],i_angle[i],v_range_cm[i]) for i in range(n_iter))\n",
    "\n",
    "median = np.percentile(t_age,50)\n",
    "low_lim = np.percentile(t_age,16)\n",
    "high_lim = np.percentile(t_age,84)\n",
    "tsmax_sim = np.percentile(t_age,95)\n",
    "tsabs_sim = np.percentile(t_age,99.9)\n",
    "print('Median =',median,'Lower limit = ',low_lim,'Upper limit = ',high_lim, 'Absolute upper limit:',tsabs_sim)"
   ]
  },
  {
   "cell_type": "code",
   "execution_count": 30,
   "id": "e745269b",
   "metadata": {},
   "outputs": [
    {
     "name": "stdout",
     "output_type": "stream",
     "text": [
      "Median = 0.12234532613196332 Lower limit =  0.09352310247000262 Upper limit =  0.2162871677167302\n"
     ]
    },
    {
     "data": {
      "image/png": "[encoded data removed]",
      "text/plain": [
       "<Figure size 640x480 with 1 Axes>"
      ]
     },
     "metadata": {},
     "output_type": "display_data"
    }
   ],
   "source": [
    "### PLOT\n",
    "print('Median =',median,'Lower limit = ',low_lim,'Upper limit = ',high_lim)\n",
    "histplot = plt.hist(t_age,bins=70,color='royalblue',edgecolor='blue',density=True,alpha=0.7)\n",
    "plt.vlines([low_lim,high_lim],0,max(histplot[0])*1.1,linestyles=':',colors='midnightblue')\n",
    "plt.vlines(median,0,max(histplot[0])*1.1,linestyles=':',colors='midnightblue')\n",
    "plt.ylim(0,max(histplot[0])*1.1)\n",
    "plt.ylabel('Probability density', fontsize=12)\n",
    "plt.xlabel('Age [Myr]', fontsize=12)\n",
    "plt.xlim(0,1.3)\n",
    "#plt.title(str(name))\n",
    "plt.minorticks_on()\n",
    "plt.tick_params(axis='both', which='major', labelsize=12)\n",
    "plt.tick_params(axis='both', which='major', length=9)\n",
    "plt.tick_params(axis='both', which='minor', length=4.5)\n",
    "plt.tick_params(axis='both', which='both',direction='in',right=True,top=True)\n",
    "#plt.savefig(str(name)+'_peculiar_velocity.png')\n",
    "plt.show()"
   ]
  },
  {
   "cell_type": "markdown",
   "id": "f2f74833",
   "metadata": {},
   "source": [
    "### 4) Jet power"
   ]
  },
  {
   "cell_type": "code",
   "execution_count": 31,
   "id": "c2ecb96a",
   "metadata": {},
   "outputs": [
    {
     "name": "stderr",
     "output_type": "stream",
     "text": [
      "[Parallel(n_jobs=16)]: Using backend LokyBackend with 16 concurrent workers.\n"
     ]
    },
    {
     "name": "stdout",
     "output_type": "stream",
     "text": [
      "open_angle =  5.472794821496475\n",
      "d =  9.399999999999999\n",
      "elec_density =  514.9368568207834\n",
      "len_min =  16.99751246889851\n",
      "v_range_cm =  24296199.482018065\n"
     ]
    },
    {
     "name": "stderr",
     "output_type": "stream",
     "text": [
      "[Parallel(n_jobs=16)]: Done  48 tasks      | elapsed:    0.0s\n",
      "[Parallel(n_jobs=16)]: Done 512 tasks      | elapsed:    0.1s\n",
      "[Parallel(n_jobs=16)]: Done 4224 tasks      | elapsed:    0.2s\n"
     ]
    },
    {
     "name": "stdout",
     "output_type": "stream",
     "text": [
      "Median = 3.0947062021045954e+38 Lower limit =  3.2899495605351473e+37 Upper limit =  1.5089349795800372e+39\n"
     ]
    },
    {
     "name": "stderr",
     "output_type": "stream",
     "text": [
      "[Parallel(n_jobs=16)]: Done 4969 out of 5000 | elapsed:    0.3s remaining:    0.0s\n",
      "[Parallel(n_jobs=16)]: Done 5000 out of 5000 | elapsed:    0.3s finished\n"
     ]
    }
   ],
   "source": [
    "# Generating distribution arrays for measurements\n",
    "open_angle = np.random.uniform(1, o_a, n_iter) #opening angle distribution\n",
    "#Obtaining distribution for different input parameters\n",
    "\n",
    "print('open_angle = ',np.mean(open_angle))\n",
    "print('d = ', d)\n",
    "print('elec_density = ',np.mean(elec_density))\n",
    "print('len_min = ',np.mean(len_min))\n",
    "print('v_range_cm = ',np.mean(v_range_cm))\n",
    "\n",
    "\n",
    "power_j = Parallel(n_jobs=n_cores,verbose=5)(delayed(power)(open_angle[i],d,elec_density[i],len_min[i],v_range_cm[i]) for i in range(n_iter))\n",
    "\n",
    "median = np.percentile(power_j,50)\n",
    "low_lim = np.percentile(power_j,16)\n",
    "high_lim = np.percentile(power_j,84)\n",
    "print('Median =',median,'Lower limit = ',low_lim,'Upper limit = ',high_lim)"
   ]
  },
  {
   "cell_type": "code",
   "execution_count": 32,
   "id": "4501295f-7ca7-430c-bb78-32d736da3a63",
   "metadata": {},
   "outputs": [
    {
     "name": "stderr",
     "output_type": "stream",
     "text": [
      "[Parallel(n_jobs=16)]: Using backend LokyBackend with 16 concurrent workers.\n",
      "[Parallel(n_jobs=16)]: Done  48 tasks      | elapsed:    0.0s\n",
      "[Parallel(n_jobs=16)]: Done 512 tasks      | elapsed:    0.1s\n"
     ]
    },
    {
     "name": "stdout",
     "output_type": "stream",
     "text": [
      "Median = 5.063445361377839e+37 Lower limit =  5.32659769413681e+36 Upper limit =  2.4047599717926502e+38\n"
     ]
    },
    {
     "name": "stderr",
     "output_type": "stream",
     "text": [
      "[Parallel(n_jobs=16)]: Done 4224 tasks      | elapsed:    0.2s\n",
      "[Parallel(n_jobs=16)]: Done 4969 out of 5000 | elapsed:    0.3s remaining:    0.0s\n",
      "[Parallel(n_jobs=16)]: Done 5000 out of 5000 | elapsed:    0.3s finished\n"
     ]
    }
   ],
   "source": [
    "power_juv = Parallel(n_jobs=n_cores,verbose=5)(delayed(power)(open_angle[i],d,elec_densityuv[i],len_min[i],v_range_cm[i]) for i in range(n_iter))\n",
    "\n",
    "median = np.percentile(power_juv,50)\n",
    "low_lim = np.percentile(power_juv,16)\n",
    "high_lim = np.percentile(power_juv,84)\n",
    "print('Median =',median,'Lower limit = ',low_lim,'Upper limit = ',high_lim)"
   ]
  },
  {
   "cell_type": "code",
   "execution_count": 33,
   "id": "ea525113",
   "metadata": {},
   "outputs": [
    {
     "data": {
      "image/png": "[encoded data removed]",
      "text/plain": [
       "<Figure size 640x480 with 1 Axes>"
      ]
     },
     "metadata": {},
     "output_type": "display_data"
    }
   ],
   "source": [
    "### PLOT\n",
    "histplot = plt.hist(power_j,bins=70,color='royalblue',edgecolor='blue',density=True,alpha=0.7)\n",
    "plt.vlines([low_lim,high_lim],0,max(histplot[0])*1.1,linestyles=':',colors='midnightblue')\n",
    "plt.vlines(median,0,max(histplot[0])*1.1,linestyles=':',colors='midnightblue')\n",
    "plt.ylim(0,max(histplot[0])*1.1)\n",
    "plt.ylabel('Probability density', fontsize=12)\n",
    "plt.xlabel('Power', fontsize=12)\n",
    "#plt.xlim(0,400)\n",
    "#plt.title(str(name))\n",
    "plt.minorticks_on()\n",
    "plt.tick_params(axis='both', which='major', labelsize=12)\n",
    "plt.tick_params(axis='both', which='major', length=9)\n",
    "plt.tick_params(axis='both', which='minor', length=4.5)\n",
    "plt.tick_params(axis='both', which='both',direction='in',right=True,top=True)\n",
    "#plt.savefig(str(name)+'_peculiar_velocity.png')\n",
    "plt.show()"
   ]
  },
  {
   "cell_type": "markdown",
   "id": "1e1320ae-010e-452c-ab58-ddb96d4c545e",
   "metadata": {},
   "source": [
    "##### 4A) Total injected power"
   ]
  },
  {
   "cell_type": "code",
   "execution_count": 34,
   "id": "0a93b23d-e3a8-40ef-ae81-bbc7f9e28bdb",
   "metadata": {},
   "outputs": [
    {
     "name": "stdout",
     "output_type": "stream",
     "text": [
      "8.621934887083594e+47\n"
     ]
    }
   ],
   "source": [
    "def totalpower(Pjet,jet_age):\n",
    "    Ptot = Pjet*jet_age \n",
    "    return Ptot\n",
    "\n",
    "powtot = totalpower(Qjetmin,tsmin)\n",
    "print(powtot)"
   ]
  },
  {
   "cell_type": "code",
   "execution_count": 35,
   "id": "8b226c34-6729-4e72-9407-9fc9ded587ac",
   "metadata": {},
   "outputs": [
    {
     "name": "stderr",
     "output_type": "stream",
     "text": [
      "[Parallel(n_jobs=16)]: Using backend LokyBackend with 16 concurrent workers.\n"
     ]
    },
    {
     "name": "stdout",
     "output_type": "stream",
     "text": [
      "Median = 1.2794104160241416e+45 Lower limit =  1.821756771572416e+44 Upper limit =  5.0187607791916455e+45\n"
     ]
    },
    {
     "name": "stderr",
     "output_type": "stream",
     "text": [
      "[Parallel(n_jobs=16)]: Done  48 tasks      | elapsed:    0.0s\n",
      "[Parallel(n_jobs=16)]: Done 512 tasks      | elapsed:    0.1s\n",
      "[Parallel(n_jobs=16)]: Done 4224 tasks      | elapsed:    0.1s\n",
      "[Parallel(n_jobs=16)]: Done 4969 out of 5000 | elapsed:    0.1s remaining:    0.0s\n",
      "[Parallel(n_jobs=16)]: Done 5000 out of 5000 | elapsed:    0.1s finished\n"
     ]
    }
   ],
   "source": [
    "totpower_j = Parallel(n_jobs=n_cores,verbose=5)(delayed(totalpower)(power_j[i], t_age[i]) for i in range(n_iter))\n",
    "median = np.percentile(totpower_j,50)\n",
    "low_lim = np.percentile(totpower_j,16)\n",
    "high_lim = np.percentile(totpower_j,84)\n",
    "print('Median =',median*(365.0*24.0*60.0*60.0),'Lower limit = ',low_lim*(365.0*24.0*60.0*60.0),'Upper limit = ',high_lim*(365.0*24.0*60.0*60.0))"
   ]
  },
  {
   "cell_type": "markdown",
   "id": "4702b786-4495-4730-84d0-15b476cf3301",
   "metadata": {},
   "source": [
    "##### 4B) Jet pressure\n"
   ]
  },
  {
   "cell_type": "code",
   "execution_count": 36,
   "id": "4bcfc08b",
   "metadata": {},
   "outputs": [
    {
     "name": "stderr",
     "output_type": "stream",
     "text": [
      "[Parallel(n_jobs=16)]: Using backend LokyBackend with 16 concurrent workers.\n",
      "[Parallel(n_jobs=16)]: Done  48 tasks      | elapsed:    0.0s\n",
      "[Parallel(n_jobs=16)]: Done 512 tasks      | elapsed:    0.1s\n",
      "[Parallel(n_jobs=16)]: Done 4224 tasks      | elapsed:    0.2s\n"
     ]
    },
    {
     "name": "stdout",
     "output_type": "stream",
     "text": [
      "Median = 2.032839275842751e-10 Lower limit =  2.847500564152863e-11 Upper limit =  7.825964176969326e-10\n"
     ]
    },
    {
     "name": "stderr",
     "output_type": "stream",
     "text": [
      "[Parallel(n_jobs=16)]: Done 4969 out of 5000 | elapsed:    0.3s remaining:    0.0s\n",
      "[Parallel(n_jobs=16)]: Done 5000 out of 5000 | elapsed:    0.3s finished\n"
     ]
    }
   ],
   "source": [
    "press_j = Parallel(n_jobs=n_cores,verbose=5)(delayed(press)(open_angle[i],d,elec_density[i],len_min[i],v_range_cm[i]) for i in range(n_iter))\n",
    "\n",
    "median = np.percentile(press_j,50)\n",
    "low_lim = np.percentile(press_j,16)\n",
    "high_lim = np.percentile(press_j,84)\n",
    "print('Median =',median,'Lower limit = ',low_lim,'Upper limit = ',high_lim)"
   ]
  },
  {
   "cell_type": "code",
   "execution_count": 37,
   "id": "cb1a4389",
   "metadata": {},
   "outputs": [
    {
     "data": {
      "image/png": "[encoded data removed]",
      "text/plain": [
       "<Figure size 640x480 with 1 Axes>"
      ]
     },
     "metadata": {},
     "output_type": "display_data"
    }
   ],
   "source": [
    "### PLOT\n",
    "#print('Median =',median,'; Lower limit = ',low_lim,'; Upper limit = ',high_lim)\n",
    "histplot = plt.hist(press_j,bins=70,color='royalblue',edgecolor='blue',density=True,alpha=0.7)\n",
    "plt.vlines([low_lim,high_lim],0,max(histplot[0])*1.1,linestyles=':',colors='midnightblue')\n",
    "plt.vlines(median,0,max(histplot[0])*1.1,linestyles=':',colors='midnightblue')\n",
    "plt.ylim(0,max(histplot[0])*1.1)\n",
    "plt.ylabel('Probability density', fontsize=12)\n",
    "plt.xlabel('Pressure', fontsize=12)\n",
    "#plt.xlim(0,400)\n",
    "#plt.title(str(name))\n",
    "plt.minorticks_on()\n",
    "plt.tick_params(axis='both', which='major', labelsize=12)\n",
    "plt.tick_params(axis='both', which='major', length=9)\n",
    "plt.tick_params(axis='both', which='minor', length=4.5)\n",
    "plt.tick_params(axis='both', which='both',direction='in',right=True,top=True)\n",
    "#plt.savefig(str(name)+'_peculiar_velocity.png')\n",
    "plt.show()"
   ]
  },
  {
   "cell_type": "markdown",
   "id": "0cb8fa50",
   "metadata": {},
   "source": [
    "### 5) Pseudo constant\n"
   ]
  },
  {
   "cell_type": "code",
   "execution_count": 38,
   "id": "1d35803a",
   "metadata": {},
   "outputs": [],
   "source": [
    "open_a = np.random.uniform(1,o_a, n_iter) #opening angle\n",
    "g_c = np.random.uniform(4/3,5/3, n_iter) \n",
    "g_j = np.random.uniform(4/3,5/3, n_iter) "
   ]
  },
  {
   "cell_type": "code",
   "execution_count": 39,
   "id": "3ef3ed5d",
   "metadata": {},
   "outputs": [
    {
     "name": "stderr",
     "output_type": "stream",
     "text": [
      "[Parallel(n_jobs=16)]: Using backend LokyBackend with 16 concurrent workers.\n",
      "[Parallel(n_jobs=16)]: Done  48 tasks      | elapsed:    0.0s\n",
      "[Parallel(n_jobs=16)]: Done 512 tasks      | elapsed:    0.1s\n",
      "[Parallel(n_jobs=16)]: Done 4224 tasks      | elapsed:    0.2s\n"
     ]
    },
    {
     "name": "stdout",
     "output_type": "stream",
     "text": [
      "Median = 4.396947195498367 ; Lower limit =  3.673687969405048 ; Upper limit =  6.106664684788413\n"
     ]
    },
    {
     "name": "stderr",
     "output_type": "stream",
     "text": [
      "[Parallel(n_jobs=16)]: Done 4969 out of 5000 | elapsed:    0.3s remaining:    0.0s\n",
      "[Parallel(n_jobs=16)]: Done 5000 out of 5000 | elapsed:    0.3s finished\n"
     ]
    }
   ],
   "source": [
    "ce_1 = Parallel(n_jobs=n_cores,verbose=5)(delayed(C_cons)(g_c[i],g_j[i],(5.0/3),open_a[i]) for i in range(n_iter))\n",
    "\n",
    "median = np.percentile(ce_1,50)\n",
    "low_lim = np.percentile(ce_1,16)\n",
    "high_lim = np.percentile(ce_1,84)\n",
    "print('Median =',median,'; Lower limit = ',low_lim,'; Upper limit = ',high_lim)"
   ]
  },
  {
   "cell_type": "code",
   "execution_count": 40,
   "id": "4a4fd0db",
   "metadata": {},
   "outputs": [
    {
     "name": "stdout",
     "output_type": "stream",
     "text": [
      "Median = 4.396947195498367 ; Lower limit =  3.673687969405048 ; Upper limit =  6.106664684788413\n"
     ]
    },
    {
     "data": {
      "image/png": "[encoded data removed]",
      "text/plain": [
       "<Figure size 640x480 with 1 Axes>"
      ]
     },
     "metadata": {},
     "output_type": "display_data"
    }
   ],
   "source": [
    "### PLOT\n",
    "print('Median =',median,'; Lower limit = ',low_lim,'; Upper limit = ',high_lim)\n",
    "histplot = plt.hist(ce_1,bins=70,color='royalblue',edgecolor='blue',density=True,alpha=0.7)\n",
    "plt.vlines([low_lim,high_lim],0,max(histplot[0])*1.1,linestyles=':',colors='midnightblue')\n",
    "plt.vlines(median,0,max(histplot[0])*1.1,linestyles=':',colors='midnightblue')\n",
    "plt.ylim(0,max(histplot[0])*1.1)\n",
    "plt.ylabel('Probability density', fontsize=12)\n",
    "plt.xlabel('C1 constant', fontsize=12)\n",
    "#plt.xlim(0,400)\n",
    "plt.title('Varying all three')\n",
    "plt.minorticks_on()\n",
    "plt.tick_params(axis='both', which='major', labelsize=12)\n",
    "plt.tick_params(axis='both', which='major', length=9)\n",
    "plt.tick_params(axis='both', which='minor', length=4.5)\n",
    "plt.tick_params(axis='both', which='both',direction='in',right=True,top=True)\n",
    "#plt.savefig(str(name)+'_peculiar_velocity.png')\n",
    "plt.show()"
   ]
  },
  {
   "cell_type": "code",
   "execution_count": 41,
   "id": "85380a56",
   "metadata": {},
   "outputs": [
    {
     "name": "stderr",
     "output_type": "stream",
     "text": [
      "[Parallel(n_jobs=16)]: Using backend LokyBackend with 16 concurrent workers.\n",
      "[Parallel(n_jobs=16)]: Done  48 tasks      | elapsed:    0.0s\n",
      "[Parallel(n_jobs=16)]: Done 512 tasks      | elapsed:    0.1s\n",
      "[Parallel(n_jobs=16)]: Done 4224 tasks      | elapsed:    0.2s\n"
     ]
    },
    {
     "name": "stdout",
     "output_type": "stream",
     "text": [
      "Median = 4.228298243302703 ; Lower limit =  3.5246880761027373 ; Upper limit =  5.879026958634341\n"
     ]
    },
    {
     "name": "stderr",
     "output_type": "stream",
     "text": [
      "[Parallel(n_jobs=16)]: Done 4969 out of 5000 | elapsed:    0.2s remaining:    0.0s\n",
      "[Parallel(n_jobs=16)]: Done 5000 out of 5000 | elapsed:    0.2s finished\n"
     ]
    }
   ],
   "source": [
    "ce_1 = Parallel(n_jobs=n_cores,verbose=5)(delayed(C_cons)(g_c[i],(5.0/3),(5.0/3),open_a[i]) for i in range(n_iter))\n",
    "\n",
    "median = np.percentile(ce_1,50)\n",
    "low_lim = np.percentile(ce_1,16)\n",
    "high_lim = np.percentile(ce_1,84)\n",
    "print('Median =',median,'; Lower limit = ',low_lim,'; Upper limit = ',high_lim)"
   ]
  },
  {
   "cell_type": "code",
   "execution_count": 42,
   "id": "474d0cbd",
   "metadata": {},
   "outputs": [
    {
     "name": "stdout",
     "output_type": "stream",
     "text": [
      "Median = 4.228298243302703 ; Lower limit =  3.5246880761027373 ; Upper limit =  5.879026958634341\n"
     ]
    },
    {
     "data": {
      "image/png": "[encoded data removed]",
      "text/plain": [
       "<Figure size 640x480 with 1 Axes>"
      ]
     },
     "metadata": {},
     "output_type": "display_data"
    }
   ],
   "source": [
    "#PLOT\n",
    "print('Median =',median,'; Lower limit = ',low_lim,'; Upper limit = ',high_lim)\n",
    "histplot = plt.hist(ce_1,bins=70,color='Purple',edgecolor='black',density=True,alpha=0.7)\n",
    "plt.vlines([low_lim,high_lim],0,max(histplot[0])*1.1,linestyles=':',colors='midnightblue')\n",
    "plt.vlines(median,0,max(histplot[0])*1.1,linestyles=':',colors='midnightblue')\n",
    "plt.ylim(0,max(histplot[0])*1.1)\n",
    "plt.ylabel('Probability density', fontsize=12)\n",
    "plt.xlabel('C1 constant', fontsize=12)\n",
    "#plt.xlim(0,400)\n",
    "plt.title('Without varying g_j')\n",
    "plt.minorticks_on()\n",
    "plt.tick_params(axis='both', which='major', labelsize=12)\n",
    "plt.tick_params(axis='both', which='major', length=9)\n",
    "plt.tick_params(axis='both', which='minor', length=4.5)\n",
    "plt.tick_params(axis='both', which='both',direction='in',right=True,top=True)\n",
    "#plt.savefig(str(name)+'_peculiar_velocity.png')\n",
    "plt.show()"
   ]
  },
  {
   "cell_type": "code",
   "execution_count": 43,
   "id": "eb459401",
   "metadata": {},
   "outputs": [
    {
     "name": "stderr",
     "output_type": "stream",
     "text": [
      "[Parallel(n_jobs=16)]: Using backend LokyBackend with 16 concurrent workers.\n",
      "[Parallel(n_jobs=16)]: Done  48 tasks      | elapsed:    0.0s\n",
      "[Parallel(n_jobs=16)]: Done 512 tasks      | elapsed:    0.1s\n",
      "[Parallel(n_jobs=16)]: Done 4224 tasks      | elapsed:    0.2s\n"
     ]
    },
    {
     "name": "stdout",
     "output_type": "stream",
     "text": [
      "Median = 4.39711184147335 ; Lower limit =  3.67731407934992 ; Upper limit =  6.106505571194216\n"
     ]
    },
    {
     "name": "stderr",
     "output_type": "stream",
     "text": [
      "[Parallel(n_jobs=16)]: Done 4969 out of 5000 | elapsed:    0.2s remaining:    0.0s\n",
      "[Parallel(n_jobs=16)]: Done 5000 out of 5000 | elapsed:    0.2s finished\n"
     ]
    }
   ],
   "source": [
    "ce_1 = Parallel(n_jobs=n_cores,verbose=5)(delayed(C_cons)((5.0/3),g_j[i],(5.0/3),open_a[i]) for i in range(n_iter))\n",
    "\n",
    "median = np.percentile(ce_1,50)\n",
    "low_lim = np.percentile(ce_1,16)\n",
    "high_lim = np.percentile(ce_1,84)\n",
    "print('Median =',median,'; Lower limit = ',low_lim,'; Upper limit = ',high_lim)"
   ]
  },
  {
   "cell_type": "code",
   "execution_count": 44,
   "id": "cd3ec772",
   "metadata": {},
   "outputs": [
    {
     "name": "stdout",
     "output_type": "stream",
     "text": [
      "Median = 4.39711184147335 ; Lower limit =  3.67731407934992 ; Upper limit =  6.106505571194216\n"
     ]
    },
    {
     "data": {
      "image/png": "[encoded data removed]",
      "text/plain": [
       "<Figure size 640x480 with 1 Axes>"
      ]
     },
     "metadata": {},
     "output_type": "display_data"
    }
   ],
   "source": [
    "#PLOT\n",
    "print('Median =',median,'; Lower limit = ',low_lim,'; Upper limit = ',high_lim)\n",
    "histplot = plt.hist(ce_1,bins=70,color='pink',edgecolor='magenta',density=True,alpha=0.7)\n",
    "plt.vlines([low_lim,high_lim],0,max(histplot[0])*1.1,linestyles=':',colors='midnightblue')\n",
    "plt.vlines(median,0,max(histplot[0])*1.1,linestyles=':',colors='midnightblue')\n",
    "plt.ylim(0,max(histplot[0])*1.1)\n",
    "plt.ylabel('Probability density', fontsize=12)\n",
    "plt.xlabel('C1 constant', fontsize=12)\n",
    "#plt.xlim(0,400)\n",
    "plt.title('Without varying g_c')\n",
    "plt.minorticks_on()\n",
    "plt.tick_params(axis='both', which='major', labelsize=12)\n",
    "plt.tick_params(axis='both', which='major', length=9)\n",
    "plt.tick_params(axis='both', which='minor', length=4.5)\n",
    "plt.tick_params(axis='both', which='both',direction='in',right=True,top=True)\n",
    "#plt.savefig(str(name)+'_peculiar_velocity.png')\n",
    "plt.show()"
   ]
  },
  {
   "cell_type": "markdown",
   "id": "cf539f33",
   "metadata": {},
   "source": [
    "# Other simple jet estimate"
   ]
  },
  {
   "cell_type": "markdown",
   "id": "cf14c1b2",
   "metadata": {},
   "source": [
    "### 1) Enthalpy"
   ]
  },
  {
   "cell_type": "markdown",
   "id": "18da7e40",
   "metadata": {},
   "source": [
    "Often in the AGN community the jet power is estimated by calculating the enthalpy and dividing by an appropriate timescale. Enthalpy is defined as  $dH = dU + pdV$ (from thermodynamics). It includes the energy stored in a volume and the work done in excavating it, so it measures the total energy/heat input by the jet. \n",
    "\n",
    "Enthalpy of an ideal gas with adiabatic index $\\gamma$ is given by \n",
    "$$\n",
    "H = U + P V = \\frac{PV}{(\\gamma -1)} + PV \n",
    "$$\n",
    "which for non-relavistic ideal gas comes out as $H= 4 PV$. The jet power is thus\n",
    "\n",
    "$$\n",
    "Q = \\frac{4PV}{\\tau}\n",
    "$$\n",
    "\n",
    "where: \n",
    "* $P$ is the the pressure from the minimum energy condition applied to synchrotron emission from the lobes\n",
    "* $V$ is the the volume from assuming a spherical bubble with radius equal to the approximate radius of the bubble near GRS 1915\n",
    "* $\\tau$ is the the jet age from the jet length divided by the bow shock velocity \n",
    "\n",
    "From above we have that the minimum energy pressure in the lobe is $P \\sim 1.3\\times 10^{-12}~{\\rm erg~s^{-1}}$. \n",
    "\n",
    "We assume that the lobe is a cylinder with length equal to the source-to-bow shock distance, and width equal to the lobe width. \n",
    "\n",
    "This implies a volume of the order $10^{60}$ cm$^3$. \n",
    "The (upper limit to the) jet age $\\tau$ is around $1.1$ Myr from the self-similar estimate (but this is the same order  as just lengh/shock velocity $L/\\dot{L}$. \n",
    "\n",
    "Putting this all together we get:\n",
    "$$\n",
    "Q  \\sim 1.2\\times 10^{35}~{\\rm erg~s}^{-1} \n",
    "$$\n",
    "which is not too far our estimate from the self-similar model. Note that this is a lower limit because we used an upper limit for $\\tau$. Additioanlly, it's easy for this to be higher, as a the presence of a non radiating pressure component (and/or a non volume filling synchrotron plasma) would increase the value. \n",
    "\n",
    "If we take the pressure from the self-similar model (but on this case the estimate is not indipendent any more), then the pressure inside the lobe is $P \\sim 3.6\\times 10^{-11}~{\\rm erg~s^{-1}}$, and the enthaly becomes: \n",
    "$$\n",
    "Q  \\sim 3.6\\times 10^{36}~{\\rm erg~s}^{-1} \n",
    "$$\n",
    "\n",
    "In the simulation below we see that if we calculate properly the limits, this estimate is perfectly consistent with the jet energy estimated in the self similar model. "
   ]
  },
  {
   "cell_type": "code",
   "execution_count": 45,
   "id": "fab5cfe5",
   "metadata": {},
   "outputs": [
    {
     "name": "stdout",
     "output_type": "stream",
     "text": [
      "Lobe Volume ellipsoidal [cm**3] ~  5.993e+59\n",
      "Lobe Volume cylinder [cm**3] ~  8.990e+59\n",
      "Average jet power (ellipsoidal) [erg/s] (H) ~  2.558e+35\n",
      "Average jet power (cylinder) [erg/s] (H) ~  3.837e+35\n"
     ]
    }
   ],
   "source": [
    "def enthalpy(P,Vlobe,tau):\n",
    "    QH = 4*P*Vlobe/tau\n",
    "    return QH\n",
    "\n",
    "\n",
    "P = pminlobe\n",
    "Llobe = discm\n",
    "tau = tsmax_sim*(365.*24.*60*60)*1.0E+6\n",
    "Blobe = lobesizecm\n",
    "VlobeCyl = np.pi*(Llobe)*(Blobe/2)**2     # Assuming that the volume here is cylinder\n",
    "                                       # with length equal to the source-to-bow shock\n",
    "                                       # distance, and the width is the lobe width.  \n",
    "\n",
    "Vlobe = 4/3*np.pi*(Llobe/2)*(Blobe/2)**2 # Assuming that the volume here is an ellipsoidal shape\n",
    "                                        # with length equal to the source-to-bow shock\n",
    "                                        # distance, and the width is the lobe width.  \n",
    "\n",
    "QH  = enthalpy(P,Vlobe,tau)\n",
    "QHcyl  = enthalpy(P,VlobeCyl,tau)\n",
    "\n",
    "print('Lobe Volume ellipsoidal [cm**3] ~ ', '{:.3e}'.format(Vlobe))\n",
    "print('Lobe Volume cylinder [cm**3] ~ ', '{:.3e}'.format(VlobeCyl))\n",
    "\n",
    "print('Average jet power (ellipsoidal) [erg/s] (H) ~ ', '{:.3e}'.format(QH))\n",
    "print('Average jet power (cylinder) [erg/s] (H) ~ ', '{:.3e}'.format(QHcyl))"
   ]
  },
  {
   "cell_type": "code",
   "execution_count": 46,
   "id": "d6b1c9aa",
   "metadata": {},
   "outputs": [
    {
     "name": "stderr",
     "output_type": "stream",
     "text": [
      "[Parallel(n_jobs=16)]: Using backend LokyBackend with 16 concurrent workers.\n",
      "[Parallel(n_jobs=16)]: Done  48 tasks      | elapsed:    0.0s\n",
      "[Parallel(n_jobs=16)]: Done 512 tasks      | elapsed:    0.0s\n"
     ]
    },
    {
     "name": "stdout",
     "output_type": "stream",
     "text": [
      "Median = 1.1668316048161157e+38 ; Lower limit =  1.2361201501827133e+37 ; Upper limit =  5.720767715513208e+38\n"
     ]
    },
    {
     "name": "stderr",
     "output_type": "stream",
     "text": [
      "[Parallel(n_jobs=16)]: Done 4224 tasks      | elapsed:    0.1s\n",
      "[Parallel(n_jobs=16)]: Done 4969 out of 5000 | elapsed:    0.1s remaining:    0.0s\n",
      "[Parallel(n_jobs=16)]: Done 5000 out of 5000 | elapsed:    0.1s finished\n"
     ]
    }
   ],
   "source": [
    "tau = np.multiply(t_age,(365.0*24.0*60.0*60.0)*1.0E+6)\n",
    "\n",
    "QHdis = Parallel(n_jobs=n_cores,verbose=5)(delayed(enthalpy)(press_j[i],Vlobe,tau[i]) for i in range(n_iter))\n",
    "\n",
    "median = np.percentile(QHdis,50)\n",
    "low_lim = np.percentile(QHdis,16)\n",
    "high_lim = np.percentile(QHdis,84)\n",
    "print('Median =',median,'; Lower limit = ',low_lim,'; Upper limit = ',high_lim)"
   ]
  },
  {
   "cell_type": "markdown",
   "id": "68896132",
   "metadata": {},
   "source": [
    "### 2) The \"Hotspot Method\""
   ]
  },
  {
   "cell_type": "markdown",
   "id": "88e98976",
   "metadata": {},
   "source": [
    "Under the assumption of equipartition, Godfrey and Shabala (https://arxiv.org/abs/1301.3499) give the hotspot power as \n",
    "\n",
    "$$\n",
    "Q_{\\rm GS} = A c \\frac{B_{\\rm eq}^2}{8\\pi} g\n",
    "$$\n",
    "\n",
    "where $g$ is a complicated expression which we could evaluate, but for the simplicity's sake we will take their estimate of $g \\approx 2$ from the AGN case. $A$ is the area of the hotspot surface, which we will assume is a circular surface with radius $R \\approx 7.6 \\times 10^{18}~{\\rm cm}$ based on the are of the elongated feature north-west from the IRAS region. The minimum energy magnetic field as estimated above is as $22~{\\rm \\mu G}$. \n",
    "We thus have: \n",
    "\n",
    "$$\n",
    "Q_{\\rm GS} = A c \\frac{B_{\\rm eq}^2}{8\\pi} = 2 \\pi R^2 c \\frac{B_{\\rm eq}^2}{8\\pi} \\sim 1.7 \\times 10^{36}~{\\rm erg~s}^{-1}\n",
    "$$\n",
    "\n",
    "We note that this is once more a lover limit, and, again, departures from equipartition will increase this estimate, which is already remarkably consistent with the \"average\" power estimate above. "
   ]
  },
  {
   "cell_type": "code",
   "execution_count": 47,
   "id": "640e9c7a",
   "metadata": {},
   "outputs": [],
   "source": [
    "def hotspotpower(rcyl,lencyl,Bmin):\n",
    "    A = 2*rcyl*lencyl\n",
    "    QHS =  A*c*Bmin**2/(8*np.pi)\n",
    "    return QHS\n",
    "\n",
    "QHS = hotspotpower(rcylcm,lencylcm,Bmin)"
   ]
  },
  {
   "cell_type": "code",
   "execution_count": 48,
   "id": "1c61c490",
   "metadata": {},
   "outputs": [
    {
     "name": "stdout",
     "output_type": "stream",
     "text": [
      "Average jet power (GS) ~ 1.727e+36\n"
     ]
    }
   ],
   "source": [
    "print('Average jet power (GS) ~', '{:.3e}'.format(QHS))"
   ]
  },
  {
   "cell_type": "markdown",
   "id": "7d0ef941",
   "metadata": {},
   "source": [
    "(No simulation here 'cause there's no distribution to build)."
   ]
  },
  {
   "cell_type": "markdown",
   "id": "9703a3c0-4ad1-4fdd-96f3-604a955d5ead",
   "metadata": {},
   "source": [
    "## Jet power constraint from proper motion time "
   ]
  },
  {
   "cell_type": "code",
   "execution_count": 49,
   "id": "34f636d3-7454-4c0c-ac24-737d2d165a74",
   "metadata": {},
   "outputs": [
    {
     "name": "stdout",
     "output_type": "stream",
     "text": [
      ">> Lower limit on Temperature as set by the proper motion (0.17 My to slice through IRAS) ~ 7.656e+05\n"
     ]
    }
   ],
   "source": [
    "disasec =disamin*60 #lobe target seperation in arcsec (projected)\n",
    "dispc = disasec*d10*10*1e3*4.8*1e-6  #lobe target separation in pc (projected)\n",
    "discmP = dispc*pc #lobe target sepeartion in cm (projected)\n",
    "discm = discmP/np.sin(incl*np.pi/180) #lobe target de-projected seperation to account for the inclination angle\n",
    "\n",
    "L = discm\n",
    "tauup = 0.17*(365.*24.*60*60)*1.0E+6           #upper limit to jet age\n",
    "Tlow = ((3*L/(5*tauup))**2)*((3*mh)/(16*kb))  #lower limit to temperature\n",
    "neup = nesph(d10*10,Firas,Riras,Tlow,nu,Z)\n",
    "\n",
    "print('>> Lower limit on Temperature as set by the proper motion (0.17 My to slice through IRAS) ~','{:.3e}'.format(Tlow))\n"
   ]
  },
  {
   "cell_type": "markdown",
   "id": "f486d5f9",
   "metadata": {},
   "source": [
    "### All the important quantities in one place"
   ]
  },
  {
   "cell_type": "code",
   "execution_count": 50,
   "id": "d93fa8f7",
   "metadata": {},
   "outputs": [
    {
     "name": "stdout",
     "output_type": "stream",
     "text": [
      "---- IRAS ---- \n",
      "IRAS diameter [arcsec and pc] = 3.600e+01  and  1.624e+00\n",
      "IRAS volume [cm] = 6.595e+55\n",
      "IRAS flux density [mJy] = 5.700e+01\n",
      "Electron temperature [K] = 1.000e+04 - 3.000e+06\n",
      "Shock-compressed Electron density [particles/cm3] = 3.951e+02 - 6.300e+02\n",
      "Pre-Shock Electron density [particles/cm3] = 9.877e+01 - 1.575e+02\n",
      "Shock velocity [Km/s] = 2.098e+01 - 3.633e+02\n",
      "Pressure inside IRAS (ideal gas conditions) [erg/cm3] (Pideal) =  2.575e-10  and  7.725e-08\n",
      "Pressure in ISM (ideal gas conditions) [erg/cm3] = 1.288e-12\n",
      "\n",
      " ---- Hot spot (Cylinder)----\n",
      "Cylinder flux density [mJy] = 5.200e+00\n",
      "Cylinder Integrated Luminosity [erg/s] (Lcy) = 1.998e+29\n",
      "Cylinder radius [arcsec and pc] = 3.900e+00  and  1.760e-01\n",
      "Cylinder length [arcsec and pc] = 1.740e+01  and  9.065e-01\n",
      "Cylinder Volume [cm3] =  and  2.592e+54\n",
      "Cylinder pressure [erg/cm3]  ~ 1.488e-11\n",
      "Cylinder magnetic field density [G] =  2.182e-05\n",
      "\n",
      " ---- Lobe ----\n",
      "Lobe flux density [mJy] = 1.500e-01\n",
      "Source-ring separation (projected) [arcsec and pc] ~  and  1.700e+01 4.602e+01\n",
      "Lobe diameter [arcmin and pc]  = 1.000e+01  and  2.707e+01\n",
      "Ring thickness [arcsec and pc] = 6.000e+01  and 2.707e+00\n",
      "Lobe Volume [cm**3] ~  5.993e+59\n",
      "Equipartition lobe pressure [erg/cm3] = 1.271e-12\n",
      "Jet pressure [erg/cm3] ~  2.286e-12\n",
      "Equipartition lobe magnetic field [G] = 6.377e-06\n",
      "\n",
      " ---- Energetics -----\n",
      "Jet age [Myr] = 9.352e-02  and  2.163e-01\n",
      "Jet power [erg/s]  ~  3.290e+37  and  1.509e+39\n",
      "Jet power Enthalpy [erg/s]  ~  1.236e+37  and  5.721e+38\n",
      "Jet power Hot Spot [erg/s]  ~  1.727e+36\n",
      "Jet pressure (inside IRAS) [erg/cm3] =  2.848e-11 - 7.826e-10\n",
      "Pseudo constant C  ~  3.302e+00  and  9.028e+00\n"
     ]
    }
   ],
   "source": [
    "print('---- IRAS ---- ')\n",
    "\n",
    "print('IRAS diameter [arcsec and pc] =', '{:.3e}'.format(Riras),' and ','{:.3e}'.format(Rirascm/pc))\n",
    "print('IRAS volume [cm] =', '{:.3e}'.format(Volsph))\n",
    "print('IRAS flux density [mJy] =','{:.3e}'.format(Firas*1000))\n",
    "print('Electron temperature [K] =','{:.3e}'.format(min(T_axis)),'-','{:.3e}'.format(max(T_axis)))\n",
    "print('Shock-compressed Electron density [particles/cm3] =','{:.3e}'.format(np.percentile(elec_density,16)),'-','{:.3e}'.format(np.percentile(elec_density,84)))\n",
    "print('Pre-Shock Electron density [particles/cm3] =','{:.3e}'.format(np.percentile(elec_density,16)/4),'-','{:.3e}'.format(np.percentile(elec_density,84)/4))\n",
    "\n",
    "print('Shock velocity [Km/s] =','{:.3e}'.format(min(v_range)),'-','{:.3e}'.format(max(v_range)))\n",
    "print('Pressure inside IRAS (ideal gas conditions) [erg/cm3] (Pideal) = ', '{:.3e}'.format(pidealmin),' and ', '{:.3e}'.format(pidealmax))\n",
    "\n",
    "print('Pressure in ISM (ideal gas conditions) [erg/cm3] =', '{:.3e}'.format(pidealunsh))\n",
    "\n",
    "\n",
    "print('\\n','---- Hot spot (Cylinder)----')\n",
    "\n",
    "print('Cylinder flux density [mJy] =','{:.3e}'.format(Fcyl*1000))\n",
    "print('Cylinder Integrated Luminosity [erg/s] (Lcy) =','{:.3e}'.format(Lcy))\n",
    "print('Cylinder radius [arcsec and pc] =','{:.3e}'.format(rcyl),' and ', '{:.3e}'.format(rcylcm/pc))\n",
    "print('Cylinder length [arcsec and pc] =','{:.3e}'.format(lencyl),' and ','{:.3e}'.format(lencylcm/pc))\n",
    "print('Cylinder Volume [cm3] =',' and ','{:.3e}'.format(VolCyl))\n",
    "print('Cylinder pressure [erg/cm3]  ~','{:.3e}'.format(pmincyl))\n",
    "print('Cylinder magnetic field density [G] = ','{:.3e}'.format(Bmin))\n",
    "\n",
    "\n",
    "print('\\n','---- Lobe ----')\n",
    "\n",
    "print('Lobe flux density [mJy] =','{:.3e}'.format(Flobe*1000))\n",
    "print('Source-ring separation (projected) [arcsec and pc] ~',' and ','{:.3e}'.format(disamin),'{:.3e}'.format(dispc))\n",
    "print('Lobe diameter [arcmin and pc]  =', '{:.3e}'.format(theam),' and ','{:.3e}'.format(lobesizecm/pc))\n",
    "print('Ring thickness [arcsec and pc] =','{:.3e}'.format(DR),' and','{:.3e}'.format(DRcm/pc))\n",
    "print('Lobe Volume [cm**3] ~ ', '{:.3e}'.format(Vlobe))\n",
    "print('Equipartition lobe pressure [erg/cm3] =','{:.3e}'.format(pminlobe))\n",
    "print('Jet pressure [erg/cm3] ~ ','{:.3e}'.format(pminjet))\n",
    "print('Equipartition lobe magnetic field [G] =','{:.3e}'.format(Bminlobe))\n",
    "\n",
    "print('\\n','---- Energetics -----')\n",
    "\n",
    "print('Jet age [Myr] =','{:.3e}'.format(np.percentile(t_age,16)),' and ','{:.3e}'.format(np.percentile(t_age,84)))\n",
    "print('Jet power [erg/s]  ~ ','{:.3e}'.format(np.percentile(power_j,16)),' and ','{:.3e}'.format(np.percentile(power_j,84)))\n",
    "print('Jet power Enthalpy [erg/s]  ~ ','{:.3e}'.format(np.percentile(QHdis,16)),' and ','{:.3e}'.format(np.percentile(QHdis,84)))\n",
    "print('Jet power Hot Spot [erg/s]  ~ ', '{:.3e}'.format(QHS))\n",
    "print('Jet pressure (inside IRAS) [erg/cm3] = ', '{:.3e}'.format(np.percentile(press_j,16)),'-','{:.3e}'.format(np.percentile(press_j,84)))\n",
    "print('Pseudo constant C  ~ ','{:.3e}'.format(min(ce_1)),' and ','{:.3e}'.format(max(ce_1)))\n",
    "\n"
   ]
  }
 ],
 "metadata": {
  "kernelspec": {
   "display_name": "Python 3 (ipykernel)",
   "language": "python",
   "name": "python3"
  },
  "language_info": {
   "codemirror_mode": {
    "name": "ipython",
    "version": 3
   },
   "file_extension": ".py",
   "mimetype": "text/x-python",
   "name": "python",
   "nbconvert_exporter": "python",
   "pygments_lexer": "ipython3",
   "version": "3.12.2"
  }
 },
 "nbformat": 4,
 "nbformat_minor": 5
}
